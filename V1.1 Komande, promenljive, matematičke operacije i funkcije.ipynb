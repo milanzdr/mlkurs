{
 "cells": [
  {
   "cell_type": "markdown",
   "metadata": {},
   "source": [
    "# Komande, promenljive, matematičke operacije i funkcije"
   ]
  },
  {
   "cell_type": "markdown",
   "metadata": {},
   "source": [
    "Python je interpreter. To znači da se program analizira i izvršava liniju po liniju, za razliku od kompajlera, koji skeniraju čitav kod i transformišu ga pre izvršenja u mašinski oblik. Programi, pisani u jezicima - kompajlerima se brže izvršavaju.\n",
    "\n",
    "Python je jezik kod kojeg se tipovi podataka koji se obrađuju utvrđuju u toku izvršenja programa - jezik sa dinamičkim tipovima. Kod jezika sa statičkim tipovima, tipovi promenljivih se unapred definišu od strane programera, proveravaju se pre izvršenja. Programi pisani u jezicima sa statičkim tipovima se brže izvršavaju.\n",
    "\n",
    "Python je jezik visokog nivoa. Programi pisani u Pythonu su kratki jer postoje komande uz pomoć kojih se vrše kompleksne operacije.\n",
    "\n",
    "Python program je niz komandi/funkcija koje se izvršavaju sekvencijalno. Često, jedan program je smešten u jednoj datoteci (ekstenzija .py). Komanda je instrukcija koja govori računaru šta da uradi, eventualno sa nekim podatkom."
   ]
  },
  {
   "cell_type": "code",
   "execution_count": 1,
   "metadata": {},
   "outputs": [
    {
     "name": "stdout",
     "output_type": "stream",
     "text": [
      "Hello world!\n"
     ]
    }
   ],
   "source": [
    "print('Hello world!')"
   ]
  },
  {
   "cell_type": "markdown",
   "metadata": {},
   "source": [
    "Python je proširiv jezik. Za kreiranje dodatnih funkcija se koristi jezik C. Veliki broj funkcija jezika se nalazi u paketima koji nisu sastavni deo osnovne distribucije interpretera. Da bi te funkcije mogle da se koriste, potrebno je pre njihovog korišćenja, uvesti pakete u kojima se one nalaze. \n",
    "\n",
    "Najveći broj funkcija vezanih za korišćenje jezika Python u rešavanju problema mašinskog učenje se nalazi u posebnim paketima. Najčešće korišćeni paketi su:\n",
    "- pandas, za ekstrakciju podataka i njihovu manipulaciju\n",
    "- numpy, za matematičke operacije sa vektorima i matricama\n",
    "- matplotlib, za vizuelizaciju podataka i\n",
    "- scikit-learn, sa algoritmima mašinskog učenja\n",
    "\n",
    "Za uvoz paketa, koristi se komanda import, nakon koje se navodi naziv paketa. Eventualno, navodi se i tzv. alias, odnosno slobodno definisan skup karaktera koji će se u programu koristiti kao referenca na uvezeni paket."
   ]
  },
  {
   "cell_type": "code",
   "execution_count": null,
   "metadata": {},
   "outputs": [],
   "source": [
    "import pandas as pd\n",
    "import numpy as np\n",
    "import matplotlib"
   ]
  },
  {
   "cell_type": "markdown",
   "metadata": {},
   "source": [
    "## Promenljive, matematičke operacije i funkcije"
   ]
  },
  {
   "cell_type": "markdown",
   "metadata": {},
   "source": [
    "Promenljive se koriste za skladištenje neke poznate ili nepoznate vrednosti i kasnije referenciranje ili manipulaciju te vrednosti. Svaku promenljivu karakterišu njen naziv, tip i trenutna vrednost. Ukoliko promenljivoj nije dodeljena nijedna vrednost, ona ne postoji."
   ]
  },
  {
   "cell_type": "code",
   "execution_count": 3,
   "metadata": {},
   "outputs": [
    {
     "ename": "NameError",
     "evalue": "name 'm' is not defined",
     "output_type": "error",
     "traceback": [
      "\u001b[1;31m---------------------------------------------------------------------------\u001b[0m",
      "\u001b[1;31mNameError\u001b[0m                                 Traceback (most recent call last)",
      "\u001b[1;32m<ipython-input-3-c384c0c7b6c7>\u001b[0m in \u001b[0;36m<module>\u001b[1;34m()\u001b[0m\n\u001b[1;32m----> 1\u001b[1;33m \u001b[0mprint\u001b[0m\u001b[1;33m(\u001b[0m\u001b[0mm\u001b[0m\u001b[1;33m)\u001b[0m\u001b[1;33m\u001b[0m\u001b[0m\n\u001b[0m",
      "\u001b[1;31mNameError\u001b[0m: name 'm' is not defined"
     ]
    }
   ],
   "source": [
    "print(m)"
   ]
  },
  {
   "cell_type": "markdown",
   "metadata": {},
   "source": [
    "Promenljivama se dodeljuju nove ili menjaju postojeće vrednosti."
   ]
  },
  {
   "cell_type": "code",
   "execution_count": 4,
   "metadata": {},
   "outputs": [
    {
     "name": "stdout",
     "output_type": "stream",
     "text": [
      "10\n"
     ]
    }
   ],
   "source": [
    "m=10\n",
    "print(m)"
   ]
  },
  {
   "cell_type": "markdown",
   "metadata": {},
   "source": [
    "Vrednost promenljive se može promeniti u toku izvršenja programa."
   ]
  },
  {
   "cell_type": "code",
   "execution_count": 5,
   "metadata": {
    "slideshow": {
     "slide_type": "slide"
    }
   },
   "outputs": [
    {
     "name": "stdout",
     "output_type": "stream",
     "text": [
      "12\n"
     ]
    }
   ],
   "source": [
    "m=12\n",
    "print(m)"
   ]
  },
  {
   "cell_type": "markdown",
   "metadata": {},
   "source": [
    "Nad vrednostima promenljivih se mogu vršiti matematičke operacije. Sve matematičke operacije su podržane, a one se obavljaju korišćenjem odgovarajućih simbola."
   ]
  },
  {
   "cell_type": "code",
   "execution_count": 6,
   "metadata": {},
   "outputs": [
    {
     "name": "stdout",
     "output_type": "stream",
     "text": [
      "1.0694444444444444\n"
     ]
    }
   ],
   "source": [
    "n=4\n",
    "p=(2*m+130)/(n**4-112)\n",
    "print(p)"
   ]
  },
  {
   "cell_type": "markdown",
   "metadata": {},
   "source": [
    "Aritmetički operatori koji se koriste u Pythonu su:\n",
    "\n",
    "- '+' za sabiranje dva broja\n",
    "- '-' za oduzimanje dva broja\n",
    "- '*' za množenje dva broja\n",
    "- '/' za deljenje dva broja, uvek rezultuje podatkom tipa float\n",
    "- '%' za dobijanje ostatka deljenja dva broja. Na primer, 14%3=2\n",
    "- '//' za dobijanje zaokruženog (ka manjoj vrednosti) rezultata deljenja dva broja. Na primer, 3//2=1\n",
    "- '**' za dizanje na stepen jednog broja"
   ]
  },
  {
   "cell_type": "markdown",
   "metadata": {},
   "source": [
    "U zavisnosti od toga kakvu vrednost sadrži, jednu promenljivu karakteriše i njen tip. Osnovni tipovi promenljivih u Pythonu su:\n",
    "- Celobrojna vrednost - int\n",
    "- Broj sa decimalnom tačkom - float\n",
    "- Niz karaktera ili string - str\n",
    "- Binarni, koji mogu da sadrže samo dve vrednosti: True ili False - bool"
   ]
  },
  {
   "cell_type": "code",
   "execution_count": 7,
   "metadata": {},
   "outputs": [
    {
     "data": {
      "text/plain": [
       "int"
      ]
     },
     "execution_count": 7,
     "metadata": {},
     "output_type": "execute_result"
    }
   ],
   "source": [
    "c=10\n",
    "type(c)"
   ]
  },
  {
   "cell_type": "code",
   "execution_count": 8,
   "metadata": {},
   "outputs": [
    {
     "data": {
      "text/plain": [
       "float"
      ]
     },
     "execution_count": 8,
     "metadata": {},
     "output_type": "execute_result"
    }
   ],
   "source": [
    "d=10.1\n",
    "type(d)"
   ]
  },
  {
   "cell_type": "code",
   "execution_count": 9,
   "metadata": {},
   "outputs": [
    {
     "data": {
      "text/plain": [
       "str"
      ]
     },
     "execution_count": 9,
     "metadata": {},
     "output_type": "execute_result"
    }
   ],
   "source": [
    "e='Tekst'\n",
    "type(e)"
   ]
  },
  {
   "cell_type": "code",
   "execution_count": 10,
   "metadata": {},
   "outputs": [
    {
     "name": "stdout",
     "output_type": "stream",
     "text": [
      "<class 'bool'>\n"
     ]
    }
   ],
   "source": [
    "s=True\n",
    "o=type(s)\n",
    "print(o)"
   ]
  },
  {
   "cell_type": "markdown",
   "metadata": {},
   "source": [
    "Python funkcija omogućava manipulaciju vrednostima neke promenljive ili promenljivih (ove promenljive se nazivaju argumentima funkcije), odnosno dobijanje nove vrednosti i njeno dodeljivanje novoj ili postojećoj promenljivoj. Na primer, funkcija round omogućava zaokruživanje broja sa decimalnom tačkom, na zadati broj decimala."
   ]
  },
  {
   "cell_type": "code",
   "execution_count": 11,
   "metadata": {},
   "outputs": [
    {
     "name": "stdout",
     "output_type": "stream",
     "text": [
      "1.07\n"
     ]
    }
   ],
   "source": [
    "q=round(p,2)\n",
    "print(q)"
   ]
  },
  {
   "cell_type": "markdown",
   "metadata": {},
   "source": [
    "Da bi mogle da se koriste funkcije koje nisu sastavni deo interpretera, najpre se uvozi paket u kojem se one nalaze. Prilikom pozivanja funkcije, potrebno je navesti i naziv paketa ili njegov alias (ukoliko je on definisan)."
   ]
  },
  {
   "cell_type": "code",
   "execution_count": 12,
   "metadata": {},
   "outputs": [
    {
     "name": "stdout",
     "output_type": "stream",
     "text": [
      "2.0\n"
     ]
    }
   ],
   "source": [
    "import math as m\n",
    "r=m.sqrt(n)\n",
    "print(r)"
   ]
  },
  {
   "cell_type": "markdown",
   "metadata": {},
   "source": [
    "Navođenjem komande za uvoz paketa, u interpreter se uvoze sve funkcije koje se nalaze u tom paketu. Često, to opterećuje interpreter, odnosno utiče negativno na brzinu izvršenja programa. Da bi se ovo sprečilo, mogu da se uvoze samo pojedinačne funkcije."
   ]
  },
  {
   "cell_type": "code",
   "execution_count": 13,
   "metadata": {},
   "outputs": [
    {
     "name": "stdout",
     "output_type": "stream",
     "text": [
      "2.0\n"
     ]
    }
   ],
   "source": [
    "from math import sqrt\n",
    "r=sqrt(n)\n",
    "print(r)"
   ]
  },
  {
   "cell_type": "markdown",
   "metadata": {},
   "source": [
    "Operacije se mogu sprovoditi i nad podacima koji su tekstualnog tipa. Na primer, moguće je spojiti vrednosti više tekstualnih promenljivih."
   ]
  },
  {
   "cell_type": "code",
   "execution_count": 14,
   "metadata": {},
   "outputs": [
    {
     "name": "stdout",
     "output_type": "stream",
     "text": [
      "Spojeni tekst\n"
     ]
    }
   ],
   "source": [
    "s1='Spojeni'\n",
    "s2='tekst'\n",
    "s3=s1+' '+s2\n",
    "print(s3)"
   ]
  },
  {
   "cell_type": "markdown",
   "metadata": {},
   "source": [
    "Nije moguće spajanje tekstualnih podataka sa podacima drugih tipova na ovaj način. Da bi to bilo moguće, podaci drugih tipova moraju biti prethodno transformisani u podatke tekstualnog tipa i to korišćenjem funkcije str."
   ]
  },
  {
   "cell_type": "code",
   "execution_count": 15,
   "metadata": {},
   "outputs": [
    {
     "name": "stdout",
     "output_type": "stream",
     "text": [
      "Trenutna temperatura je: 42.0 stepena.\n"
     ]
    }
   ],
   "source": [
    "temp=42.0\n",
    "tks='Trenutna temperatura je: '\n",
    "print(tks+str(temp)+' stepena.')"
   ]
  }
 ],
 "metadata": {
  "kernelspec": {
   "display_name": "Python 3",
   "language": "python",
   "name": "python3"
  },
  "language_info": {
   "codemirror_mode": {
    "name": "ipython",
    "version": 3
   },
   "file_extension": ".py",
   "mimetype": "text/x-python",
   "name": "python",
   "nbconvert_exporter": "python",
   "pygments_lexer": "ipython3",
   "version": "3.7.0"
  }
 },
 "nbformat": 4,
 "nbformat_minor": 2
}
