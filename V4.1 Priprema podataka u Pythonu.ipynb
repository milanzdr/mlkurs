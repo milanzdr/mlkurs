{
 "cells": [
  {
   "cell_type": "markdown",
   "metadata": {},
   "source": [
    "# Priprema podataka u Pythonu"
   ]
  },
  {
   "cell_type": "markdown",
   "metadata": {},
   "source": [
    "Cilj pripreme podataka je višestruk i može se odnositi na dobijanje relevantnijeg skupa podataka (ponekad i na račun smanjene tačnosti predviđanja), poboljšanja performansi samog procesa učenja, kao i poboljšanje tačnosti modela.\n",
    "\n",
    "Priprema podataka obuhvata sledeće operacije nad skupom podataka:\n",
    "- Čišćenje podataka, odnosno definisanje tipova, rešavanje problema neispravnih formata\n",
    "- Tretman nedostajućih vrednosti\n",
    "- Tretman outliera\n",
    "- Transformacija zakošenih veličina (vrši se samo ukoliko se planira korišćenje algoritama koji podrazumevaju normalnu raspodelu)\n",
    "- Kreiranje polinomijalnih veličina (vrši se samo ukoliko se planira korišćenje parametarskih algoritama)\n",
    "- Klasterovanje i binarizacija (kao specijalan slučaj klasterovanja) - transformacija kontinualne u veličinu tipa kategorija\n",
    "- Skaliranje (normalizacija ili standardizacija)\n",
    "- Kodiranje podataka\n",
    "\n",
    "U demonstraciji pripreme podataka u Pythonu, koristi se skup podataka za predviđanje dijabetesa."
   ]
  },
  {
   "cell_type": "code",
   "execution_count": 1,
   "metadata": {},
   "outputs": [
    {
     "name": "stdout",
     "output_type": "stream",
     "text": [
      "<class 'pandas.core.frame.DataFrame'>\n",
      "RangeIndex: 768 entries, 0 to 767\n",
      "Data columns (total 9 columns):\n",
      "preg     768 non-null int64\n",
      "plas     768 non-null int64\n",
      "pres     768 non-null int64\n",
      "skin     768 non-null int64\n",
      "insu     768 non-null int64\n",
      "mass     768 non-null float64\n",
      "pedi     768 non-null float64\n",
      "age      768 non-null int64\n",
      "class    768 non-null object\n",
      "dtypes: float64(2), int64(6), object(1)\n",
      "memory usage: 54.1+ KB\n"
     ]
    }
   ],
   "source": [
    "import pandas as pd\n",
    "df=pd.read_csv('kurs_diabetes.csv', names=['preg','plas','pres','skin','insu','mass','pedi','age','class'])\n",
    "df.info()"
   ]
  },
  {
   "cell_type": "markdown",
   "metadata": {},
   "source": [
    "## Čišćenje podataka"
   ]
  },
  {
   "cell_type": "markdown",
   "metadata": {},
   "source": [
    "Ranije je, analizom podataka (što se jasno vidi na histogramima) utvrđeno da su u skupu podataka za utvrđivanje dijabetesa nedostajući podaci zamenjeni brojem 0. Zato, izvršenjem metode info() DataFrame objekta, njihovo postojanje nije utvrđeno."
   ]
  },
  {
   "cell_type": "code",
   "execution_count": 2,
   "metadata": {},
   "outputs": [
    {
     "data": {
      "text/plain": [
       "<Figure size 640x480 with 9 Axes>"
      ]
     },
     "metadata": {},
     "output_type": "display_data"
    }
   ],
   "source": [
    "from matplotlib import pyplot as plt\n",
    "df.hist()\n",
    "plt.show()"
   ]
  },
  {
   "cell_type": "markdown",
   "metadata": {},
   "source": [
    "Dole navedeni niz komandi vrši zamenu pojavljivanja 0 u svim numeričkim veličinama (osim pedi i age, za koje ne postoji vrednost 0) sa nedostajućom vrednosti. Zamena pojavljivanja 0 se vrši korišćenjem već prikazane metode manipulacije podskupa postojećih podataka, korišćenjem loc metode DataFrame objekta."
   ]
  },
  {
   "cell_type": "code",
   "execution_count": 3,
   "metadata": {},
   "outputs": [
    {
     "name": "stdout",
     "output_type": "stream",
     "text": [
      "<class 'pandas.core.frame.DataFrame'>\n",
      "RangeIndex: 768 entries, 0 to 767\n",
      "Data columns (total 9 columns):\n",
      "preg     657 non-null float64\n",
      "plas     763 non-null float64\n",
      "pres     733 non-null float64\n",
      "skin     541 non-null float64\n",
      "insu     394 non-null float64\n",
      "mass     757 non-null float64\n",
      "pedi     768 non-null float64\n",
      "age      768 non-null int64\n",
      "class    768 non-null object\n",
      "dtypes: float64(7), int64(1), object(1)\n",
      "memory usage: 54.1+ KB\n"
     ]
    }
   ],
   "source": [
    "import numpy as np\n",
    "df.loc[df['insu']==0,'insu']=np.nan\n",
    "df.loc[df['mass']==0,'mass']=np.nan\n",
    "df.loc[df['plas']==0,'plas']=np.nan\n",
    "df.loc[df['preg']==0,'preg']=np.nan\n",
    "df.loc[df['pres']==0,'pres']=np.nan\n",
    "df.loc[df['skin']==0,'skin']=np.nan\n",
    "df.info()"
   ]
  },
  {
   "cell_type": "markdown",
   "metadata": {},
   "source": [
    "## Tretman nedostajućih vrednosti"
   ]
  },
  {
   "cell_type": "markdown",
   "metadata": {},
   "source": [
    "Fenomen nedostajućih podataka određenih veličina u skupovima podataka je sveprisutan i veoma često se uočava. Postoji veliki broj mogućih razloga za nedostajuće podatke i uobičajeno su oni nepoznati. Mogući razlozi mogu da budu ljudske greške prilikom unosa podataka, neispravnost senzora za akviziciju podataka, softverski bagovi u sistemima za akviziciju podataka, i dr.\n",
    "\n",
    "Dve osnovne strategije za tretman nedostajućih vrednosti su:\n",
    "- Uklanjanje podataka i\n",
    "- Imputacija\n",
    "\n",
    "Pod uklanjanjem podataka, podrazumeva se jedno od dva moguća rešenja:\n",
    "- Uklanjanje instanci u kojima nedostaje podatak neke veličine\n",
    "- Uklanjanje veličina čiji podaci nedostaju\n",
    "\n",
    "Oba ova rešenja vezana za uklanjanje podataka se retko primenjuju. Ne postoje konkretne preporuke koje mogu ukazati na slučajeve u kojima ih je moguće primeniti. Generalno, ukoliko za neku veličinu imamo manje od 10% nedostajućih podataka, potrebno je razmotriti uklanjanje instanci; ukoliko za neku veličinu imamo više od 50% nedostajućih podataka, potrebno je razmotriti uklanjanje te veličine."
   ]
  },
  {
   "cell_type": "markdown",
   "metadata": {},
   "source": [
    "### Imputacija podataka"
   ]
  },
  {
   "cell_type": "markdown",
   "metadata": {},
   "source": [
    "Imputacija podataka podrazumeva zamenu nedostajućih podataka neke veličine novim vrednostima, koje se smatraju statistički značajnim. Ove nove vrednosti mogu da budu:\n",
    "- Srednja vrednost postojećih podataka numeričke veličine\n",
    "- Medijana ili mod postojećih podataka numeričke veličine (koristi se u slučajevima u kojima ima mnogo outliera)\n",
    "- Kategorija sa najvećom frekvencijom pojavljivanja među postojećim podacima veličine tipa kategorija ili medijana (nominalni tip)\n",
    "- Kategorija nedostajućih podataka - nova vrednost veličina tipa kategorija (ordinalni tip)"
   ]
  },
  {
   "cell_type": "markdown",
   "metadata": {},
   "source": [
    "S obzirom na veliki broj nedostajućih podataka veličine insu, očigledno je da bi se od algoritma predviđanja očekivali bolji rezultati ukoliko se ona u potpunosti ukloni iz skupa podataka za učenje, odnosno kao ulazna veličina za predviđanje."
   ]
  },
  {
   "cell_type": "code",
   "execution_count": 4,
   "metadata": {},
   "outputs": [],
   "source": [
    "df=df.drop('insu',1)"
   ]
  },
  {
   "cell_type": "markdown",
   "metadata": {},
   "source": [
    "Imputacija statistički važnih vrednosti se vrši primenom metode manipulacije podskupom podataka iz DataFrame objekta. Dole navedeni kod vrši imputaciju medijane umesto nedostajućih vrednosti u veličinama preg, plas i mass."
   ]
  },
  {
   "cell_type": "code",
   "execution_count": 5,
   "metadata": {},
   "outputs": [],
   "source": [
    "df.loc[np.isnan(df['preg']),'preg']=df['preg'].median()\n",
    "df.loc[np.isnan(df['plas']),'plas']=df['plas'].median()\n",
    "df.loc[np.isnan(df['mass']),'mass']=df['mass'].median()"
   ]
  },
  {
   "cell_type": "markdown",
   "metadata": {},
   "source": [
    "Imputacija slučajnih vrednosti u intervalu mean-std, mean+std se vrši na način prikazan dole. Ovakav metod imputacije je primenjen nad veličinama pres i skin. Važno je napomenuti da ne postoje posebne smernice za primenu različitih metoda imputacije nad različitim veličinama. Moglo bi se reći da je imputacija medijane ili prosečne vrednosti bolji izbor kod \"oštrijih\" normalnih ili eksponencijalnih raspodela, dok se kod \"blažih\" pravilnih i nepravilnih raspodela očekuje bolji učinak imputacije slučajnih vrednosti."
   ]
  },
  {
   "cell_type": "code",
   "execution_count": 6,
   "metadata": {},
   "outputs": [
    {
     "data": {
      "text/html": [
       "<div>\n",
       "<style scoped>\n",
       "    .dataframe tbody tr th:only-of-type {\n",
       "        vertical-align: middle;\n",
       "    }\n",
       "\n",
       "    .dataframe tbody tr th {\n",
       "        vertical-align: top;\n",
       "    }\n",
       "\n",
       "    .dataframe thead th {\n",
       "        text-align: right;\n",
       "    }\n",
       "</style>\n",
       "<table border=\"1\" class=\"dataframe\">\n",
       "  <thead>\n",
       "    <tr style=\"text-align: right;\">\n",
       "      <th></th>\n",
       "      <th>preg</th>\n",
       "      <th>plas</th>\n",
       "      <th>pres</th>\n",
       "      <th>skin</th>\n",
       "      <th>mass</th>\n",
       "      <th>pedi</th>\n",
       "      <th>age</th>\n",
       "      <th>class</th>\n",
       "    </tr>\n",
       "  </thead>\n",
       "  <tbody>\n",
       "    <tr>\n",
       "      <th>0</th>\n",
       "      <td>6.0</td>\n",
       "      <td>148.0</td>\n",
       "      <td>72.0</td>\n",
       "      <td>35.0</td>\n",
       "      <td>33.6</td>\n",
       "      <td>0.627</td>\n",
       "      <td>50</td>\n",
       "      <td>tested_positive</td>\n",
       "    </tr>\n",
       "    <tr>\n",
       "      <th>1</th>\n",
       "      <td>1.0</td>\n",
       "      <td>85.0</td>\n",
       "      <td>66.0</td>\n",
       "      <td>29.0</td>\n",
       "      <td>26.6</td>\n",
       "      <td>0.351</td>\n",
       "      <td>31</td>\n",
       "      <td>tested_negative</td>\n",
       "    </tr>\n",
       "    <tr>\n",
       "      <th>2</th>\n",
       "      <td>8.0</td>\n",
       "      <td>183.0</td>\n",
       "      <td>64.0</td>\n",
       "      <td>28.0</td>\n",
       "      <td>23.3</td>\n",
       "      <td>0.672</td>\n",
       "      <td>32</td>\n",
       "      <td>tested_positive</td>\n",
       "    </tr>\n",
       "    <tr>\n",
       "      <th>3</th>\n",
       "      <td>1.0</td>\n",
       "      <td>89.0</td>\n",
       "      <td>66.0</td>\n",
       "      <td>23.0</td>\n",
       "      <td>28.1</td>\n",
       "      <td>0.167</td>\n",
       "      <td>21</td>\n",
       "      <td>tested_negative</td>\n",
       "    </tr>\n",
       "    <tr>\n",
       "      <th>4</th>\n",
       "      <td>4.0</td>\n",
       "      <td>137.0</td>\n",
       "      <td>40.0</td>\n",
       "      <td>35.0</td>\n",
       "      <td>43.1</td>\n",
       "      <td>2.288</td>\n",
       "      <td>33</td>\n",
       "      <td>tested_positive</td>\n",
       "    </tr>\n",
       "  </tbody>\n",
       "</table>\n",
       "</div>"
      ],
      "text/plain": [
       "   preg   plas  pres  skin  mass   pedi  age            class\n",
       "0   6.0  148.0  72.0  35.0  33.6  0.627   50  tested_positive\n",
       "1   1.0   85.0  66.0  29.0  26.6  0.351   31  tested_negative\n",
       "2   8.0  183.0  64.0  28.0  23.3  0.672   32  tested_positive\n",
       "3   1.0   89.0  66.0  23.0  28.1  0.167   21  tested_negative\n",
       "4   4.0  137.0  40.0  35.0  43.1  2.288   33  tested_positive"
      ]
     },
     "execution_count": 6,
     "metadata": {},
     "output_type": "execute_result"
    }
   ],
   "source": [
    "import random as rnd\n",
    "\n",
    "pres=df['pres']\n",
    "skin=df['skin']\n",
    "df.loc[np.isnan(pres),'pres']=round(rnd.uniform(pres.median()-pres.std(),pres.median()+pres.std()))\n",
    "df.loc[np.isnan(skin),'skin']=round(rnd.uniform(skin.median()-skin.std(),skin.median()+skin.std()))\n",
    "df.head()"
   ]
  },
  {
   "cell_type": "markdown",
   "metadata": {},
   "source": [
    "U gornjem primeru se koristi funkcija uniform(a,b) random paketa, koja vraća slučajan broj sa decimalnom tačkom u intervalu (a,b). Taj broj sa decimalnom tačkom se zaokružuje korišćenjem funkcije round. Random paket sadrži i funkciju za izbor slučajnog celog broja u intervalu (randint(a,b)), ali je nju nemoguće primeniti u ovom slučaju jer su obe granice intervala brojevi sa decimalnom tačkom (iako je medijana celi broj, standardna devijacija to nije)."
   ]
  },
  {
   "cell_type": "markdown",
   "metadata": {},
   "source": [
    "Važno je naglasiti da korišćenje slučajnih brojeva u pripremi podataka podrazumeva da će rezultati analize tačnosti algoritma mašinskog učenja davati uvek različite rezultate, jer se učenje vrši sa različitim podacima, slučajno izabranim prilikom svakog izvršenja programa za učenje."
   ]
  },
  {
   "cell_type": "markdown",
   "metadata": {},
   "source": [
    "## Tretman outlier-a"
   ]
  },
  {
   "cell_type": "markdown",
   "metadata": {},
   "source": [
    "Oulier-ima se smatraju pojedinačni podaci, odnosno vrednosti jedne veličine, koje su \"udaljene\" od drugih vrednosti. Outlier-i mogu biti rezultat lošeg prikupljanja podataka, npr. grešaka u unosu, ali mogu predstavljati i važne anomalije. U prvom slučaju, njihov tretman (npr. uklanjanje) je neophodan; u drugom, to nije slučaj.\n",
    "\n",
    "Prvi korak u tretmanu outlier-a je analiza podataka od strane domenskog eksperta (ili primena zdravog razuma), odnosno uočavanje nemogućih podataka. Takvi primeri mogu biti abnormalna visina i težina osobe, nemoguća brzina kretanja, i sl. Ovakvi podaci su očigledni outlier-i i potrebno ih je ukloniti (odnosno, pretvoriti u nedostajuće podatke ili ukloniti kompletne redove podataka u kojima su za neku veličinu utvrđeni outlier-i). Analiza outlier-a se može vršiti korišćenjem statističkih funkcija ili vizuelizacijom.\n",
    "\n",
    "Transformacijom zakošenih veličina (npr. logaritamskom transformacijom), smanjuje se uticaj outlier-a na model.\n",
    "\n",
    "Osnovni način za utvrđivanje postojanja outlier-a je vizuelizacija, odnosno korišćenje box and whiskers dijagrama, na kojima se jasno prikazuju outlier-i, i to kao vrednosti pojedinačnih veličina u intervalima:\n",
    "- između minimuma do donjeg ekstrema (Q1-1.5*IQR)\n",
    "- između gornjeg ekstrema do maksimuma (Q3+1.5*IQR)"
   ]
  },
  {
   "cell_type": "code",
   "execution_count": 7,
   "metadata": {},
   "outputs": [
    {
     "data": {
      "image/png": "[encoded data removed]",
      "text/plain": [
       "<Figure size 432x288 with 1 Axes>"
      ]
     },
     "metadata": {
      "needs_background": "light"
     },
     "output_type": "display_data"
    }
   ],
   "source": [
    "df.plot(kind='box')\n",
    "plt.show()"
   ]
  },
  {
   "cell_type": "markdown",
   "metadata": {},
   "source": [
    "Statistička funkcija koja se najčešće koristi za utvrđivanje outlier-a je z-score. Z-skor pojedinačne vrednosti je mera njenog odstupanja od prosečne vrednosti, u kontekstu standardne devijacije. Uobičajeno se outlier-ima smatraju podaci čiji je z-skor manji od -3 ili veći od 3.\n",
    "Prikaz z-score vrednosti svih vrednosti određene veličine se vrši na sledeći način."
   ]
  },
  {
   "cell_type": "code",
   "execution_count": 8,
   "metadata": {},
   "outputs": [
    {
     "name": "stdout",
     "output_type": "stream",
     "text": [
      "[ 0.16661938 -0.85219976 -1.33250021 -0.63388137  1.5493025  -0.99774535\n",
      " -0.21179916  0.41404689 -0.28457195 -0.02258989  0.74880175  0.80701998\n",
      " -0.77942697 -0.34279019 -0.96863623 -0.35734475  1.9422756  -0.41556299\n",
      "  1.57841162  0.31216497  0.99622925  0.42860145  1.06900205 -0.50289034\n",
      "  0.60325616 -0.1972446   1.01078381 -1.34705477 -1.49260037  0.23939218\n",
      "  0.5159288  -0.1244718  -1.11418183 -1.82735523 -0.70665417 -1.2306183\n",
      "  0.10840114  0.06473747  0.8361291   0.67602895  0.22483762  1.12722029\n",
      " -1.41982757  1.88405736 -0.73576329  1.38920235 -0.40100843 -0.64843593\n",
      "  0.96712013 -0.02258989 -1.90012802 -1.20150918 -1.17240006  0.18117394\n",
      "  0.32671953 -1.37616389  0.76335631  2.08782119  1.17088396  1.31642956\n",
      " -0.02258989  0.06473747 -1.08507271 -1.02685447  0.05018291 -0.50289034\n",
      "  0.00651923  1.49108427 -1.8710189  -0.5174449   0.06473747 -0.56110858\n",
      "  1.59296618  0.38493777 -0.06625357 -1.12873639  0.02107379  0.76335631\n",
      "  1.56385706 -1.08507271 -1.46349125 -0.02258989 -0.45922666 -1.14329094\n",
      "  2.37891237 -0.00803533  0.60325616  0.87979278  0.67602895 -0.86675432\n",
      " -1.9437917  -0.06625357  2.07326663 -1.25972742 -1.12873639  0.21028306\n",
      " -0.1244718  -1.75458243 -0.54655402  2.50990341  0.95256558 -0.92497256\n",
      " -1.44893669 -0.85219976  1.03989293 -0.54655402 -1.46349125 -0.43011755\n",
      "  0.26850129  0.71969263  0.1229557   0.22483762 -0.18269004  0.22483762\n",
      " -0.28457195 -0.18269004  0.22483762  0.18117394 -0.61932681 -1.34705477\n",
      "  3.01931298  0.25394674  0.16661938 -0.82309064  0.1229557   3.28129504\n",
      "  1.52019338  0.1229557   0.29761041 -0.66299049 -0.40100843  0.1229557\n",
      "  0.29761041  0.85068366 -1.65270052  0.1957285  -0.24090828 -0.54655402\n",
      " -0.18269004  0.64691983 -1.65270052  1.02533837  0.00651923 -0.00803533\n",
      "  0.05018291 -0.02258989  0.05018291 -0.28457195  0.18117394 -0.75031785\n",
      "  0.71969263 -1.53626404  0.26850129  1.18543852  2.24792134  2.55356708\n",
      " -1.14329094 -1.05596359 -0.50289034  1.2291022  -0.40100843  0.69058351\n",
      "  1.70940265 -0.40100843 -0.1244718  -0.37189931  0.00651923 -0.41556299\n",
      " -0.08080813 -0.5902177  -0.24090828  0.42860145 -0.5174449   1.60752074\n",
      " -0.40100843  0.03562835 -0.18269004  5.0423967   1.82583913  0.96712013\n",
      " -1.34705477  0.35582865 -0.69209961 -0.82309064 -0.70665417  0.50137424\n",
      " -0.34279019 -0.06625357 -0.66299049 -0.1244718  -1.43438213  0.09384658\n",
      " -0.29912651  2.88832195 -1.17240006  1.01078381 -1.18695462 -1.39071845\n",
      "  0.34127409 -0.22635372 -0.21179916  1.11266573 -0.75031785 -1.75458243\n",
      "  0.76335631 -1.24517286  0.73424719  0.76335631  0.10840114  0.443156\n",
      " -0.69209961  1.50563882  0.25394674  1.47652971  0.25394674  1.36009323\n",
      "  0.48681968 -0.35734475 -0.50289034  0.77791087  0.31216497 -0.1244718\n",
      " -1.05596359 -0.53199946 -1.28883654  0.31216497  0.47226512  0.69058351\n",
      "  0.61781071  1.85494824  1.68029353  2.00049384 -1.02685447  0.37038321\n",
      " -0.40100843  1.6220753   0.50137424  1.69484809 -0.24090828 -2.04567361\n",
      " -0.47378122  0.09384658 -0.99774535 -0.77942697  0.8361291  -0.35734475\n",
      " -0.18269004  2.88832195  0.42860145 -0.34279019 -0.18269004 -0.64843593\n",
      " -1.17240006  0.48681968 -0.70665417  0.16661938 -0.34279019 -0.54655402\n",
      " -0.95408168  0.1229557  -0.22635372 -0.35734475 -0.05169901 -0.00803533\n",
      " -0.06625357  0.16661938  0.55959248  1.09811117 -1.07051815 -0.72120873\n",
      "  1.91316648 -1.05596359 -1.37616389  0.10840114  0.25394674  1.17088396\n",
      " -0.86675432 -0.67754505 -1.09962727 -1.04140903  0.79246542  0.50137424\n",
      " -0.00803533 -0.29912651 -0.79398152 -0.93952712  0.9089019   1.91316648\n",
      " -1.69636419  0.53048336  0.64691983  0.60325616  1.57841162  1.17088396\n",
      " -1.53626404  0.443156   -0.64843593 -0.25546284  0.60325616 -1.28883654\n",
      " -0.02258989 -0.1244718   0.48681968  2.9756493  -1.66725508  1.05444749\n",
      " -1.01229991 -1.11418183 -0.28457195  0.06473747 -0.910418    1.01078381\n",
      " -0.85219976 -0.43011755  0.50137424  0.23939218 -1.91468258 -0.28457195\n",
      "  0.82157454 -1.3033911  -0.72120873 -0.1244718  -0.73576329 -0.82309064\n",
      "  0.47226512 -0.99774535  0.38493777  0.38493777  1.89861192 -0.24090828\n",
      " -1.36160933  0.03562835  1.57841162 -1.28883654 -1.24517286  2.24792134\n",
      "  0.1957285  -0.18269004  0.25394674  1.08355661 -0.95408168 -0.95408168\n",
      " -0.06625357  0.32671953  0.63236527  0.87979278 -0.54655402 -1.3033911\n",
      " -1.5508186   1.24365676  1.41831147 -0.18269004  0.28305585 -0.76487241\n",
      "  1.49108427 -0.29912651  0.1229557   1.08355661  0.41404689  0.5887016\n",
      " -0.18269004 -0.38645387  0.98167469  0.87979278  0.35582865  0.22483762\n",
      " -0.70665417 -1.66725508 -0.72120873  0.05018291  0.86523822 -0.02258989\n",
      "  0.48681968  0.35582865  0.54503792  0.98167469 -1.05596359  0.69058351\n",
      "  2.30613958  1.59296618 -0.24090828 -1.81280067 -1.02685447 -1.07051815\n",
      " -1.18695462 -1.47804581 -0.02258989  1.57841162 -0.06625357 -0.1244718\n",
      " -0.06625357  1.92772104 -1.27428198 -1.50715492  0.06473747 -0.69209961\n",
      " -1.12873639  0.26850129 -1.65270052  0.35582865 -0.06625357 -1.20150918\n",
      "  0.37038321 -0.1244718   0.06473747  1.40375691 -0.5174449  -1.53626404\n",
      " -0.95408168  1.44742059  0.47226512  0.28305585  1.44742059 -0.910418\n",
      "  0.31216497  0.47226512 -0.76487241  0.87979278 -2.07478273 -0.88130888\n",
      "  1.8695028  -0.93952712  1.18543852 -0.24090828  1.52019338  0.66147439\n",
      " -0.02258989  0.23939218  1.18543852  0.37038321 -1.49260037 -0.29912651\n",
      " -0.35734475 -0.99774535 -1.1578455   1.44742059  0.71969263 -0.37189931\n",
      " -2.07478273  0.63236527  0.26850129 -0.03714445  0.10840114 -0.28457195\n",
      " -0.40100843  3.92169565 -1.04140903  0.5887016   0.16661938 -0.28457195\n",
      " -1.63814596 -0.5174449   1.08355661 -1.8710189   0.77791087  0.16661938\n",
      " -0.8376452  -0.32823563  0.74880175 -0.95408168 -1.69636419 -1.5508186\n",
      "  0.41404689 -0.70665417 -1.2306183  -1.5508186  -0.67754505  0.63236527\n",
      " -0.35734475  1.98593928  1.28732044  0.10840114  0.92345646 -0.37189931\n",
      " -0.5174449  -0.75031785  0.18117394 -1.25972742 -0.95408168 -0.64843593\n",
      "  0.443156    0.39949233 -0.67754505  0.8361291   1.70940265  1.43286603\n",
      "  1.19999308  2.04415751 -0.99774535 -0.92497256  0.63236527  0.15206482\n",
      "  0.05018291 -0.5174449  -0.02258989 -0.85219976 -0.93952712 -0.34279019\n",
      " -1.07051815 -0.45922666 -1.05596359  0.69058351  0.95256558  0.1229557\n",
      "  0.70513807  0.1229557   0.5887016  -0.56110858 -0.29912651 -1.08507271\n",
      " -0.40100843 -1.50715492 -1.20150918 -0.75031785 -0.99774535 -0.1244718\n",
      " -0.31368107  0.74880175  0.05018291 -1.8710189  -1.08507271  0.10840114\n",
      " -0.02258989  0.25394674 -0.1244718  -1.5508186  -2.07478273 -0.89586344\n",
      " -0.24090828 -1.14329094 -0.38645387  1.8695028   1.28732044 -0.38645387\n",
      "  0.1229557   0.06473747 -0.41556299 -1.56537316  0.55959248  0.57414704\n",
      "  1.01078381 -0.00803533  0.35582865  1.02533837 -0.06625357  0.29761041\n",
      "  1.6220753   0.09384658  0.05018291 -0.57566314 -0.73576329 -0.08080813\n",
      " -0.67754505 -0.37189931  0.64691983 -1.01229991  0.82157454 -0.67754505\n",
      "  2.00049384 -0.34279019  0.1957285   1.28732044  0.74880175 -0.80853608\n",
      " -0.00803533 -0.92497256  0.89434734 -0.06625357 -0.16813548  0.26850129\n",
      "  0.00651923 -1.43438213 -0.43011755  0.32671953 -0.34279019  0.443156\n",
      " -1.2306183   1.52019338 -0.79398152  0.32671953  1.40375691 -1.08507271\n",
      " -0.86675432  0.9089019  -0.54655402 -1.44893669  0.35582865 -1.18695462\n",
      "  0.1229557  -1.65270052  2.08782119  1.01078381  0.28305585 -0.57566314\n",
      "  0.16661938 -0.06625357  1.8695028  -0.67754505  0.63236527 -1.36160933\n",
      " -0.77942697 -1.27428198 -0.67754505  0.39949233 -0.5902177   0.48681968\n",
      "  1.09811117 -1.88557346  1.31642956 -1.2306183  -0.22635372  0.06473747\n",
      "  0.8361291   0.00651923  0.53048336 -0.96863623 -0.54655402 -1.79824611\n",
      " -0.61932681 -0.00803533  0.86523822 -1.20150918  1.21454764  1.60752074\n",
      " -0.24090828  0.76335631 -1.12873639 -0.00803533  0.31216497 -1.12873639\n",
      " -0.73576329  0.29761041 -0.910418   -0.72120873 -0.95408168 -0.18269004\n",
      " -0.53199946 -0.1244718   1.2291022  -1.88557346 -0.45922666  0.26850129\n",
      " -0.43011755 -0.64843593 -0.70665417  1.01078381 -1.31794565  0.77791087\n",
      " -0.60477226 -0.88130888 -1.05596359  0.1957285   0.23939218 -0.82309064\n",
      "  0.25394674  0.9089019  -1.5508186   0.93801102  0.95256558  0.25394674\n",
      " -0.69209961  1.52019338  0.74880175  0.79246542  0.18117394  0.34127409\n",
      "  0.00651923 -0.72120873  0.22483762 -0.22635372  0.16661938 -1.02685447\n",
      "  0.443156    3.6160499   0.45771056 -0.22635372 -1.11418183  0.41404689\n",
      "  0.5159288  -1.20150918 -1.20150918  2.49534885  1.76762089 -0.02258989\n",
      " -0.02258989  0.10840114 -1.36160933 -0.60477226 -1.21606374  1.98593928\n",
      " -1.14329094  1.43286603  0.96712013  0.87979278 -1.3033911  -0.29912651\n",
      " -0.37189931 -1.08507271  0.29761041  1.75306633  0.50137424 -0.70665417\n",
      "  0.37038321  0.87979278 -0.5902177   1.06900205 -0.02258989  0.28305585\n",
      "  0.05018291  0.80701998 -0.18269004 -0.41556299  1.27276588 -0.88130888\n",
      " -0.43011755  0.21028306  0.1957285  -1.36160933  0.443156    0.45771056\n",
      " -0.45922666  0.82157454 -0.45922666  0.96712013  0.05018291  1.01078381\n",
      "  0.53048336 -0.00803533 -1.39071845 -0.34279019 -0.5902177  -0.5902177\n",
      "  1.75306633 -0.50289034 -1.33250021  0.42860145 -0.73576329 -0.06625357\n",
      "  0.60325616  1.02533837  1.43286603 -0.24090828 -0.57566314  0.03562835\n",
      "  1.18543852 -0.35734475  2.45168517  2.0150484   0.57414704 -1.18695462\n",
      " -0.18269004  0.95256558 -0.93952712  1.57841162 -0.00803533  0.5887016\n",
      " -0.06625357  0.55959248  0.73424719  0.443156   -0.5902177   1.68029353\n",
      " -1.44893669  0.06473747  0.63236527 -0.910418   -0.34279019 -0.29912651]\n"
     ]
    }
   ],
   "source": [
    "from scipy import stats\n",
    "z=stats.zscore(df['mass'])\n",
    "print(z)"
   ]
  },
  {
   "cell_type": "markdown",
   "metadata": {},
   "source": [
    "Tri moguća pristupa za tretman outlier-a su:\n",
    "- Zamena vrednosti outlier-a prosečnom vrednošću ili nekom drugom statistički značajnom vrednošću.\n",
    "- Zamena vrednosti outlier-a nedostajućom vrednošću.\n",
    "- Brisanje vrsti u kojima postoji vrednost neke veličine koja se smatra outlier-om"
   ]
  },
  {
   "cell_type": "markdown",
   "metadata": {},
   "source": [
    "Izmena vrednosti koje se smatraju outlier-ima se može vršiti metodom grupne manipulacije. Kod dole vrši zamenu vrednosti outlier-a veličine mass, prosečnim vrednostima te veličine. Alternativa ovom pristupu je zamena outlier-a nedostajućim vrednostima (np.nan), a onda potom primena nekog od pristupa za imputiranje nedostajućih podataka."
   ]
  },
  {
   "cell_type": "code",
   "execution_count": 9,
   "metadata": {},
   "outputs": [],
   "source": [
    "df.loc[np.abs(stats.zscore(df['mass']))>3, 'mass']=df['mass'].mean()"
   ]
  },
  {
   "cell_type": "markdown",
   "metadata": {},
   "source": [
    "U slučaju ukoliko je izabrana strategija tretmana outlier-a - brisanje vrsti, moguće je za to koristiti kod sličaj kodu u primeru dole. Izvršenjem koda u primeru se vrši uklanjanje svih vrsti skupa podataka u kojima se vrednost veličine skin smatra outlier-om. Očigledno, dve vrednosti su prepoznate kao outlier-i (skup podataka inicijalno ima 768 vrsti)."
   ]
  },
  {
   "cell_type": "code",
   "execution_count": 10,
   "metadata": {},
   "outputs": [
    {
     "name": "stdout",
     "output_type": "stream",
     "text": [
      "<class 'pandas.core.frame.DataFrame'>\n",
      "Int64Index: 764 entries, 0 to 767\n",
      "Data columns (total 8 columns):\n",
      "preg     764 non-null float64\n",
      "plas     764 non-null float64\n",
      "pres     764 non-null float64\n",
      "skin     764 non-null float64\n",
      "mass     764 non-null float64\n",
      "pedi     764 non-null float64\n",
      "age      764 non-null int64\n",
      "class    764 non-null object\n",
      "dtypes: float64(6), int64(1), object(1)\n",
      "memory usage: 53.7+ KB\n"
     ]
    }
   ],
   "source": [
    "df=df[np.abs(stats.zscore(df['skin']))<=3]\n",
    "df.info()"
   ]
  },
  {
   "cell_type": "markdown",
   "metadata": {},
   "source": [
    "Važno je napomenuti da značaj outlier-a raste sa brojem podataka u skupu. Ukoliko je broj podataka u skupu relativno mali, outlier-i se ne smeju smatrati statistički ne-značajnim. S obzirom da je broj podataka u skupu za predviđanje dijabetesa mali (naročito kod veličine insu), iako su oni utvrđeni na box dijagramu, zamenjivanje outlier-a nedostajućim vrednostima se u ovom slučaju ne preporučuje. Uklanjanjem celih redova u kojima su utvrđeni outlier-i nekih veličina, iako se time smanjuje iako mali skup podataka, mogu se dobiti dobri rezultati. Na taj način se uzorak smanjuje, ali on postaje statistički značajniji."
   ]
  },
  {
   "cell_type": "markdown",
   "metadata": {},
   "source": [
    "## Transformacija zakošenih veličina"
   ]
  },
  {
   "cell_type": "markdown",
   "metadata": {},
   "source": [
    "Oblik raspodele vrednosti veličina može biti značajan za izbor algoritma mašinskog učenja. Na primer, normalna raspodela vrednosti veličina ukazuje na moguće dobre rezultate primene tzv. parametarskih algoritama, npr. logističke regresije. U analizi raspodele, važno je uočiti i eksponencijalnu raspodelu neke veličine jer se njene vrednosti mogu transformisati tako da se dobije normalna raspodela.\n",
    "\n",
    "Kao što je ranije pokazano, oblik raspodele se može utvrditi analizom vrednosti zakošenosti (korišćenje metode skew() DataFrame objekta) ili vizuelnom interpretacijom histograma."
   ]
  },
  {
   "cell_type": "code",
   "execution_count": 11,
   "metadata": {},
   "outputs": [
    {
     "data": {
      "text/plain": [
       "preg    1.018349\n",
       "plas    0.534620\n",
       "pres    0.224242\n",
       "skin    0.199824\n",
       "mass    0.320177\n",
       "pedi    1.808356\n",
       "age     1.127218\n",
       "dtype: float64"
      ]
     },
     "execution_count": 11,
     "metadata": {},
     "output_type": "execute_result"
    }
   ],
   "source": [
    "df.skew()"
   ]
  },
  {
   "cell_type": "code",
   "execution_count": 12,
   "metadata": {},
   "outputs": [
    {
     "data": {
      "image/png": "[encoded data removed]",
      "text/plain": [
       "<Figure size 432x288 with 9 Axes>"
      ]
     },
     "metadata": {
      "needs_background": "light"
     },
     "output_type": "display_data"
    }
   ],
   "source": [
    "df.hist()\n",
    "plt.show()"
   ]
  },
  {
   "cell_type": "markdown",
   "metadata": {},
   "source": [
    "Obe ove metode pokazuju postojanje raspodele veličina mass, plas, pres i skin bliske normalnoj, i raspodele veličina age, preg i pedi bliske eksponencijalnoj.\n",
    "Transformacija zakošenih veličina se može izvršiti primenom logaritamske ili tzv. boxcox funkcije. Dole su prikazani histogrami koji ilustruju raspodelu veličine pedi, nakon logaritamske transformacije i veličine preg, nakon box-cox transformacije.\n",
    "\n",
    "Važno je napomenuti da se logaritamska ili boxcox transformacija mogu primeniti samo ukoliko su među podacima samo pozitivni brojevi. Ukoliko ima negativnih brojeva, moguće je prethodno uraditi transformaciju transliranjem, odnosno dodavanjem absolutne vrednosti minimuma svakoj vrednosti veličine."
   ]
  },
  {
   "cell_type": "code",
   "execution_count": 13,
   "metadata": {},
   "outputs": [
    {
     "data": {
      "image/png": "[encoded data removed]",
      "text/plain": [
       "<Figure size 432x288 with 1 Axes>"
      ]
     },
     "metadata": {
      "needs_background": "light"
     },
     "output_type": "display_data"
    }
   ],
   "source": [
    "newpedi=np.log(df['pedi'])\n",
    "newpedi.hist()\n",
    "plt.show()"
   ]
  },
  {
   "cell_type": "code",
   "execution_count": 14,
   "metadata": {},
   "outputs": [
    {
     "data": {
      "image/png": "[encoded data removed]",
      "text/plain": [
       "<Figure size 432x288 with 1 Axes>"
      ]
     },
     "metadata": {
      "needs_background": "light"
     },
     "output_type": "display_data"
    }
   ],
   "source": [
    "from scipy import stats\n",
    "\n",
    "newage=pd.Series(stats.boxcox(df['preg'])[0])\n",
    "newage.hist()\n",
    "plt.show()"
   ]
  },
  {
   "cell_type": "markdown",
   "metadata": {},
   "source": [
    "Konačno, vrši se logaritamska transformacija veličina pedi i preg."
   ]
  },
  {
   "cell_type": "code",
   "execution_count": 15,
   "metadata": {},
   "outputs": [
    {
     "data": {
      "image/png": "[encoded data removed]",
      "text/plain": [
       "<Figure size 432x288 with 9 Axes>"
      ]
     },
     "metadata": {
      "needs_background": "light"
     },
     "output_type": "display_data"
    }
   ],
   "source": [
    "df['pedi']=np.log(df['pedi'])\n",
    "df['preg']=np.log(df['preg'])\n",
    "df.hist()\n",
    "plt.show()"
   ]
  },
  {
   "cell_type": "markdown",
   "metadata": {},
   "source": [
    "Da podsetimo, transformacijom zakošenih veličina (npr. logaritamskom transformacijom), smanjuje se uticaj outlier-a na model."
   ]
  },
  {
   "cell_type": "markdown",
   "metadata": {},
   "source": [
    "## Skaliranje: normalizacija i standardizacija"
   ]
  },
  {
   "cell_type": "markdown",
   "metadata": {},
   "source": [
    "Skaliranje podrazumeva svođenje veličine iz inicijalnog u zadati opseg. Na taj način, sve vrednosti jedne veličine se transformišu, pri čemu raspodela ostaje ista, a menja se samo interval raspodele. U praksi se radi pripreme podataka primenjuje jedan od dva načina skaliranja:\n",
    "- Normalizacija. Skaliranje svih podataka izabrane veličine u interval (0,1)\n",
    "- Standardizacija. Skaliranje svih podataka izabrane veličine, tako da srednja vrednost nakon transformacije dobije vrednost 0, a standardna devijacija - 1. Standardizacijom se svaka vrednost zamenjuje njenim z-skorom.\n",
    "\n",
    "Skaliranjem se rešavaju problemi do kojih može doći usled velikih razlika u regionima vrednosti različitih veličina. Svođenjem svih veličina u isti region skaliranjem, optimizuje se proces učenja u slučajevima kada se koriste algoritmi zasnovani na linearnoj regresiji, a popravlja se i tačnost predviđanja kod KNN algoritma i u neuronskim mrežama. U ova dva slučaja, priprema podataka skaliranjem je obavezna. Skaliranje je nepotrebno ukoliko se planira korišćenje algoritama koji se zasnivaju na stablima odlučivanja."
   ]
  },
  {
   "cell_type": "markdown",
   "metadata": {},
   "source": [
    "Analizom minimuma i maksimuma podataka u skupu za predviđanje dijagnoze dijabetesa, lako se uočavaju razlike u regionima raspodela veličina i utvrđuje potreba za skaliranjem podataka."
   ]
  },
  {
   "cell_type": "code",
   "execution_count": 16,
   "metadata": {},
   "outputs": [
    {
     "data": {
      "text/html": [
       "<div>\n",
       "<style scoped>\n",
       "    .dataframe tbody tr th:only-of-type {\n",
       "        vertical-align: middle;\n",
       "    }\n",
       "\n",
       "    .dataframe tbody tr th {\n",
       "        vertical-align: top;\n",
       "    }\n",
       "\n",
       "    .dataframe thead th {\n",
       "        text-align: right;\n",
       "    }\n",
       "</style>\n",
       "<table border=\"1\" class=\"dataframe\">\n",
       "  <thead>\n",
       "    <tr style=\"text-align: right;\">\n",
       "      <th></th>\n",
       "      <th>preg</th>\n",
       "      <th>plas</th>\n",
       "      <th>pres</th>\n",
       "      <th>skin</th>\n",
       "      <th>mass</th>\n",
       "      <th>pedi</th>\n",
       "      <th>age</th>\n",
       "    </tr>\n",
       "  </thead>\n",
       "  <tbody>\n",
       "    <tr>\n",
       "      <th>count</th>\n",
       "      <td>764.000000</td>\n",
       "      <td>764.000000</td>\n",
       "      <td>764.000000</td>\n",
       "      <td>764.000000</td>\n",
       "      <td>764.000000</td>\n",
       "      <td>764.000000</td>\n",
       "      <td>764.000000</td>\n",
       "    </tr>\n",
       "    <tr>\n",
       "      <th>mean</th>\n",
       "      <td>1.239515</td>\n",
       "      <td>121.456806</td>\n",
       "      <td>71.899215</td>\n",
       "      <td>28.599476</td>\n",
       "      <td>32.263698</td>\n",
       "      <td>-0.964987</td>\n",
       "      <td>33.227749</td>\n",
       "    </tr>\n",
       "    <tr>\n",
       "      <th>std</th>\n",
       "      <td>0.744715</td>\n",
       "      <td>30.276350</td>\n",
       "      <td>12.305059</td>\n",
       "      <td>8.227232</td>\n",
       "      <td>6.529859</td>\n",
       "      <td>0.641018</td>\n",
       "      <td>11.737092</td>\n",
       "    </tr>\n",
       "    <tr>\n",
       "      <th>min</th>\n",
       "      <td>0.000000</td>\n",
       "      <td>44.000000</td>\n",
       "      <td>24.000000</td>\n",
       "      <td>7.000000</td>\n",
       "      <td>18.200000</td>\n",
       "      <td>-2.551046</td>\n",
       "      <td>21.000000</td>\n",
       "    </tr>\n",
       "    <tr>\n",
       "      <th>25%</th>\n",
       "      <td>0.693147</td>\n",
       "      <td>99.000000</td>\n",
       "      <td>62.000000</td>\n",
       "      <td>25.000000</td>\n",
       "      <td>27.500000</td>\n",
       "      <td>-1.416760</td>\n",
       "      <td>24.000000</td>\n",
       "    </tr>\n",
       "    <tr>\n",
       "      <th>50%</th>\n",
       "      <td>1.386294</td>\n",
       "      <td>117.000000</td>\n",
       "      <td>72.000000</td>\n",
       "      <td>28.000000</td>\n",
       "      <td>32.300000</td>\n",
       "      <td>-0.994252</td>\n",
       "      <td>29.000000</td>\n",
       "    </tr>\n",
       "    <tr>\n",
       "      <th>75%</th>\n",
       "      <td>1.791759</td>\n",
       "      <td>140.000000</td>\n",
       "      <td>80.000000</td>\n",
       "      <td>32.000000</td>\n",
       "      <td>36.425000</td>\n",
       "      <td>-0.477639</td>\n",
       "      <td>41.000000</td>\n",
       "    </tr>\n",
       "    <tr>\n",
       "      <th>max</th>\n",
       "      <td>2.833213</td>\n",
       "      <td>199.000000</td>\n",
       "      <td>122.000000</td>\n",
       "      <td>54.000000</td>\n",
       "      <td>52.900000</td>\n",
       "      <td>0.845439</td>\n",
       "      <td>81.000000</td>\n",
       "    </tr>\n",
       "  </tbody>\n",
       "</table>\n",
       "</div>"
      ],
      "text/plain": [
       "             preg        plas        pres        skin        mass        pedi  \\\n",
       "count  764.000000  764.000000  764.000000  764.000000  764.000000  764.000000   \n",
       "mean     1.239515  121.456806   71.899215   28.599476   32.263698   -0.964987   \n",
       "std      0.744715   30.276350   12.305059    8.227232    6.529859    0.641018   \n",
       "min      0.000000   44.000000   24.000000    7.000000   18.200000   -2.551046   \n",
       "25%      0.693147   99.000000   62.000000   25.000000   27.500000   -1.416760   \n",
       "50%      1.386294  117.000000   72.000000   28.000000   32.300000   -0.994252   \n",
       "75%      1.791759  140.000000   80.000000   32.000000   36.425000   -0.477639   \n",
       "max      2.833213  199.000000  122.000000   54.000000   52.900000    0.845439   \n",
       "\n",
       "              age  \n",
       "count  764.000000  \n",
       "mean    33.227749  \n",
       "std     11.737092  \n",
       "min     21.000000  \n",
       "25%     24.000000  \n",
       "50%     29.000000  \n",
       "75%     41.000000  \n",
       "max     81.000000  "
      ]
     },
     "execution_count": 16,
     "metadata": {},
     "output_type": "execute_result"
    }
   ],
   "source": [
    "df.describe()"
   ]
  },
  {
   "cell_type": "markdown",
   "metadata": {},
   "source": [
    "Radi demonstracije, veličine preg i plas će biti normalizovane, a pres, skin i mass - standardizovane. Dole su navedeni primeri koda koji vrše željene transformacije."
   ]
  },
  {
   "cell_type": "code",
   "execution_count": 17,
   "metadata": {},
   "outputs": [],
   "source": [
    "from sklearn.preprocessing import MinMaxScaler\n",
    "mms=MinMaxScaler(feature_range=(0, 1))\n",
    "df['preg']=mms.fit_transform(df[['preg']])\n",
    "df['plas']=mms.fit_transform(df[['plas']])"
   ]
  },
  {
   "cell_type": "code",
   "execution_count": 18,
   "metadata": {},
   "outputs": [],
   "source": [
    "from sklearn.preprocessing import scale\n",
    "df['pres']=scale(df['pres'])\n",
    "df['skin']=scale(df['skin'])\n",
    "df['mass']=scale(df['mass'])"
   ]
  },
  {
   "cell_type": "markdown",
   "metadata": {},
   "source": [
    "Nove vrednosti karakterističnih statističkih veličina podataka, nakon transformacije, ukazuju na uspešno izvršenu normalizaciju i standardizaciju. "
   ]
  },
  {
   "cell_type": "code",
   "execution_count": 19,
   "metadata": {},
   "outputs": [
    {
     "data": {
      "text/html": [
       "<div>\n",
       "<style scoped>\n",
       "    .dataframe tbody tr th:only-of-type {\n",
       "        vertical-align: middle;\n",
       "    }\n",
       "\n",
       "    .dataframe tbody tr th {\n",
       "        vertical-align: top;\n",
       "    }\n",
       "\n",
       "    .dataframe thead th {\n",
       "        text-align: right;\n",
       "    }\n",
       "</style>\n",
       "<table border=\"1\" class=\"dataframe\">\n",
       "  <thead>\n",
       "    <tr style=\"text-align: right;\">\n",
       "      <th></th>\n",
       "      <th>preg</th>\n",
       "      <th>plas</th>\n",
       "      <th>pres</th>\n",
       "      <th>skin</th>\n",
       "      <th>mass</th>\n",
       "      <th>pedi</th>\n",
       "      <th>age</th>\n",
       "    </tr>\n",
       "  </thead>\n",
       "  <tbody>\n",
       "    <tr>\n",
       "      <th>count</th>\n",
       "      <td>764.000000</td>\n",
       "      <td>764.000000</td>\n",
       "      <td>7.640000e+02</td>\n",
       "      <td>7.640000e+02</td>\n",
       "      <td>7.640000e+02</td>\n",
       "      <td>764.000000</td>\n",
       "      <td>764.000000</td>\n",
       "    </tr>\n",
       "    <tr>\n",
       "      <th>mean</th>\n",
       "      <td>0.437494</td>\n",
       "      <td>0.499721</td>\n",
       "      <td>-2.809707e-16</td>\n",
       "      <td>9.583666e-17</td>\n",
       "      <td>-4.080506e-16</td>\n",
       "      <td>-0.964987</td>\n",
       "      <td>33.227749</td>\n",
       "    </tr>\n",
       "    <tr>\n",
       "      <th>std</th>\n",
       "      <td>0.262852</td>\n",
       "      <td>0.195331</td>\n",
       "      <td>1.000655e+00</td>\n",
       "      <td>1.000655e+00</td>\n",
       "      <td>1.000655e+00</td>\n",
       "      <td>0.641018</td>\n",
       "      <td>11.737092</td>\n",
       "    </tr>\n",
       "    <tr>\n",
       "      <th>min</th>\n",
       "      <td>0.000000</td>\n",
       "      <td>0.000000</td>\n",
       "      <td>-3.895194e+00</td>\n",
       "      <td>-2.627084e+00</td>\n",
       "      <td>-2.155163e+00</td>\n",
       "      <td>-2.551046</td>\n",
       "      <td>21.000000</td>\n",
       "    </tr>\n",
       "    <tr>\n",
       "      <th>25%</th>\n",
       "      <td>0.244651</td>\n",
       "      <td>0.354839</td>\n",
       "      <td>-8.050103e-01</td>\n",
       "      <td>-4.377942e-01</td>\n",
       "      <td>-7.300033e-01</td>\n",
       "      <td>-1.416760</td>\n",
       "      <td>24.000000</td>\n",
       "    </tr>\n",
       "    <tr>\n",
       "      <th>50%</th>\n",
       "      <td>0.489301</td>\n",
       "      <td>0.470968</td>\n",
       "      <td>8.195927e-03</td>\n",
       "      <td>-7.291264e-02</td>\n",
       "      <td>5.562956e-03</td>\n",
       "      <td>-0.994252</td>\n",
       "      <td>29.000000</td>\n",
       "    </tr>\n",
       "    <tr>\n",
       "      <th>75%</th>\n",
       "      <td>0.632412</td>\n",
       "      <td>0.619355</td>\n",
       "      <td>6.587609e-01</td>\n",
       "      <td>4.135961e-01</td>\n",
       "      <td>6.376902e-01</td>\n",
       "      <td>-0.477639</td>\n",
       "      <td>41.000000</td>\n",
       "    </tr>\n",
       "    <tr>\n",
       "      <th>max</th>\n",
       "      <td>1.000000</td>\n",
       "      <td>1.000000</td>\n",
       "      <td>4.074227e+00</td>\n",
       "      <td>3.089394e+00</td>\n",
       "      <td>3.162368e+00</td>\n",
       "      <td>0.845439</td>\n",
       "      <td>81.000000</td>\n",
       "    </tr>\n",
       "  </tbody>\n",
       "</table>\n",
       "</div>"
      ],
      "text/plain": [
       "             preg        plas          pres          skin          mass  \\\n",
       "count  764.000000  764.000000  7.640000e+02  7.640000e+02  7.640000e+02   \n",
       "mean     0.437494    0.499721 -2.809707e-16  9.583666e-17 -4.080506e-16   \n",
       "std      0.262852    0.195331  1.000655e+00  1.000655e+00  1.000655e+00   \n",
       "min      0.000000    0.000000 -3.895194e+00 -2.627084e+00 -2.155163e+00   \n",
       "25%      0.244651    0.354839 -8.050103e-01 -4.377942e-01 -7.300033e-01   \n",
       "50%      0.489301    0.470968  8.195927e-03 -7.291264e-02  5.562956e-03   \n",
       "75%      0.632412    0.619355  6.587609e-01  4.135961e-01  6.376902e-01   \n",
       "max      1.000000    1.000000  4.074227e+00  3.089394e+00  3.162368e+00   \n",
       "\n",
       "             pedi         age  \n",
       "count  764.000000  764.000000  \n",
       "mean    -0.964987   33.227749  \n",
       "std      0.641018   11.737092  \n",
       "min     -2.551046   21.000000  \n",
       "25%     -1.416760   24.000000  \n",
       "50%     -0.994252   29.000000  \n",
       "75%     -0.477639   41.000000  \n",
       "max      0.845439   81.000000  "
      ]
     },
     "execution_count": 19,
     "metadata": {},
     "output_type": "execute_result"
    }
   ],
   "source": [
    "df.describe()"
   ]
  },
  {
   "cell_type": "markdown",
   "metadata": {},
   "source": [
    "## Uvođenje polinomijalnih veličina"
   ]
  },
  {
   "cell_type": "markdown",
   "metadata": {},
   "source": [
    "Uvođenjem polinomijalnih veličina, omogućava se rešenje nelinearnih problema (odnosno, nelinearne zavisnosti između ulaznih i izlazne veličine), primenom linearnih modela, npr. linearne regresije. Primer linearne funkcije je funkcija y=a+a1x1+a2x2. Ovom funkcijom se može aproksimirati zavisnost izlazne veličine y, od dve ulazne (x1, x2). Ova zavisnost je linearna. Pošto se u praksi ovakva aproksimacija najčešće smatra nedovoljnom (retki su primeri linearne zavisnosti u problemima mašinskog učenja), uvode se dodatne ulazne veličine, npr x1*x2, x1^2, x2^2, x1^3, x2^3, x1*x2^2, x2*x1^2. \n",
    "\n",
    "Na ovaj način, omogućava se kreiranje kompleksnog modela, koji je i dalje linearan (svaka dodatna veličina se množi novim koeficijentom). U Pythonu, uvođenje polinomijalnih veličina se vrši primenom funkcije PolynomialFeatures, na način koji je prikazan dole. Napominje se da se izlazna veličina ne uzima u obzir tom prilikom."
   ]
  },
  {
   "cell_type": "code",
   "execution_count": 20,
   "metadata": {},
   "outputs": [
    {
     "name": "stdout",
     "output_type": "stream",
     "text": [
      "<class 'pandas.core.frame.DataFrame'>\n",
      "RangeIndex: 764 entries, 0 to 763\n",
      "Data columns (total 36 columns):\n",
      "preg         764 non-null float64\n",
      "plas         764 non-null float64\n",
      "pres         764 non-null float64\n",
      "skin         764 non-null float64\n",
      "mass         764 non-null float64\n",
      "pedi         764 non-null float64\n",
      "age          764 non-null float64\n",
      "preg^2       764 non-null float64\n",
      "preg plas    764 non-null float64\n",
      "preg pres    764 non-null float64\n",
      "preg skin    764 non-null float64\n",
      "preg mass    764 non-null float64\n",
      "preg pedi    764 non-null float64\n",
      "preg age     764 non-null float64\n",
      "plas^2       764 non-null float64\n",
      "plas pres    764 non-null float64\n",
      "plas skin    764 non-null float64\n",
      "plas mass    764 non-null float64\n",
      "plas pedi    764 non-null float64\n",
      "plas age     764 non-null float64\n",
      "pres^2       764 non-null float64\n",
      "pres skin    764 non-null float64\n",
      "pres mass    764 non-null float64\n",
      "pres pedi    764 non-null float64\n",
      "pres age     764 non-null float64\n",
      "skin^2       764 non-null float64\n",
      "skin mass    764 non-null float64\n",
      "skin pedi    764 non-null float64\n",
      "skin age     764 non-null float64\n",
      "mass^2       764 non-null float64\n",
      "mass pedi    764 non-null float64\n",
      "mass age     764 non-null float64\n",
      "pedi^2       764 non-null float64\n",
      "pedi age     764 non-null float64\n",
      "age^2        764 non-null float64\n",
      "class        760 non-null object\n",
      "dtypes: float64(35), object(1)\n",
      "memory usage: 215.0+ KB\n"
     ]
    }
   ],
   "source": [
    "from sklearn.preprocessing import PolynomialFeatures\n",
    "\n",
    "pf=PolynomialFeatures(degree=2, interaction_only=False, include_bias=False)\n",
    "X=df.values[:,:7]\n",
    "X=pf.fit_transform(X)\n",
    "dfpf=pd.DataFrame(X, columns=pf.get_feature_names(df.columns))\n",
    "dfpf['class']=df['class']\n",
    "dfpf.info()"
   ]
  },
  {
   "cell_type": "code",
   "execution_count": 21,
   "metadata": {},
   "outputs": [
    {
     "data": {
      "text/html": [
       "<div>\n",
       "<style scoped>\n",
       "    .dataframe tbody tr th:only-of-type {\n",
       "        vertical-align: middle;\n",
       "    }\n",
       "\n",
       "    .dataframe tbody tr th {\n",
       "        vertical-align: top;\n",
       "    }\n",
       "\n",
       "    .dataframe thead th {\n",
       "        text-align: right;\n",
       "    }\n",
       "</style>\n",
       "<table border=\"1\" class=\"dataframe\">\n",
       "  <thead>\n",
       "    <tr style=\"text-align: right;\">\n",
       "      <th></th>\n",
       "      <th>preg</th>\n",
       "      <th>plas</th>\n",
       "      <th>pres</th>\n",
       "      <th>skin</th>\n",
       "      <th>mass</th>\n",
       "      <th>pedi</th>\n",
       "      <th>age</th>\n",
       "      <th>preg^2</th>\n",
       "      <th>preg plas</th>\n",
       "      <th>preg pres</th>\n",
       "      <th>...</th>\n",
       "      <th>skin mass</th>\n",
       "      <th>skin pedi</th>\n",
       "      <th>skin age</th>\n",
       "      <th>mass^2</th>\n",
       "      <th>mass pedi</th>\n",
       "      <th>mass age</th>\n",
       "      <th>pedi^2</th>\n",
       "      <th>pedi age</th>\n",
       "      <th>age^2</th>\n",
       "      <th>class</th>\n",
       "    </tr>\n",
       "  </thead>\n",
       "  <tbody>\n",
       "    <tr>\n",
       "      <th>0</th>\n",
       "      <td>0.632412</td>\n",
       "      <td>0.670968</td>\n",
       "      <td>0.008196</td>\n",
       "      <td>0.778478</td>\n",
       "      <td>0.204779</td>\n",
       "      <td>-0.466809</td>\n",
       "      <td>50.0</td>\n",
       "      <td>0.399946</td>\n",
       "      <td>0.424328</td>\n",
       "      <td>0.005183</td>\n",
       "      <td>...</td>\n",
       "      <td>0.159416</td>\n",
       "      <td>-0.363400</td>\n",
       "      <td>38.923886</td>\n",
       "      <td>0.041934</td>\n",
       "      <td>-0.095593</td>\n",
       "      <td>10.238941</td>\n",
       "      <td>0.217910</td>\n",
       "      <td>-23.340437</td>\n",
       "      <td>2500.0</td>\n",
       "      <td>tested_positive</td>\n",
       "    </tr>\n",
       "    <tr>\n",
       "      <th>1</th>\n",
       "      <td>0.000000</td>\n",
       "      <td>0.264516</td>\n",
       "      <td>-0.479728</td>\n",
       "      <td>0.048715</td>\n",
       "      <td>-0.867922</td>\n",
       "      <td>-1.046969</td>\n",
       "      <td>31.0</td>\n",
       "      <td>0.000000</td>\n",
       "      <td>0.000000</td>\n",
       "      <td>-0.000000</td>\n",
       "      <td>...</td>\n",
       "      <td>-0.042280</td>\n",
       "      <td>-0.051003</td>\n",
       "      <td>1.510151</td>\n",
       "      <td>0.753289</td>\n",
       "      <td>0.908687</td>\n",
       "      <td>-26.905582</td>\n",
       "      <td>1.096144</td>\n",
       "      <td>-32.456041</td>\n",
       "      <td>961.0</td>\n",
       "      <td>tested_negative</td>\n",
       "    </tr>\n",
       "    <tr>\n",
       "      <th>2</th>\n",
       "      <td>0.733952</td>\n",
       "      <td>0.896774</td>\n",
       "      <td>-0.642369</td>\n",
       "      <td>-0.072913</td>\n",
       "      <td>-1.373624</td>\n",
       "      <td>-0.397497</td>\n",
       "      <td>32.0</td>\n",
       "      <td>0.538685</td>\n",
       "      <td>0.658189</td>\n",
       "      <td>-0.471468</td>\n",
       "      <td>...</td>\n",
       "      <td>0.100155</td>\n",
       "      <td>0.028983</td>\n",
       "      <td>-2.333204</td>\n",
       "      <td>1.886842</td>\n",
       "      <td>0.546011</td>\n",
       "      <td>-43.955963</td>\n",
       "      <td>0.158004</td>\n",
       "      <td>-12.719902</td>\n",
       "      <td>1024.0</td>\n",
       "      <td>tested_positive</td>\n",
       "    </tr>\n",
       "    <tr>\n",
       "      <th>3</th>\n",
       "      <td>0.000000</td>\n",
       "      <td>0.290323</td>\n",
       "      <td>-0.479728</td>\n",
       "      <td>-0.681049</td>\n",
       "      <td>-0.638058</td>\n",
       "      <td>-1.789761</td>\n",
       "      <td>21.0</td>\n",
       "      <td>0.000000</td>\n",
       "      <td>0.000000</td>\n",
       "      <td>-0.000000</td>\n",
       "      <td>...</td>\n",
       "      <td>0.434548</td>\n",
       "      <td>1.218915</td>\n",
       "      <td>-14.302021</td>\n",
       "      <td>0.407117</td>\n",
       "      <td>1.141971</td>\n",
       "      <td>-13.399209</td>\n",
       "      <td>3.203246</td>\n",
       "      <td>-37.584991</td>\n",
       "      <td>441.0</td>\n",
       "      <td>tested_negative</td>\n",
       "    </tr>\n",
       "    <tr>\n",
       "      <th>4</th>\n",
       "      <td>0.489301</td>\n",
       "      <td>0.600000</td>\n",
       "      <td>-2.594064</td>\n",
       "      <td>0.778478</td>\n",
       "      <td>1.660587</td>\n",
       "      <td>0.827678</td>\n",
       "      <td>33.0</td>\n",
       "      <td>0.239416</td>\n",
       "      <td>0.293581</td>\n",
       "      <td>-1.269278</td>\n",
       "      <td>...</td>\n",
       "      <td>1.292730</td>\n",
       "      <td>0.644329</td>\n",
       "      <td>25.689765</td>\n",
       "      <td>2.757550</td>\n",
       "      <td>1.374432</td>\n",
       "      <td>54.799375</td>\n",
       "      <td>0.685051</td>\n",
       "      <td>27.313376</td>\n",
       "      <td>1089.0</td>\n",
       "      <td>tested_positive</td>\n",
       "    </tr>\n",
       "  </tbody>\n",
       "</table>\n",
       "<p>5 rows × 36 columns</p>\n",
       "</div>"
      ],
      "text/plain": [
       "       preg      plas      pres      skin      mass      pedi   age    preg^2  \\\n",
       "0  0.632412  0.670968  0.008196  0.778478  0.204779 -0.466809  50.0  0.399946   \n",
       "1  0.000000  0.264516 -0.479728  0.048715 -0.867922 -1.046969  31.0  0.000000   \n",
       "2  0.733952  0.896774 -0.642369 -0.072913 -1.373624 -0.397497  32.0  0.538685   \n",
       "3  0.000000  0.290323 -0.479728 -0.681049 -0.638058 -1.789761  21.0  0.000000   \n",
       "4  0.489301  0.600000 -2.594064  0.778478  1.660587  0.827678  33.0  0.239416   \n",
       "\n",
       "   preg plas  preg pres  ...  skin mass  skin pedi   skin age    mass^2  \\\n",
       "0   0.424328   0.005183  ...   0.159416  -0.363400  38.923886  0.041934   \n",
       "1   0.000000  -0.000000  ...  -0.042280  -0.051003   1.510151  0.753289   \n",
       "2   0.658189  -0.471468  ...   0.100155   0.028983  -2.333204  1.886842   \n",
       "3   0.000000  -0.000000  ...   0.434548   1.218915 -14.302021  0.407117   \n",
       "4   0.293581  -1.269278  ...   1.292730   0.644329  25.689765  2.757550   \n",
       "\n",
       "   mass pedi   mass age    pedi^2   pedi age   age^2            class  \n",
       "0  -0.095593  10.238941  0.217910 -23.340437  2500.0  tested_positive  \n",
       "1   0.908687 -26.905582  1.096144 -32.456041   961.0  tested_negative  \n",
       "2   0.546011 -43.955963  0.158004 -12.719902  1024.0  tested_positive  \n",
       "3   1.141971 -13.399209  3.203246 -37.584991   441.0  tested_negative  \n",
       "4   1.374432  54.799375  0.685051  27.313376  1089.0  tested_positive  \n",
       "\n",
       "[5 rows x 36 columns]"
      ]
     },
     "execution_count": 21,
     "metadata": {},
     "output_type": "execute_result"
    }
   ],
   "source": [
    "dfpf.head()"
   ]
  },
  {
   "cell_type": "markdown",
   "metadata": {},
   "source": [
    "## Klasterovanje i binarizacija"
   ]
  },
  {
   "cell_type": "markdown",
   "metadata": {},
   "source": [
    "Klasterovanje predstavlja transformaciju kontinualne veličine u veličinu tipa kategorije, odnosno nominalnu ili češće, ordinalnu veličinu (jer se klase određuju na osnovu vrednosti kontinualne veličine). Poseban slučaj klasterovanja je binarizacija, kojom se kontinualna veličina transformiše u veličinu tipa kategorije, sa samo dve moguće vrednosti.\n",
    "\n",
    "Klasterovanje i binarizacija se vrše u situacijama u kojima precizna vrednost kontinualne ulazne veličine nema konkretan značaj za vrednost izlazne veličine. Na primer, avio-kompanije može precizirati različiti tretman prtljaga putnika prema njegovoj težini: prtljag težine do 10kg (ukoliko je određenih dimenzija) se može uneti u kabinu aviona, od 10kg do 23kg, moguće ga je čekirati bez naplate; čekiranje prtljaga težeg od 23kg se naplaćuje.\n",
    "\n",
    "Takođe, klasterovanjem ili binarizacijom izlazne veličine, problem regresije se može svesti na problem klasifikacije.\n",
    "\n",
    "Godine starosti osobe predstavljaju kontinualnu veličinu koja se veoma često, u rešavanju različitih problema transformiše u veličinu tipa kategorije. Na slici dole je prikazana raspodela vrednosti veličine godina starosti u skupu podataka za predviđanje dijabetesa."
   ]
  },
  {
   "cell_type": "code",
   "execution_count": 22,
   "metadata": {},
   "outputs": [
    {
     "data": {
      "image/png": "[encoded data removed]",
      "text/plain": [
       "<Figure size 432x288 with 1 Axes>"
      ]
     },
     "metadata": {
      "needs_background": "light"
     },
     "output_type": "display_data"
    }
   ],
   "source": [
    "df['age'].hist()\n",
    "plt.show()"
   ]
  },
  {
   "cell_type": "markdown",
   "metadata": {},
   "source": [
    "Kod prikazan dole ilustruje način transformacije ove veličine u novu veličinu tipa kategorije, čije su moguće vrednosti: -25, 25-35, 35-45, 45-55, 55-65, 65-. U ovom slučaju se koristi funkcija cut pandas paketa. Kao argumenti, dostavljaju se granične vrednosti intervala klasterovanja i nazivi klastera, odnosno buduće vrednosti veličine tipa kategorije."
   ]
  },
  {
   "cell_type": "code",
   "execution_count": 23,
   "metadata": {},
   "outputs": [],
   "source": [
    "bin_ranges=[0, 25, 35, 45, 55, 65, 120]\n",
    "bin_names=['-25', '25-35', '35-45','45-55','55-65','65+']\n",
    "df['ageclass']=pd.cut(df['age'], bins=bin_ranges, labels=bin_names)\n",
    "df['ageclass']=df['ageclass'].astype('category')"
   ]
  },
  {
   "cell_type": "markdown",
   "metadata": {},
   "source": [
    "Raspodela novih vrednosti je prikazana dole."
   ]
  },
  {
   "cell_type": "code",
   "execution_count": 24,
   "metadata": {},
   "outputs": [
    {
     "data": {
      "text/plain": [
       "ageclass\n",
       "-25      265\n",
       "25-35    230\n",
       "35-45    152\n",
       "45-55     68\n",
       "55-65     36\n",
       "65+       13\n",
       "dtype: int64"
      ]
     },
     "execution_count": 24,
     "metadata": {},
     "output_type": "execute_result"
    }
   ],
   "source": [
    "df.groupby('ageclass').size()"
   ]
  },
  {
   "cell_type": "markdown",
   "metadata": {},
   "source": [
    "Kod gore predstavlja demonstraciju načina na koji se numerička veličina transformiše u veličinu nominalnog tipa (zapravo od postojeće numeričke veličine se kreira nova veličina nominalnog tipa). U ovom konkretnom slučaju, godine starosti bi morale biti ordinalnog tipa, a vrednosti će biti celobrojne. Zato, izvršava se sledeći kod."
   ]
  },
  {
   "cell_type": "code",
   "execution_count": 25,
   "metadata": {},
   "outputs": [],
   "source": [
    "bin_ranges=[0, 25, 35, 45, 55, 65, 120]\n",
    "bin_names=[1, 2, 3,4,5,6]\n",
    "df['age']=pd.cut(df['age'], bins=bin_ranges, labels=bin_names)\n",
    "df['age']=df['age'].astype('int')"
   ]
  },
  {
   "cell_type": "markdown",
   "metadata": {},
   "source": [
    "## Kodiranje"
   ]
  },
  {
   "cell_type": "markdown",
   "metadata": {},
   "source": [
    "Prilikom rešavanja problema klasifikacije i regresije, poželjno je da vrednosti u jednom skupu podataka budu numeričke. Na primer, neki algoritmi ne mogu da rade sa tekstualnim ili podacima tipa kategorije (kod kojih su vrednosti kategorija tekstualnog tipa). U tim slučajevima, neophodno je u postupke pripreme podataka uključiti i kodiranje veličina. Dva osnovna postupka za kodiranje veličina su:\n",
    "- Kodiranje labelama (label encoding) - veličine tipa kategorije (nominalni tip) se zamenjuju brojevima, kodovima odgovarajućih klasa.\n",
    "- Binarno kodiranje (one hot encoding) - za jednu nominalnu veličinu se formira onoliko novih veličina koliko ima klasa u podacima, a vrednosti su binarne."
   ]
  },
  {
   "cell_type": "markdown",
   "metadata": {},
   "source": [
    "Najjednostavniji način za binarno kodiranje podrazumeva korišćenje funkcije get_dummies pandas paketa. Kod dole ilustruje način njenog korišćenja"
   ]
  },
  {
   "cell_type": "code",
   "execution_count": 26,
   "metadata": {},
   "outputs": [
    {
     "data": {
      "text/html": [
       "<div>\n",
       "<style scoped>\n",
       "    .dataframe tbody tr th:only-of-type {\n",
       "        vertical-align: middle;\n",
       "    }\n",
       "\n",
       "    .dataframe tbody tr th {\n",
       "        vertical-align: top;\n",
       "    }\n",
       "\n",
       "    .dataframe thead th {\n",
       "        text-align: right;\n",
       "    }\n",
       "</style>\n",
       "<table border=\"1\" class=\"dataframe\">\n",
       "  <thead>\n",
       "    <tr style=\"text-align: right;\">\n",
       "      <th></th>\n",
       "      <th>preg</th>\n",
       "      <th>plas</th>\n",
       "      <th>pres</th>\n",
       "      <th>skin</th>\n",
       "      <th>mass</th>\n",
       "      <th>pedi</th>\n",
       "      <th>age</th>\n",
       "      <th>class</th>\n",
       "      <th>ageclass_-25</th>\n",
       "      <th>ageclass_25-35</th>\n",
       "      <th>ageclass_35-45</th>\n",
       "      <th>ageclass_45-55</th>\n",
       "      <th>ageclass_55-65</th>\n",
       "      <th>ageclass_65+</th>\n",
       "    </tr>\n",
       "  </thead>\n",
       "  <tbody>\n",
       "    <tr>\n",
       "      <th>0</th>\n",
       "      <td>0.632412</td>\n",
       "      <td>0.670968</td>\n",
       "      <td>0.008196</td>\n",
       "      <td>0.778478</td>\n",
       "      <td>0.204779</td>\n",
       "      <td>-0.466809</td>\n",
       "      <td>4</td>\n",
       "      <td>tested_positive</td>\n",
       "      <td>0</td>\n",
       "      <td>0</td>\n",
       "      <td>0</td>\n",
       "      <td>1</td>\n",
       "      <td>0</td>\n",
       "      <td>0</td>\n",
       "    </tr>\n",
       "    <tr>\n",
       "      <th>1</th>\n",
       "      <td>0.000000</td>\n",
       "      <td>0.264516</td>\n",
       "      <td>-0.479728</td>\n",
       "      <td>0.048715</td>\n",
       "      <td>-0.867922</td>\n",
       "      <td>-1.046969</td>\n",
       "      <td>2</td>\n",
       "      <td>tested_negative</td>\n",
       "      <td>0</td>\n",
       "      <td>1</td>\n",
       "      <td>0</td>\n",
       "      <td>0</td>\n",
       "      <td>0</td>\n",
       "      <td>0</td>\n",
       "    </tr>\n",
       "    <tr>\n",
       "      <th>2</th>\n",
       "      <td>0.733952</td>\n",
       "      <td>0.896774</td>\n",
       "      <td>-0.642369</td>\n",
       "      <td>-0.072913</td>\n",
       "      <td>-1.373624</td>\n",
       "      <td>-0.397497</td>\n",
       "      <td>2</td>\n",
       "      <td>tested_positive</td>\n",
       "      <td>0</td>\n",
       "      <td>1</td>\n",
       "      <td>0</td>\n",
       "      <td>0</td>\n",
       "      <td>0</td>\n",
       "      <td>0</td>\n",
       "    </tr>\n",
       "    <tr>\n",
       "      <th>3</th>\n",
       "      <td>0.000000</td>\n",
       "      <td>0.290323</td>\n",
       "      <td>-0.479728</td>\n",
       "      <td>-0.681049</td>\n",
       "      <td>-0.638058</td>\n",
       "      <td>-1.789761</td>\n",
       "      <td>1</td>\n",
       "      <td>tested_negative</td>\n",
       "      <td>1</td>\n",
       "      <td>0</td>\n",
       "      <td>0</td>\n",
       "      <td>0</td>\n",
       "      <td>0</td>\n",
       "      <td>0</td>\n",
       "    </tr>\n",
       "    <tr>\n",
       "      <th>4</th>\n",
       "      <td>0.489301</td>\n",
       "      <td>0.600000</td>\n",
       "      <td>-2.594064</td>\n",
       "      <td>0.778478</td>\n",
       "      <td>1.660587</td>\n",
       "      <td>0.827678</td>\n",
       "      <td>2</td>\n",
       "      <td>tested_positive</td>\n",
       "      <td>0</td>\n",
       "      <td>1</td>\n",
       "      <td>0</td>\n",
       "      <td>0</td>\n",
       "      <td>0</td>\n",
       "      <td>0</td>\n",
       "    </tr>\n",
       "  </tbody>\n",
       "</table>\n",
       "</div>"
      ],
      "text/plain": [
       "       preg      plas      pres      skin      mass      pedi  age  \\\n",
       "0  0.632412  0.670968  0.008196  0.778478  0.204779 -0.466809    4   \n",
       "1  0.000000  0.264516 -0.479728  0.048715 -0.867922 -1.046969    2   \n",
       "2  0.733952  0.896774 -0.642369 -0.072913 -1.373624 -0.397497    2   \n",
       "3  0.000000  0.290323 -0.479728 -0.681049 -0.638058 -1.789761    1   \n",
       "4  0.489301  0.600000 -2.594064  0.778478  1.660587  0.827678    2   \n",
       "\n",
       "             class  ageclass_-25  ageclass_25-35  ageclass_35-45  \\\n",
       "0  tested_positive             0               0               0   \n",
       "1  tested_negative             0               1               0   \n",
       "2  tested_positive             0               1               0   \n",
       "3  tested_negative             1               0               0   \n",
       "4  tested_positive             0               1               0   \n",
       "\n",
       "   ageclass_45-55  ageclass_55-65  ageclass_65+  \n",
       "0               1               0             0  \n",
       "1               0               0             0  \n",
       "2               0               0             0  \n",
       "3               0               0             0  \n",
       "4               0               0             0  "
      ]
     },
     "execution_count": 26,
     "metadata": {},
     "output_type": "execute_result"
    }
   ],
   "source": [
    "df_processed = pd.get_dummies(df, prefix_sep=\"_\",columns=['ageclass'])\n",
    "df_processed.head()"
   ]
  },
  {
   "cell_type": "code",
   "execution_count": 28,
   "metadata": {},
   "outputs": [],
   "source": [
    "df_processed.to_csv('kurs_diabetes_prep.csv')"
   ]
  },
  {
   "cell_type": "code",
   "execution_count": null,
   "metadata": {},
   "outputs": [],
   "source": []
  }
 ],
 "metadata": {
  "kernelspec": {
   "display_name": "Python 3",
   "language": "python",
   "name": "python3"
  },
  "language_info": {
   "codemirror_mode": {
    "name": "ipython",
    "version": 3
   },
   "file_extension": ".py",
   "mimetype": "text/x-python",
   "name": "python",
   "nbconvert_exporter": "python",
   "pygments_lexer": "ipython3",
   "version": "3.7.7"
  }
 },
 "nbformat": 4,
 "nbformat_minor": 2
}
