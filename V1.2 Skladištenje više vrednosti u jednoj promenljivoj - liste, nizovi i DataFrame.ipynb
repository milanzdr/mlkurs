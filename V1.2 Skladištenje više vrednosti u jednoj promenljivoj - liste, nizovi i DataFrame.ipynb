{
 "cells": [
  {
   "cell_type": "markdown",
   "metadata": {},
   "source": [
    "# Skladištenje više vrednosti u jednoj promenljivoj - liste, nizovi i DataFrame"
   ]
  },
  {
   "cell_type": "markdown",
   "metadata": {},
   "source": [
    "Jedna promenljiva osnovnog tipa (int, float, str, bool) može da sadrži samo jednu vrednost. Lista predstavlja seriju vrednosti, istog ili različitog tipa. Koristi se za skladištenje više vrednosti u jednoj promenljivoj. Vrednost jedne promenljive tipa “lista” se definiše kao serija vrednosti odvojenih zarezima između srednjih zagrada."
   ]
  },
  {
   "cell_type": "code",
   "execution_count": 1,
   "metadata": {},
   "outputs": [
    {
     "name": "stdout",
     "output_type": "stream",
     "text": [
      "[1, 23, 'Tekst', False, 23.34, 12]\n"
     ]
    }
   ],
   "source": [
    "t=[1,23,'Tekst',False,23.34,12]\n",
    "print(t)"
   ]
  },
  {
   "cell_type": "markdown",
   "metadata": {},
   "source": [
    "Svaka vrednost u listi se naziva elementom liste. Svaki element se nalazi na određenoj poziciji – indeksu. Brojanje indeksa počinje od 0. Korišćenjem indeksa je moguće \"pristupiti\" pojedinačnim elementima iz liste."
   ]
  },
  {
   "cell_type": "code",
   "execution_count": 2,
   "metadata": {},
   "outputs": [
    {
     "name": "stdout",
     "output_type": "stream",
     "text": [
      "Tekst\n"
     ]
    }
   ],
   "source": [
    "u=t[2]\n",
    "print(u)"
   ]
  },
  {
   "cell_type": "markdown",
   "metadata": {},
   "source": [
    "Moguće je pristupanje delovima liste. Odnosno, moguće je pristupiti definisanom nizu njenih elemenata i od njih, na primer, napraviti novu listu. Pristupanje podskupu elemenata postojeće liste se naziva još i \"isecanje\" liste. Opseg podataka koji želimo da isečemo iz postojeće liste definišemo sa dva broja, odvojena znakom : Prvi broj ukazuje na indeks prvog elementa isečene liste. Drugi broj ukazuje na indeks elementa ispred kojeg se vrši isecanje."
   ]
  },
  {
   "cell_type": "code",
   "execution_count": 3,
   "metadata": {},
   "outputs": [
    {
     "name": "stdout",
     "output_type": "stream",
     "text": [
      "[23, 'Tekst']\n"
     ]
    }
   ],
   "source": [
    "w=t[1:3]\n",
    "print(w)"
   ]
  },
  {
   "cell_type": "markdown",
   "metadata": {},
   "source": [
    "Ukoliko jedan od ova dva broja nije definisan (ostavljeno je prazno mesto), onda se to mesto odnosi na prvi (prazno mesto sa leve), odnosno zadnji (desne strane) element."
   ]
  },
  {
   "cell_type": "code",
   "execution_count": 4,
   "metadata": {},
   "outputs": [
    {
     "name": "stdout",
     "output_type": "stream",
     "text": [
      "['Tekst', False, 23.34, 12]\n"
     ]
    }
   ],
   "source": [
    "w=t[2:]\n",
    "print(w)"
   ]
  },
  {
   "cell_type": "markdown",
   "metadata": {},
   "source": [
    "Listi se mogu dodavati elementi - na kraju liste. Kao i promenljive drugih tipova, liste su objekti. U paradigmi objektno-orijentisanog programiranja, objekti imaju svoje metode. Ove metode su zajedničke za sve objekte određene klase, odnosno tipa. U ovom slučaju govorimo o klasi listi. Metode objekta se pozivaju navođenjem naziva metode nakon ispisa naziva promenljive - objekta i tačke. "
   ]
  },
  {
   "cell_type": "code",
   "execution_count": 5,
   "metadata": {},
   "outputs": [
    {
     "name": "stdout",
     "output_type": "stream",
     "text": [
      "[1, 23, 'Tekst', False, 23.34, 12, 'Novi el']\n"
     ]
    }
   ],
   "source": [
    "t.append('Novi el')\n",
    "print(t)"
   ]
  },
  {
   "cell_type": "markdown",
   "metadata": {},
   "source": [
    "Iz liste se mogu izbaciti elementi na određenom mestu u listi - indeksu."
   ]
  },
  {
   "cell_type": "code",
   "execution_count": 6,
   "metadata": {},
   "outputs": [
    {
     "name": "stdout",
     "output_type": "stream",
     "text": [
      "[1, 'Tekst', False, 23.34, 12, 'Novi el']\n"
     ]
    }
   ],
   "source": [
    "t.pop(1)\n",
    "print(t)"
   ]
  },
  {
   "cell_type": "markdown",
   "metadata": {},
   "source": [
    "Mogu se promeniti vrednosti postojećih, pojedinačnih elemenata u listi."
   ]
  },
  {
   "cell_type": "code",
   "execution_count": 7,
   "metadata": {},
   "outputs": [
    {
     "name": "stdout",
     "output_type": "stream",
     "text": [
      "[1, 'Tekst', False, 23.33, 12, 'Novi el']\n"
     ]
    }
   ],
   "source": [
    "t[3]=23.33\n",
    "print(t)"
   ]
  },
  {
   "cell_type": "markdown",
   "metadata": {},
   "source": [
    "Dužina liste se utvrđuje korišćenjem funkcije len."
   ]
  },
  {
   "cell_type": "code",
   "execution_count": 8,
   "metadata": {},
   "outputs": [
    {
     "name": "stdout",
     "output_type": "stream",
     "text": [
      "6\n"
     ]
    }
   ],
   "source": [
    "g=len(t)\n",
    "print(g)"
   ]
  },
  {
   "cell_type": "markdown",
   "metadata": {},
   "source": [
    "Jedan element liste može biti druga lista. Na ovaj način se formiraju tzv. ugnježdene liste."
   ]
  },
  {
   "cell_type": "code",
   "execution_count": 9,
   "metadata": {},
   "outputs": [
    {
     "name": "stdout",
     "output_type": "stream",
     "text": [
      "[1, ['T', 2, 4, 6], False, 23.33, 12, 'Novi el']\n"
     ]
    }
   ],
   "source": [
    "t[1]=['T',2,4,6]\n",
    "print(t)"
   ]
  },
  {
   "cell_type": "markdown",
   "metadata": {},
   "source": [
    "Tako se mogu kreirati veoma složene strukture podataka. Na primer, tabele se mogu opisati kao liste, kod kojih svaki element predstavlja listu, pri čemu sve ugnježdene liste imaju isti broj elemenata. Ovako, svaka ugnježdena lista može da sadrži podatke u jednoj koloni, jedne tabele. Podaci jedne vrste su, onda, svi podaci na istom indeksu/poziciji u ugnježdenim listama."
   ]
  },
  {
   "cell_type": "code",
   "execution_count": 10,
   "metadata": {},
   "outputs": [
    {
     "name": "stdout",
     "output_type": "stream",
     "text": [
      "[['Kolona 1', 2, 3, 7], ['Kolona 2', 'a', 'c', 'b'], ['Kolona 3', True, False, False]]\n"
     ]
    }
   ],
   "source": [
    "v=[['Kolona 1',2,3,7],['Kolona 2','a','c','b'],['Kolona 3',True,False,False]]\n",
    "print(v)"
   ]
  },
  {
   "cell_type": "markdown",
   "metadata": {},
   "source": [
    "Pristupanje podacima u jednoj listi se vrši navođenjem naziva liste i indeksa elementa čijoj vrednosti želimo da pristupimo. Moguće je pristupiti i pojedinačnim podacima iz ugnježdenih listi. U tom slučaju navodimo najpre indeks elementa glavne lista - elementa čija je vrednost ugnježdena lista, a potom indeks elementa u toj ugnježdenoj listi."
   ]
  },
  {
   "cell_type": "code",
   "execution_count": 11,
   "metadata": {},
   "outputs": [
    {
     "name": "stdout",
     "output_type": "stream",
     "text": [
      "3\n"
     ]
    }
   ],
   "source": [
    "w=v[0][2]\n",
    "print(w)"
   ]
  },
  {
   "cell_type": "markdown",
   "metadata": {},
   "source": [
    "## Nizovi"
   ]
  },
  {
   "cell_type": "markdown",
   "metadata": {},
   "source": [
    "Nizovi, za razliku od listi, omogućavaju skladištenje samo elemenata istog tipa. Kao i liste, i nizovi mogu biti dvodimenzionalni (ugnježdeni nizovi). Dvodimenzionalnim nizom možemo predstaviti matricu, a oni omogućavaju i izvršavanje operacija matričnog računa, kao što su množenje matrica i sabiranje element po element.\n",
    "\n",
    "Niz se može kreirati od postojeće liste. Nizovi su deo numpy paketa i sve funkcije za manipulaciju nizovima pripadaju ovom paketu. Za kreiranje niza od postojeće liste, koristi se funkcija array, numpy paketa."
   ]
  },
  {
   "cell_type": "code",
   "execution_count": 12,
   "metadata": {},
   "outputs": [
    {
     "name": "stdout",
     "output_type": "stream",
     "text": [
      "[[2.3, 3.1], [1.9, 2.0], [34.2, 22.2]]\n"
     ]
    }
   ],
   "source": [
    "lst=[[2.3,3.1],[1.9,2.],[34.2,22.2]]\n",
    "print(lst)"
   ]
  },
  {
   "cell_type": "code",
   "execution_count": 13,
   "metadata": {},
   "outputs": [
    {
     "name": "stdout",
     "output_type": "stream",
     "text": [
      "[[ 2.3  3.1]\n",
      " [ 1.9  2. ]\n",
      " [34.2 22.2]]\n"
     ]
    }
   ],
   "source": [
    "import numpy as np\n",
    "arr=np.array(lst)\n",
    "print(arr)"
   ]
  },
  {
   "cell_type": "markdown",
   "metadata": {},
   "source": [
    "Dole su prikazani primeri množenja i sabiranja dve matrice, kao i sabiranja matrice sa pojedinačnom vrednošću - skalarom."
   ]
  },
  {
   "cell_type": "code",
   "execution_count": 14,
   "metadata": {},
   "outputs": [
    {
     "name": "stdout",
     "output_type": "stream",
     "text": [
      "[[ 4 10 18]\n",
      " [10 18 28]\n",
      " [18 28 40]]\n"
     ]
    }
   ],
   "source": [
    "ar1=np.array([[1,2,3],[2,3,4],[3,4,5]])\n",
    "ar2=np.array([[4,5,6],[5,6,7],[6,7,8]])\n",
    "print(ar1*ar2)"
   ]
  },
  {
   "cell_type": "code",
   "execution_count": 15,
   "metadata": {},
   "outputs": [
    {
     "name": "stdout",
     "output_type": "stream",
     "text": [
      "[[ 5  7  9]\n",
      " [ 7  9 11]\n",
      " [ 9 11 13]]\n"
     ]
    }
   ],
   "source": [
    "print(ar1+ar2)"
   ]
  },
  {
   "cell_type": "code",
   "execution_count": 16,
   "metadata": {},
   "outputs": [
    {
     "name": "stdout",
     "output_type": "stream",
     "text": [
      "[[100 101 102]\n",
      " [101 102 103]\n",
      " [102 103 104]]\n"
     ]
    }
   ],
   "source": [
    "print(ar1+99)"
   ]
  },
  {
   "cell_type": "markdown",
   "metadata": {},
   "source": [
    "Isecanje dvodimenzionalnih nizova se vrši zadavanjem kriterijuma za isecanje u obe ose, prvo po vrstama, drugo po kolonama. Donji primer pokazuje isecanje svih vrsta prve dve kolone matrice ar1."
   ]
  },
  {
   "cell_type": "code",
   "execution_count": 17,
   "metadata": {},
   "outputs": [
    {
     "name": "stdout",
     "output_type": "stream",
     "text": [
      "[[1 2]\n",
      " [2 3]\n",
      " [3 4]]\n"
     ]
    }
   ],
   "source": [
    "ar3=ar1[:,0:2]\n",
    "print(ar3)"
   ]
  },
  {
   "cell_type": "markdown",
   "metadata": {},
   "source": [
    "## DataFrame struktura podataka"
   ]
  },
  {
   "cell_type": "markdown",
   "metadata": {},
   "source": [
    "DataFrame je struktura u kojoj se uobičajeno smeštaju tabelarni podaci, za koju je ona i prilagođena. DataFrame je u Pythonu sinonim za tabelu. Jednu tabelu čine vrste i kolone. Kolone mogu imati i svoja zaglavlja - vrstu, odnosno značenje podataka u kolonama. Takođe, moguće je zadavati i nazive pojedinačnih vrsta. Dimenzije DataFrame-a se uobičajeno nazivaju osama (axes). Osa 0 je horizontalna osa, odnosno, podaci u osi 0 čine vrste tabele. Osa 1 je vertikalna osa, odnosno, podaci u osi 1 čine kolone tabele.\n",
    "\n",
    "Za razliku od nizova, DataFrame može skladištiti vrednosti različitih tipova, ali samo po kolonama - u jednoj koloni ove tabelarne strukture mogu postojati samo podaci istog tipa. Izuzetak od ovog pravila je specifičan tip podatka - nedostajući podatak (NaN).\n",
    "\n",
    "DataFrame struktura podataka je deo paketa pandas. Pre rada sa DataFrame strukturama podataka, potrebno je uvesti ovaj paket.\n",
    "\n",
    "Uobičajeno, DataFrame strukture se kreiraju od postojećih podataka, npr. od postojećih nizova, ili od podataka koji se nalaze u nekoj datoteci."
   ]
  },
  {
   "cell_type": "code",
   "execution_count": 18,
   "metadata": {},
   "outputs": [
    {
     "name": "stdout",
     "output_type": "stream",
     "text": [
      "   0  1\n",
      "0  1  2\n",
      "1  2  3\n",
      "2  3  4\n"
     ]
    }
   ],
   "source": [
    "import pandas as pd\n",
    "df=pd.DataFrame(data=ar3)\n",
    "print(df)"
   ]
  },
  {
   "cell_type": "markdown",
   "metadata": {},
   "source": [
    "Prilikom kreiranja DataFrame strukture od podataka iz niza, automatski su kreirani nazivi kolona i vrsta (indeksi), pošto ove informacije definicija niza ne sadrži. Ove informacije je moguće naknadno definisati. Uobičajeno, indeksi (nazivi vrsta) se ne definišu, već se koriste automatski dodeljeni indeksi."
   ]
  },
  {
   "cell_type": "code",
   "execution_count": 19,
   "metadata": {},
   "outputs": [
    {
     "name": "stdout",
     "output_type": "stream",
     "text": [
      "      Kol1  Kol2\n",
      "Vrs1     1     2\n",
      "Vrs2     2     3\n",
      "Vrs3     3     4\n"
     ]
    }
   ],
   "source": [
    "df.columns=['Kol1','Kol2']\n",
    "df.index=['Vrs1','Vrs2','Vrs3']\n",
    "print(df)"
   ]
  },
  {
   "cell_type": "markdown",
   "metadata": {},
   "source": [
    "Moguće je kreirati podskupove podataka od postojećih DataFrame struktura isecanjem podataka, na isti način kao i prilikom isecanja listi. Referenciranje na pojedinačne podatke u DataFrame strukturi se vrši na isti način kao i kod nizova.\n",
    "\n",
    "Kao što je moguće kreirati DataFrame strukturu od podataka u nizu, tako je moguće i kreirati niz od postojeće DataFrame strukture. Tom prilikom, gube se informacije o nazivima kolona i indeksima vrsti."
   ]
  },
  {
   "cell_type": "code",
   "execution_count": 20,
   "metadata": {},
   "outputs": [
    {
     "name": "stdout",
     "output_type": "stream",
     "text": [
      "[[1 2]\n",
      " [2 3]\n",
      " [3 4]]\n"
     ]
    }
   ],
   "source": [
    "ar4=df.values\n",
    "print(ar4)"
   ]
  },
  {
   "cell_type": "markdown",
   "metadata": {},
   "source": [
    "Broj kolona u jednoj matrici se može utvrditi uvidom u vrednost atributa size, DataFrame strukture. Broj vrsti se može utvrditi korišćenjem funkcije len."
   ]
  },
  {
   "cell_type": "code",
   "execution_count": 21,
   "metadata": {},
   "outputs": [
    {
     "name": "stdout",
     "output_type": "stream",
     "text": [
      "DataFrame ima 6 kolona i 3 vrsta.\n"
     ]
    }
   ],
   "source": [
    "dfs=df.size\n",
    "dfl=len(df)\n",
    "print('DataFrame ima '+str(dfs)+' kolona i '+str(dfl)+' vrsta.')"
   ]
  }
 ],
 "metadata": {
  "kernelspec": {
   "display_name": "Python 3",
   "language": "python",
   "name": "python3"
  },
  "language_info": {
   "codemirror_mode": {
    "name": "ipython",
    "version": 3
   },
   "file_extension": ".py",
   "mimetype": "text/x-python",
   "name": "python",
   "nbconvert_exporter": "python",
   "pygments_lexer": "ipython3",
   "version": "3.7.0"
  }
 },
 "nbformat": 4,
 "nbformat_minor": 2
}
