{
 "cells": [
  {
   "cell_type": "markdown",
   "metadata": {},
   "source": [
    "# Petlje, kontrolne strukture i funkcije"
   ]
  },
  {
   "cell_type": "markdown",
   "metadata": {},
   "source": [
    "Veoma često se u programiranju javlja potreba da se jedna ili više instrukcija izvrši više puta, nad različitim podacima. Uobičajeno, ovakav problem se rešava korišćenjem petlje. Petlja se može izvršiti:\n",
    "\n",
    "- Definisan broj puta\n",
    "- Onoliko puta koliko ima skupova podataka nad kojima se ona izvršava\n",
    "- Za definisan opseg/interval.\n",
    "\n",
    "Moguće je izvršavanje nekog skupa komandi ponoviti zadati broj puta. U tom slučaju, ovaj skup komandi je potrebno nekako grupisati. U Pythonu, grupisanje komandi se vrši uvlačenjem redova (na istom nivou) u kojima se navode komande u jednoj grupi, i to nakon navođenja instrukcije za početak petlje. Prilikom navođenja instrukcije za izvršavanje petlje, kreira se i promenljiva čija se vrednosti automatski menja za svako izvršavanje jednog koraka petlje."
   ]
  },
  {
   "cell_type": "code",
   "execution_count": 1,
   "metadata": {},
   "outputs": [
    {
     "name": "stdout",
     "output_type": "stream",
     "text": [
      "Hello world\n",
      "Hello world\n",
      "Hello world\n"
     ]
    }
   ],
   "source": [
    "for x in range(3):\n",
    "    print('Hello world')"
   ]
  },
  {
   "cell_type": "code",
   "execution_count": 2,
   "metadata": {},
   "outputs": [
    {
     "name": "stdout",
     "output_type": "stream",
     "text": [
      "1\n",
      "25\n",
      "625\n"
     ]
    }
   ],
   "source": [
    "c=25\n",
    "for x in range(3):\n",
    "    d=c**x\n",
    "    print(d)"
   ]
  },
  {
   "cell_type": "markdown",
   "metadata": {},
   "source": [
    "U primeru gore, u svakom koraku izvršenja petlje se vrši kreiranje promenljive d. Njena vrednost zavisi od konstante c i vrednosti promenljive x u svakom koraku. \n",
    "\n",
    "Takođe, prilikom izvršenja petlje, moguće je u svakom koraku menjati vrednost jedne promenljive, relativno u odnosu na njenu prethodnu vrednost, odnosno vrednost postavljenu u prethodnom koraku."
   ]
  },
  {
   "cell_type": "code",
   "execution_count": 3,
   "metadata": {},
   "outputs": [
    {
     "name": "stdout",
     "output_type": "stream",
     "text": [
      "25\n",
      "26\n",
      "28\n"
     ]
    }
   ],
   "source": [
    "c=25\n",
    "for x in range(3):\n",
    "    c=c+x\n",
    "    print(c)"
   ]
  },
  {
   "cell_type": "markdown",
   "metadata": {},
   "source": [
    "Veoma često, grupa komandi u petlji se izvršava koristeći podatke koji se nalaze u nekoj listi ili nizu."
   ]
  },
  {
   "cell_type": "code",
   "execution_count": 4,
   "metadata": {},
   "outputs": [
    {
     "name": "stdout",
     "output_type": "stream",
     "text": [
      "11\n",
      "3\n",
      "14\n",
      "144\n"
     ]
    }
   ],
   "source": [
    "s=[11,3,14,144]\n",
    "for c in s:\n",
    "    print(c)"
   ]
  },
  {
   "cell_type": "markdown",
   "metadata": {},
   "source": [
    "Višestruko izvršavanje na osnovu elemenata niza se može vršiti i petljom koja kreira promenljivu na osnovu indeksa elemenata niza."
   ]
  },
  {
   "cell_type": "code",
   "execution_count": 5,
   "metadata": {},
   "outputs": [
    {
     "name": "stdout",
     "output_type": "stream",
     "text": [
      "11\n",
      "3\n",
      "14\n",
      "144\n"
     ]
    }
   ],
   "source": [
    "s=[11,3,14,144]\n",
    "for x in range(len(s)):\n",
    "    print(s[x])"
   ]
  },
  {
   "cell_type": "markdown",
   "metadata": {},
   "source": [
    "## Kontrolne strukture - uslovno izvršavanje"
   ]
  },
  {
   "cell_type": "markdown",
   "metadata": {},
   "source": [
    "Veoma često je potrebno usloviti izvršenje neke komande ili grupe komandi, zadavanjem uslova čija se istinitost ispituje. U takvim slučaju, koristi se if kontrolna struktura. Grupa komandi se izvršava ukoliko je uslov ispunjen, odnosno, ukoliko je vrednost logičkog iskaza kojim je uslov opisan - tačna. \n",
    "\n",
    "Prilikom definisanja ovakvih logičkih iskaza, koriste se operatori poređenja (>,<,==,!=,>=,<=) i logički operatori (and or not). Kontrolne strukture omogućavaju grananje izvršenja. Jedan skup instrukcija se može izvršiti ukoliko je uslov zadovoljen, odnosno zadati logički iskaz tačan; drugi se izvršava ukoliko uslov nije zadovoljen, odnosno zadati logički iskaz nije tačan."
   ]
  },
  {
   "cell_type": "code",
   "execution_count": 6,
   "metadata": {},
   "outputs": [
    {
     "name": "stdout",
     "output_type": "stream",
     "text": [
      "c je veće ili jednako od d\n"
     ]
    }
   ],
   "source": [
    "c=12\n",
    "d=11\n",
    "if(c>=d):\n",
    "    print('c je veće ili jednako od d')\n",
    "else:\n",
    "    print('c je manje od d')"
   ]
  },
  {
   "cell_type": "markdown",
   "metadata": {},
   "source": [
    "Moguće je kombinovati petlje i kontrolne strukture."
   ]
  },
  {
   "cell_type": "code",
   "execution_count": 7,
   "metadata": {},
   "outputs": [
    {
     "name": "stdout",
     "output_type": "stream",
     "text": [
      "Vrednost 0-g elementa liste je 9\n",
      "Ona je veca od prosecne vrednosti elemenata liste\n",
      "Vrednost 1-g elementa liste je 3\n",
      "Ona je veca od prosecne vrednosti elemenata liste\n",
      "Vrednost 2-g elementa liste je 2\n",
      "Ona je veca od prosecne vrednosti elemenata liste\n",
      "Vrednost 3-g elementa liste je 7\n",
      "Ona je veca od prosecne vrednosti elemenata liste\n",
      "Vrednost 4-g elementa liste je 11\n",
      "Ona je veca od prosecne vrednosti elemenata liste\n",
      "Vrednost 5-g elementa liste je 24\n",
      "Ona je manja od prosecne vrednosti elemenata liste\n",
      "Vrednost 6-g elementa liste je 23\n",
      "Ona je manja od prosecne vrednosti elemenata liste\n"
     ]
    }
   ],
   "source": [
    "import numpy as np\n",
    "\n",
    "c=[9,3,2,7,11,24,23]\n",
    "pros=np.mean(c)\n",
    "for x in range(len(c)):\n",
    "    print('Vrednost '+str(x)+'-g elementa liste je '+str(c[x]))\n",
    "    if(c[x]<pros):\n",
    "        print('Ona je veca od prosecne vrednosti elemenata liste')\n",
    "    else:\n",
    "        print('Ona je manja od prosecne vrednosti elemenata liste')"
   ]
  },
  {
   "cell_type": "markdown",
   "metadata": {},
   "source": [
    "## Funkcije"
   ]
  },
  {
   "cell_type": "markdown",
   "metadata": {},
   "source": [
    "Grupisanje instrukcija je neophodno i u situacijama u kojima se ta grupa izvršava često, ali ne kao rezultat višestrukog pozivanja u petlji. U tim slučajevima, te instrukcije se grupišu u posebnu funkciju. Jednu funkciju određuju naziv, niz argumenata i vrednost ili vrednosti koje funkcija vraća prilikom izvršenja. Funkcija se definiše korišćenjem reči def iza koje sledi naziv funkcije i lista argumenata. Nakon ove definicije, navodi se grupa instrukcija koje se izvršavaju kada se funkcija pozove. Funkcija se poziva navođenjem njenog imena, uz navođenje argumenata ukoliko su oni predviđeni.\n",
    "\n",
    "Python funkcija može biti komanda koja izvršava neku instrukciju, bez argumenata. Ovakva funkcija se ne može koristiti za dodeljivanje vrednosti nekoj promenljivoj, jer ne \"vraća\" nikakvu vrednost."
   ]
  },
  {
   "cell_type": "code",
   "execution_count": 8,
   "metadata": {},
   "outputs": [
    {
     "name": "stdout",
     "output_type": "stream",
     "text": [
      "Milan\n"
     ]
    }
   ],
   "source": [
    "def koSamJa():\n",
    "    print('Milan')\n",
    "    \n",
    "koSamJa()"
   ]
  },
  {
   "cell_type": "markdown",
   "metadata": {},
   "source": [
    "Ukoliko funkcija treba da vrati neku vrednost, ona se proračunava u telu funkcije, a potom navodi iza deklaracije return. Izvršavanje funkcije se završava kada interpreter naiđe na ovu deklaraciju. Čak i ukoliko u telu funkcije postoje komande navedene iza ove deklaracije, one će biti ignorisane."
   ]
  },
  {
   "cell_type": "code",
   "execution_count": 9,
   "metadata": {},
   "outputs": [
    {
     "name": "stdout",
     "output_type": "stream",
     "text": [
      "5.2\n"
     ]
    }
   ],
   "source": [
    "def prosecnaVrednost(niz):\n",
    "    sum=0\n",
    "    for x in niz:\n",
    "        sum=sum+x\n",
    "    return sum/len(niz)\n",
    "\n",
    "n=[2,5,1,8,10]\n",
    "pros=prosecnaVrednost(n)\n",
    "print(pros)"
   ]
  },
  {
   "cell_type": "markdown",
   "metadata": {},
   "source": [
    "Funkcija može da ima proizvoljan broj argumenata, ali može i da vrati više vrednosti (ne niz, već više vrednosti od kojih neke mogu da budu i nizovi). U slučaju da se postavlja vrednost nekih promenljivih na osnovu vrednosti koje vraća funkcija koja se poziva, onda se dodeljivanje vrednosti vrši na poseban način - navođenjem svih promenljivih čije se vrednosti postavljaju, odvojenih zarezom, iza čega sledi znak '=' i naziv funkcije sa argumentima."
   ]
  },
  {
   "cell_type": "code",
   "execution_count": 10,
   "metadata": {},
   "outputs": [
    {
     "name": "stdout",
     "output_type": "stream",
     "text": [
      "5.2 1 10\n"
     ]
    }
   ],
   "source": [
    "def statistickeKarakteristike(niz):\n",
    "    sum=0\n",
    "    minimum=niz[0]\n",
    "    maximum=niz[0]\n",
    "    for c in range(len(niz)):\n",
    "        sum=sum+niz[c]\n",
    "        if(c<len(niz)-1):\n",
    "            if(niz[c+1]>niz[c]):\n",
    "                maximum=niz[c+1]\n",
    "            else:\n",
    "                minimum=niz[c+1]\n",
    "    return sum/len(niz), minimum, maximum\n",
    "\n",
    "n=[2,5,1,8,10]\n",
    "pros, minimum, maximum=statistickeKarakteristike(n)\n",
    "print(pros, minimum, maximum)"
   ]
  }
 ],
 "metadata": {
  "kernelspec": {
   "display_name": "Python 3",
   "language": "python",
   "name": "python3"
  },
  "language_info": {
   "codemirror_mode": {
    "name": "ipython",
    "version": 3
   },
   "file_extension": ".py",
   "mimetype": "text/x-python",
   "name": "python",
   "nbconvert_exporter": "python",
   "pygments_lexer": "ipython3",
   "version": "3.7.3"
  }
 },
 "nbformat": 4,
 "nbformat_minor": 2
}
