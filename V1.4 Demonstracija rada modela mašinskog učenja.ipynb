{
 "cells": [
  {
   "cell_type": "markdown",
   "metadata": {},
   "source": [
    "# Prvi susret sa modelima mašinskog učenja u praksi"
   ]
  },
  {
   "cell_type": "markdown",
   "metadata": {},
   "source": [
    "Osnovni zadatak mašinskog učenja je da u velikom broju tabelarno struktuiranih podataka pronađe određene zakonitosti - trendove rasta, opadanja, grupisanja, uzajamne korelacije podataka u različitim kolonama i vrstama. Algoritmi mašinskog učenja su sposobni da uoče ove zakonitosti, a da ih potom iskoriste da za nove, nepotpune podatke predvide nedefinisane vrednosti ili te nove podatke dodele nekoj grupi ili kategoriji.\n",
    "\n",
    "Uočavanje zakonitosti algoritmi vrše na osnovu grupa potpunih podataka. Ove podatke nazivamo potpunim jer sadrže:\n",
    "\n",
    "- Opažaje ili obzervacije. Ove podatke nazivamo tzv. ulaznim podacima.\n",
    "- Ishode analize ovih opažaja. Ove podatke nazivamo tzv. izlaznim podacima\n",
    "\n",
    "Proces u okviru kojeg algoritmi uočavaju zakonitosti nazivamo učenjem ovih algoritama, odnosno mašinskim učenjem. Aktivnost u okviru koje naučeni algoritam predviđa ishod analize, odnosno izlazni podatak za nepotpune (ulazne) podatke (nepotpuni su jer im nedostaje izlazni podatak), nazivamo predviđanjem. Naučeni algoritam nazivamo modelom mašinskog učenja u užem smislu.\n",
    "\n",
    "Svi ovi podaci su smešteni u tabelarnoj strukturi. Jedna vrsta ove strukture je skup podataka o raznim opažajima (ulazni podatak) i jedan ili više podataka koji se smatraju analizom podataka o opažajima (izlazni podatak). Jedna kolona ove strukture skladišti sve podatke jedne veličine - svi ovi podaci su iste prirode, pa i istog tipa.\n",
    "\n",
    "Cilj ove vežbe je da sa minimalnim korišćenjem Python instrukcija demonstrira osnovne faze procesa izrade modela mašinskog učenja i predviđanja na osnovu nepotpunih podataka."
   ]
  },
  {
   "cell_type": "markdown",
   "metadata": {},
   "source": [
    "## Vrste problema koji se rešavaju mašinskim učenjem"
   ]
  },
  {
   "cell_type": "markdown",
   "metadata": {},
   "source": [
    "Problem predviđanja podataka se rešava tzv. nadgledanim mašinskim učenjem. Nadgledano mašinsko učenje podrazumeva da postoji potpuni skup podataka (odnosno, skup koji sadrži poznate ulazne i izlazne podatke) na osnovu kojeg se vrši učenje. Ipak, do ovakvih podataka je često veoma teško doći. U situaciji kada su skupovi nepotpuni, odnosno, kada nam izlazni podaci nisu poznati, predviđanje nije moguće. Ipak, moguće je uočavanje trendova i grupa srodnih podataka. Problem grupisanja podataka se rešava primenom tzv. nenadgledanog mašinskog učenja.\n",
    "\n",
    "Najčešće grupe problema koji se rešavaju nadgledanim mašinskim učenjem (uobičajeno, problemi se svode na ove grupe problema) su klasifikacija i regresija. Izbor grupe zavisi od karaktera veličine koja se predviđa. Ukoliko je ona nominalna (ili ordinalna), odnosno postoji konačan (tipično mali) broj vrednosti koje ta veličina može da ima, problem predviđanja je problem klasifikacije. Ukoliko postoje samo dve vrednosti nominalne veličine, radi se o problemu binarne klasifikacije. Ukoliko ih ima više, nazivamo ga problemom višestruke klasifikacije. Ukoliko je veličina koja se predviđa kontinualna (realan broj), problem predviđanja je problem regresije."
   ]
  },
  {
   "cell_type": "markdown",
   "metadata": {},
   "source": [
    "## Predviđanje verovatnoće dijagnoze dijabetesa, na osnovu opažanja prikupljenih tokom dijagnostičkog procesa"
   ]
  },
  {
   "cell_type": "markdown",
   "metadata": {},
   "source": [
    "Modeli mašinskog učenja imaju veliku primenu u medicini, naročito u procesu dijagnoze bolesti na osnovu prikupljenih ili izmerenih fizioloških parametara. U okviru ove vežbe, demonstriraju se osnovne faze izrade modela mašinskog učenja za dijagnozu dijabetesa, na osnovu sledećih poznatih podataka o pacijentu: broj trudnoća, koncentracija šećera u krvi, izmereni krvni pritisak, debljina kože, insulin, indeks telesne mase i starost. \n",
    "\n",
    "Za izradu modela mašinskog učenja se koriste poznati podaci o 767 pacijenata ženskog pola."
   ]
  },
  {
   "cell_type": "markdown",
   "metadata": {},
   "source": [
    "### Uvoz postojećih poznatih podataka za učenje"
   ]
  },
  {
   "cell_type": "markdown",
   "metadata": {},
   "source": [
    "Poznati podaci se nalaze u csv (Comma Separated Values) datoteci. Csv format omogućava skladištenje tabelarnih struktura u običnim tekstualnim datotekama. Ovakav format podrazumeva da se podaci iz jedne vrste nalaze u jednom redu u datoteci, a da su podaci iz pojedinačnih kolona jedne vrste odvojeni tzv. separatorom (uobičajeni karakter koji se koristi kao separator je zarez).\n",
    "Otvaranje skupa podataka koji se nalazi u csv datoteci se vrši pozivanjem komande read_csv pandas paketa. Rezultat izvršenja ove komande je DataFrame struktura sa podacima učitanim iz csv datoteke. Nakon kreiranja strukture, njoj se definišu i nazivi kolona."
   ]
  },
  {
   "cell_type": "code",
   "execution_count": 1,
   "metadata": {},
   "outputs": [],
   "source": [
    "import pandas as pd\n",
    "df=pd.read_csv('kurs_diabetes.csv')\n",
    "df.columns=['preg','plas','pres','skin','insu','mass','pedi','age','class']"
   ]
  },
  {
   "cell_type": "markdown",
   "metadata": {},
   "source": [
    "Delimični prikaz podataka učitanih u DataFrame strukturu se vrši pozivanjem funkcije head ove strukture. Ukoliko se ne navede broj redova koji se prikazuje, podrazumevani broj je 5."
   ]
  },
  {
   "cell_type": "code",
   "execution_count": 2,
   "metadata": {},
   "outputs": [
    {
     "data": {
      "text/html": [
       "<div>\n",
       "<style scoped>\n",
       "    .dataframe tbody tr th:only-of-type {\n",
       "        vertical-align: middle;\n",
       "    }\n",
       "\n",
       "    .dataframe tbody tr th {\n",
       "        vertical-align: top;\n",
       "    }\n",
       "\n",
       "    .dataframe thead th {\n",
       "        text-align: right;\n",
       "    }\n",
       "</style>\n",
       "<table border=\"1\" class=\"dataframe\">\n",
       "  <thead>\n",
       "    <tr style=\"text-align: right;\">\n",
       "      <th></th>\n",
       "      <th>preg</th>\n",
       "      <th>plas</th>\n",
       "      <th>pres</th>\n",
       "      <th>skin</th>\n",
       "      <th>insu</th>\n",
       "      <th>mass</th>\n",
       "      <th>pedi</th>\n",
       "      <th>age</th>\n",
       "      <th>class</th>\n",
       "    </tr>\n",
       "  </thead>\n",
       "  <tbody>\n",
       "    <tr>\n",
       "      <th>0</th>\n",
       "      <td>1</td>\n",
       "      <td>85</td>\n",
       "      <td>66</td>\n",
       "      <td>29</td>\n",
       "      <td>0</td>\n",
       "      <td>26.6</td>\n",
       "      <td>0.351</td>\n",
       "      <td>31</td>\n",
       "      <td>tested_negative</td>\n",
       "    </tr>\n",
       "    <tr>\n",
       "      <th>1</th>\n",
       "      <td>8</td>\n",
       "      <td>183</td>\n",
       "      <td>64</td>\n",
       "      <td>0</td>\n",
       "      <td>0</td>\n",
       "      <td>23.3</td>\n",
       "      <td>0.672</td>\n",
       "      <td>32</td>\n",
       "      <td>tested_positive</td>\n",
       "    </tr>\n",
       "    <tr>\n",
       "      <th>2</th>\n",
       "      <td>1</td>\n",
       "      <td>89</td>\n",
       "      <td>66</td>\n",
       "      <td>23</td>\n",
       "      <td>94</td>\n",
       "      <td>28.1</td>\n",
       "      <td>0.167</td>\n",
       "      <td>21</td>\n",
       "      <td>tested_negative</td>\n",
       "    </tr>\n",
       "    <tr>\n",
       "      <th>3</th>\n",
       "      <td>0</td>\n",
       "      <td>137</td>\n",
       "      <td>40</td>\n",
       "      <td>35</td>\n",
       "      <td>168</td>\n",
       "      <td>43.1</td>\n",
       "      <td>2.288</td>\n",
       "      <td>33</td>\n",
       "      <td>tested_positive</td>\n",
       "    </tr>\n",
       "    <tr>\n",
       "      <th>4</th>\n",
       "      <td>5</td>\n",
       "      <td>116</td>\n",
       "      <td>74</td>\n",
       "      <td>0</td>\n",
       "      <td>0</td>\n",
       "      <td>25.6</td>\n",
       "      <td>0.201</td>\n",
       "      <td>30</td>\n",
       "      <td>tested_negative</td>\n",
       "    </tr>\n",
       "  </tbody>\n",
       "</table>\n",
       "</div>"
      ],
      "text/plain": [
       "   preg  plas  pres  skin  insu  mass   pedi  age            class\n",
       "0     1    85    66    29     0  26.6  0.351   31  tested_negative\n",
       "1     8   183    64     0     0  23.3  0.672   32  tested_positive\n",
       "2     1    89    66    23    94  28.1  0.167   21  tested_negative\n",
       "3     0   137    40    35   168  43.1  2.288   33  tested_positive\n",
       "4     5   116    74     0     0  25.6  0.201   30  tested_negative"
      ]
     },
     "execution_count": 2,
     "metadata": {},
     "output_type": "execute_result"
    }
   ],
   "source": [
    "df.head()"
   ]
  },
  {
   "cell_type": "markdown",
   "metadata": {},
   "source": [
    "Kao što se vidi, strukturu čine 8 tzv. ulaznih podataka, odnosno opažanja (preg, plas, pres, skin, insu, mass, pedi, age) i jedan izlazni podatak, odnosno rezultat analize ovih opažanja (class).\n",
    "\n",
    "Sada je očigledno da se problem koji rešavamo svodi na to da se na osnovu 8 ulaznih podataka koje je relativno lako uočiti za nepoznatog pacijenta kroz proces laboratorijske analize, može predvideti da li pacijent ima dijabetes ili ne."
   ]
  },
  {
   "cell_type": "markdown",
   "metadata": {},
   "source": [
    "### Kreiranje skupova ulaznih i izlaznih podataka"
   ]
  },
  {
   "cell_type": "markdown",
   "metadata": {},
   "source": [
    "Prvi korak u kreiranju modela mašinskog učenja je kreiranje skupova ulaznih i izlaznih podataka na osnovu strukture koju čine učitani podaci. Kreiraju se dva niza i to isecanjem iz niza u koji je funkcijom 'values' transformisan DataFrame df."
   ]
  },
  {
   "cell_type": "code",
   "execution_count": 3,
   "metadata": {},
   "outputs": [],
   "source": [
    "arr=df.values\n",
    "X=arr[:,0:8]\n",
    "y=arr[:,8]"
   ]
  },
  {
   "cell_type": "markdown",
   "metadata": {},
   "source": [
    "### Kreiranje posebnih skupova za učenje i testiranje"
   ]
  },
  {
   "cell_type": "markdown",
   "metadata": {},
   "source": [
    "Kao što je već pomenuto, ovaj skup podataka sadrži 767 vrsti. Da bi mogli da izmerimo tačnost predviđanja modela, potrebno je da jedan broj tih vrsti \"proglasimo\" nepotpunim podacima. Te \"nepotpune\" podatke možemo da koristimo za testiranje tačnosti modela. Naime, za svaki od ulaznih podataka ovog podskupa, kreirani model će izvršiti predviđanje i to predviđanje uporediti sa tačnim izlaznim podatkom. Procenat tačnih predviđanja ćemo nazvati tačnošću modela.\n",
    "\n",
    "Podelu celog skupa na podskup za učenje (70% svih podataka) i podskup za testiranje (30%) vrši funkcija train_test_split paketa model_selection koji je deo paketa sklearn."
   ]
  },
  {
   "cell_type": "code",
   "execution_count": 4,
   "metadata": {},
   "outputs": [],
   "source": [
    "from sklearn.model_selection import train_test_split\n",
    "X_train, X_test, y_train, y_test=train_test_split(X,y,test_size=0.3, random_state=7)"
   ]
  },
  {
   "cell_type": "markdown",
   "metadata": {},
   "source": [
    "### Učenje izabranog algoritma i procena tačnosti"
   ]
  },
  {
   "cell_type": "markdown",
   "metadata": {},
   "source": [
    "Sada, možemo da izvršimo učenje algoritma. Prethodno, potrebno je izabrati algoritam mašinskog učenja. Postoji veliki broj algoritama koji se može naučiti. Svaki od njih karakteriše metoda predviđanja, određeni broj pretpostavki (aproksimacija) o podacima, itd. Za potrebe ove demonstracije, izabrani algoritam je logistička regresija. Model logističke regresije se učitava i uči podacima za učenje."
   ]
  },
  {
   "cell_type": "code",
   "execution_count": 5,
   "metadata": {},
   "outputs": [
    {
     "data": {
      "text/plain": [
       "LogisticRegression(C=1.0, class_weight=None, dual=False, fit_intercept=True,\n",
       "          intercept_scaling=1, max_iter=100, multi_class='ovr', n_jobs=1,\n",
       "          penalty='l2', random_state=None, solver='liblinear', tol=0.0001,\n",
       "          verbose=0, warm_start=False)"
      ]
     },
     "execution_count": 5,
     "metadata": {},
     "output_type": "execute_result"
    }
   ],
   "source": [
    "from sklearn.linear_model import LogisticRegression\n",
    "model=LogisticRegression()\n",
    "model.fit(X_train, y_train)"
   ]
  },
  {
   "cell_type": "markdown",
   "metadata": {},
   "source": [
    "Kao što je već pomenuto, testiranje modela se vrši korišćenjem podskupa za testiranje."
   ]
  },
  {
   "cell_type": "code",
   "execution_count": 6,
   "metadata": {},
   "outputs": [
    {
     "name": "stdout",
     "output_type": "stream",
     "text": [
      "Tačnost modela je:0.7489177489177489\n"
     ]
    }
   ],
   "source": [
    "accuracy=model.score(X_test, y_test)\n",
    "print('Tačnost modela je:'+str(accuracy))"
   ]
  },
  {
   "cell_type": "markdown",
   "metadata": {},
   "source": [
    "Parametar tačnosti se interpretira na sledeći način: Ukoliko na osnovu poznatih ulaznih podataka za novog pacijenta algoritam utvrdi da on ima ili nema dijabetes, verovatnoća da je njegovo predviđanje tačno je 74.89%."
   ]
  },
  {
   "cell_type": "markdown",
   "metadata": {},
   "source": [
    "### Kako se kreirani model mašinskog učenja koristi u praksi?"
   ]
  },
  {
   "cell_type": "markdown",
   "metadata": {},
   "source": [
    "Iako je tačnost predviđanja solidna, napominje se da je ovaj primer pojednostavljen sa ciljem konkretne i kratke demonstracije procesa mašinskog učenja. Modeli mašinskog učenja se u praksi kreiraju uzimajući u obzir i analizu podataka, kreiranje novih veličina od postojećih, izbor i podešavanje algoritma, transformaciju podataka u oblik pogodan za tumačenje od strane izabranog algoritma itd. Na ovaj način, tačnost modela se uvećava.\n",
    "\n",
    "Model koji prilikom testiranja pokazuje najveću tačnost se bira kao onaj koji će se koristiti u budućnosti za predviđanje dijagnoze za novopristiglog pacijenta. Jednom naučeni model se može snimiti u posebnoj datoteci i koristiti kasnije, za predviđanje."
   ]
  },
  {
   "cell_type": "code",
   "execution_count": 7,
   "metadata": {},
   "outputs": [],
   "source": [
    "import pickle\n",
    "pickle.dump(model, open('model_diabetes.sav','wb'))"
   ]
  },
  {
   "cell_type": "markdown",
   "metadata": {},
   "source": [
    "Prilikom pristizanja novog pacijenta, on će biti upućen na laboratorijske analize. One će rezultovati sa novim ulaznim podacima za tog pacijenta. Na primer,"
   ]
  },
  {
   "cell_type": "code",
   "execution_count": 8,
   "metadata": {},
   "outputs": [],
   "source": [
    "xnovi=[[2,197,70,45,543,30.5,0.158,53]]"
   ]
  },
  {
   "cell_type": "markdown",
   "metadata": {},
   "source": [
    "Napomena: dvostruke zagrade u deklaraciji promenljive xnovi se koriste jer funkcija za predviđanje očekuje ne jedan već više podataka. Tako, formira se dvodimenzionalni niz, ali samo sa jednom vrstom.\n",
    "\n",
    "Za ovaj, novi skup ulaznih podataka, program za predviđanje će učitati datoteku sa modelom, predvideti i prikazati dijagnozu."
   ]
  },
  {
   "cell_type": "code",
   "execution_count": 9,
   "metadata": {},
   "outputs": [
    {
     "name": "stdout",
     "output_type": "stream",
     "text": [
      "['tested_positive']\n"
     ]
    }
   ],
   "source": [
    "mod=pickle.load(open('model_diabetes.sav','rb'))\n",
    "ynovi=mod.predict(xnovi)\n",
    "print(ynovi)"
   ]
  }
 ],
 "metadata": {
  "kernelspec": {
   "display_name": "Python 3",
   "language": "python",
   "name": "python3"
  },
  "language_info": {
   "codemirror_mode": {
    "name": "ipython",
    "version": 3
   },
   "file_extension": ".py",
   "mimetype": "text/x-python",
   "name": "python",
   "nbconvert_exporter": "python",
   "pygments_lexer": "ipython3",
   "version": "3.6.9"
  }
 },
 "nbformat": 4,
 "nbformat_minor": 2
}
