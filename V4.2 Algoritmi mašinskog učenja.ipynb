{
 "cells": [
  {
   "cell_type": "markdown",
   "metadata": {},
   "source": [
    "# Korišćenje i podešavanje algoritama mašinskog učenja za rešavanje problema klasifikacije"
   ]
  },
  {
   "cell_type": "markdown",
   "metadata": {},
   "source": [
    "Izbor algoritma mašinskog učenja ima veliki uticaj na tačnost predviđanja modela. On zavisi od velikog broja faktora kao što su broj podataka, raspodela podataka različitih veličina, itd. Osnovna podela algoritama je na parametarske i neparametarske. \n",
    "\n",
    "Parametarski algoritmi podrazumevaju linearnu funkciju mapiranja, samim tim i znatno jednostavnije učenje. Složeniji modeli se mogu izraditi korišćenjem polinomijalne ekspanzije u pripremi podataka. Neparametarski modeli ne podrazumevaju unapred poznatu funkciju mapiranja između ulaznih i izlaznih promenljivih. Oni su dosta fleksibilniji, ali su skloniji pojavi overfittinga, zahtevaju veću količinu podataka i sporije se treniraju.\n",
    "\n",
    "Uzimajući u obzir način na koji najčešće korišćeni algoritmi rade, oni se mogu podeliti na sledeće grupe:\n",
    "- Regresioni\n",
    "- Algoritmi zasnovani na instancama\n",
    "- Algoritmi zasnovani na stablima odlučivanja\n",
    "- Algoritmi zasnovani na kernelima\n",
    "- Bajezijan metodi\n",
    "- Kombinovani (ensemble) metodi\n",
    "\n",
    "Za svaki od ovih algoritama postoji odgovarajuća implementacija u Python-u. Ona podrazumeva i podešavanje hiper-parametara, karakterističnih za svaki od ovih algoritama."
   ]
  },
  {
   "cell_type": "markdown",
   "metadata": {},
   "source": [
    "## Osnovni postupak kreiranja modela mašinskog učenja primenom različitih algoritama"
   ]
  },
  {
   "cell_type": "markdown",
   "metadata": {},
   "source": [
    "Za kreiranje modela mašinskog učenja primenom različitih algoritama, koriste se funkcije iz Python paketa sklearn, odnosno podpaketa koji obuhvataju funkcije relevantne za pojedinačne algoritme. Dole navedeni kod uvozi funkcije koje se koriste za inicijalizaciju svih algoritama korišćenih u primeru demonstracije osnovnog postupka kreiranja modela mašinskog učenja, njihovih podešavanja i analiza performansi, kao i funkcije relevantne za pripremu setova za učenje i testiranje."
   ]
  },
  {
   "cell_type": "code",
   "execution_count": 1,
   "metadata": {},
   "outputs": [],
   "source": [
    "import warnings\n",
    "warnings.filterwarnings(\"ignore\")\n",
    "\n",
    "from sklearn.linear_model import LogisticRegression\n",
    "from sklearn.tree import DecisionTreeClassifier\n",
    "from sklearn.neighbors import KNeighborsClassifier\n",
    "from sklearn.svm import SVC\n",
    "from sklearn.ensemble import RandomForestClassifier\n",
    "\n",
    "from sklearn import metrics\n",
    "from sklearn.metrics import confusion_matrix\n",
    "from sklearn.metrics import classification_report\n",
    "from sklearn.metrics import roc_auc_score\n",
    "from sklearn.metrics import make_scorer\n",
    "from sklearn.metrics import accuracy_score\n",
    "\n",
    "from sklearn.model_selection import train_test_split\n",
    "from sklearn.model_selection import KFold\n",
    "from sklearn.model_selection import cross_val_score\n",
    "from sklearn.model_selection import GridSearchCV"
   ]
  },
  {
   "cell_type": "markdown",
   "metadata": {},
   "source": [
    "Postupak se odnosi na definisanje različitih parametara i aktivnosti nad modelom koji se inicijalno kreira kao instanca određenog algoritma. Postupak se razlikuje u zavisnosti od toga da li se testiranje vrši metodom unakrsne validacije ili podelom na set za učenje i testiranje.\n",
    "\n",
    "Za slučaj podele na set za učenje i testiranje, postupak obuhvata sledeće faze:\n",
    "- Podela skupa na podskupove za učenje i testiranje, npr. X_train, X_test, Y_train, Y_test = train_test_split(X, Y, test_size=0.2, random_state=7)\n",
    "- Inicijalizacija modela, korišćenjem odgovarajućih funkcija sklearn paketa, npr. model=LogisticRegression()\n",
    "- Učenje modela skupom za učenje, npr. model.fit(X_train, Y_train)\n",
    "- Predviđanje izlaznih veličina, npr. predictions = model.predict(X_test)\n",
    "- Prikaz veličina kvaliteta modela, npr. print(metrics.accuracy_score(Y_test, predictions))\n",
    "\n",
    "Za slučaj unakrsne validacije, postupak obuhvata sledeće faze:\n",
    "- Inicijalizacija modela, korišćenjem odgovarajućih funkcija sklearn paketa, npr. model=LogisticRegression()\n",
    "- Učenje modela, npr. model.fit(X, Y)\n",
    "- Kreiranje iteratora za unakrsno testiranje, npr. kf = KFold(n_splits=10, random_state=7)\n",
    "- Testiranje i prikaz veličina kvaliteta modela, npr. results = cross_val_score(lr, X, Y, cv=kf, scoring=scoring)\n"
   ]
  },
  {
   "cell_type": "markdown",
   "metadata": {},
   "source": [
    "## Dataset za demonstraciju i podela na set za učenje i testiranje"
   ]
  },
  {
   "cell_type": "markdown",
   "metadata": {},
   "source": [
    "Za demonstraciju se koristi skup podataka za predviđanje dijabetesa. Skup je prethodno pripremljen. Izvršene su sledeće aktivnosti pripreme podataka:\n",
    "- Tretman nedostajućih vrednosti\n",
    "- Tretman outlier-a\n",
    "- Transformacija zakošenih veličina\n",
    "- Skaliranje: Normalizacija i standardizacija\n",
    "- Klasterovanje veličine godina starosti i njeno kodiranje\n",
    "- Kodiranje veličine class"
   ]
  },
  {
   "cell_type": "code",
   "execution_count": 2,
   "metadata": {},
   "outputs": [
    {
     "data": {
      "text/html": [
       "<div>\n",
       "<style scoped>\n",
       "    .dataframe tbody tr th:only-of-type {\n",
       "        vertical-align: middle;\n",
       "    }\n",
       "\n",
       "    .dataframe tbody tr th {\n",
       "        vertical-align: top;\n",
       "    }\n",
       "\n",
       "    .dataframe thead th {\n",
       "        text-align: right;\n",
       "    }\n",
       "</style>\n",
       "<table border=\"1\" class=\"dataframe\">\n",
       "  <thead>\n",
       "    <tr style=\"text-align: right;\">\n",
       "      <th></th>\n",
       "      <th>preg</th>\n",
       "      <th>plas</th>\n",
       "      <th>pres</th>\n",
       "      <th>skin</th>\n",
       "      <th>mass</th>\n",
       "      <th>pedi</th>\n",
       "      <th>ageclass_-25</th>\n",
       "      <th>ageclass_25-35</th>\n",
       "      <th>ageclass_35-45</th>\n",
       "      <th>ageclass_45-55</th>\n",
       "      <th>ageclass_55-65</th>\n",
       "      <th>ageclass_65+</th>\n",
       "      <th>class</th>\n",
       "    </tr>\n",
       "  </thead>\n",
       "  <tbody>\n",
       "    <tr>\n",
       "      <th>0</th>\n",
       "      <td>0.632412</td>\n",
       "      <td>0.670968</td>\n",
       "      <td>0.008196</td>\n",
       "      <td>0.778478</td>\n",
       "      <td>0.204779</td>\n",
       "      <td>-0.466809</td>\n",
       "      <td>0</td>\n",
       "      <td>0</td>\n",
       "      <td>0</td>\n",
       "      <td>1</td>\n",
       "      <td>0</td>\n",
       "      <td>0</td>\n",
       "      <td>1</td>\n",
       "    </tr>\n",
       "    <tr>\n",
       "      <th>1</th>\n",
       "      <td>0.000000</td>\n",
       "      <td>0.264516</td>\n",
       "      <td>-0.479728</td>\n",
       "      <td>0.048715</td>\n",
       "      <td>-0.867922</td>\n",
       "      <td>-1.046969</td>\n",
       "      <td>0</td>\n",
       "      <td>1</td>\n",
       "      <td>0</td>\n",
       "      <td>0</td>\n",
       "      <td>0</td>\n",
       "      <td>0</td>\n",
       "      <td>0</td>\n",
       "    </tr>\n",
       "    <tr>\n",
       "      <th>2</th>\n",
       "      <td>0.733952</td>\n",
       "      <td>0.896774</td>\n",
       "      <td>-0.642369</td>\n",
       "      <td>-0.072913</td>\n",
       "      <td>-1.373624</td>\n",
       "      <td>-0.397497</td>\n",
       "      <td>0</td>\n",
       "      <td>1</td>\n",
       "      <td>0</td>\n",
       "      <td>0</td>\n",
       "      <td>0</td>\n",
       "      <td>0</td>\n",
       "      <td>1</td>\n",
       "    </tr>\n",
       "    <tr>\n",
       "      <th>3</th>\n",
       "      <td>0.000000</td>\n",
       "      <td>0.290323</td>\n",
       "      <td>-0.479728</td>\n",
       "      <td>-0.681049</td>\n",
       "      <td>-0.638058</td>\n",
       "      <td>-1.789761</td>\n",
       "      <td>1</td>\n",
       "      <td>0</td>\n",
       "      <td>0</td>\n",
       "      <td>0</td>\n",
       "      <td>0</td>\n",
       "      <td>0</td>\n",
       "      <td>0</td>\n",
       "    </tr>\n",
       "    <tr>\n",
       "      <th>4</th>\n",
       "      <td>0.489301</td>\n",
       "      <td>0.600000</td>\n",
       "      <td>-2.594064</td>\n",
       "      <td>0.778478</td>\n",
       "      <td>1.660587</td>\n",
       "      <td>0.827678</td>\n",
       "      <td>0</td>\n",
       "      <td>1</td>\n",
       "      <td>0</td>\n",
       "      <td>0</td>\n",
       "      <td>0</td>\n",
       "      <td>0</td>\n",
       "      <td>1</td>\n",
       "    </tr>\n",
       "  </tbody>\n",
       "</table>\n",
       "</div>"
      ],
      "text/plain": [
       "       preg      plas      pres      skin      mass      pedi  ageclass_-25  \\\n",
       "0  0.632412  0.670968  0.008196  0.778478  0.204779 -0.466809             0   \n",
       "1  0.000000  0.264516 -0.479728  0.048715 -0.867922 -1.046969             0   \n",
       "2  0.733952  0.896774 -0.642369 -0.072913 -1.373624 -0.397497             0   \n",
       "3  0.000000  0.290323 -0.479728 -0.681049 -0.638058 -1.789761             1   \n",
       "4  0.489301  0.600000 -2.594064  0.778478  1.660587  0.827678             0   \n",
       "\n",
       "   ageclass_25-35  ageclass_35-45  ageclass_45-55  ageclass_55-65  \\\n",
       "0               0               0               1               0   \n",
       "1               1               0               0               0   \n",
       "2               1               0               0               0   \n",
       "3               0               0               0               0   \n",
       "4               1               0               0               0   \n",
       "\n",
       "   ageclass_65+  class  \n",
       "0             0      1  \n",
       "1             0      0  \n",
       "2             0      1  \n",
       "3             0      0  \n",
       "4             0      1  "
      ]
     },
     "execution_count": 2,
     "metadata": {},
     "output_type": "execute_result"
    }
   ],
   "source": [
    "import pandas as pd\n",
    "df=pd.read_csv('kurs_diabetes_prep.csv')\n",
    "df.head()"
   ]
  },
  {
   "cell_type": "markdown",
   "metadata": {},
   "source": [
    "Najpre se vrednosti ulaznih i izlaznih podataka transformišu u numpy nizove, a onda se pozivanjem funkcije train_test_split vrši kreiranje skupova ulaznih i izlaznih veličina za učenje i testiranje. Navedeno je da se 30% podataka (test_size=0.3), koristi za testiranje, a 70% za učenje."
   ]
  },
  {
   "cell_type": "code",
   "execution_count": 3,
   "metadata": {},
   "outputs": [],
   "source": [
    "X=df.values[:,:12]\n",
    "Y=df.values[:,12]\n",
    "X_train, X_test, Y_train, Y_test = train_test_split(X, Y, test_size=0.3, random_state=7)"
   ]
  },
  {
   "cell_type": "markdown",
   "metadata": {},
   "source": [
    "## Kreiranje modela zasnovanog na logističkoj regresiji i njegovo učenje"
   ]
  },
  {
   "cell_type": "markdown",
   "metadata": {},
   "source": [
    "Najpre, radi demonstracije postupka, kreiraće se model zasnovan na logističkoj regresiji, izvršiće se njegovo učenje i utvrđivanje tačnosti predviđanja. Prilikom inicijalizacije modela, kod dole definiše i vrednosti nekih hiperparametara. U ovom slučaju, definisan je algoritam koji se koristi za optimizaciju (liblinear) i regularizacioni parametar (podrazumevana vrednost je 1.0, manja vrednost znači snažniju regularizaciju)."
   ]
  },
  {
   "cell_type": "code",
   "execution_count": 4,
   "metadata": {},
   "outputs": [
    {
     "name": "stdout",
     "output_type": "stream",
     "text": [
      "0.7347826086956522\n"
     ]
    }
   ],
   "source": [
    "model=LogisticRegression(solver='liblinear',\n",
    "                        C=0.8)\n",
    "model.fit(X_train, Y_train)\n",
    "predictions = model.predict(X_test)\n",
    "print(metrics.accuracy_score(Y_test, predictions))"
   ]
  },
  {
   "cell_type": "markdown",
   "metadata": {},
   "source": [
    "Dole je prikazan kod koji vrši kreiranje istovetnog modela, ali se testiranje vrši metodom unakrsne validacije. Ovaj metod daje relevantniji i pouzdaniji rezultat, nezavisno od toga da li je dobijena vrednost tačnosti veća ili manja od one dobijene primenom train-test split metode."
   ]
  },
  {
   "cell_type": "code",
   "execution_count": 5,
   "metadata": {},
   "outputs": [
    {
     "name": "stdout",
     "output_type": "stream",
     "text": [
      "0.7724025974025974\n"
     ]
    }
   ],
   "source": [
    "model=LogisticRegression(solver='liblinear',\n",
    "                        C=0.8)\n",
    "kf = KFold(n_splits=10, random_state=7)\n",
    "model.fit(X, Y)\n",
    "results = cross_val_score(model, X, Y, cv=kf, scoring='accuracy')\n",
    "score= model.score(X_test, Y_test)\n",
    "print(results.mean())"
   ]
  },
  {
   "cell_type": "markdown",
   "metadata": {},
   "source": [
    "### Ocenjivanje performansi modela koji se koristi za rešavanje problema klasifikacije"
   ]
  },
  {
   "cell_type": "markdown",
   "metadata": {},
   "source": [
    "Osnovna performansa modela koji se koristi za rešavanje problema klasifikacije je tačnost predviđanja. Ona predstavlja odnos tačnih predviđanja i ukupnog broja predviđanja. Ona se smatra samo početnim indikatorom za analizu performansi i nije pouzdana jer zavisi od raspodele vrednosti izlazne promenljive. Na primer, primenom train-test split metode testiranja, dobijena je tačnost of 0.739. Iako se radi o binarnoj klasifikaciji, referentna tačnost nije 50% već 65%, zbog neravnomerne zastupljenosti pacijenata koji imaju dijabetes i onih koji ga nemaju.\n",
    "\n",
    "Tačnost modela koja se dobija korišćenjem unakrsne validacije je prosečna vrednost tačnosti koja se utvrđuje u svakom od prolaza (k)."
   ]
  },
  {
   "cell_type": "code",
   "execution_count": 6,
   "metadata": {},
   "outputs": [
    {
     "name": "stdout",
     "output_type": "stream",
     "text": [
      "0.7347826086956522\n"
     ]
    }
   ],
   "source": [
    "print(metrics.accuracy_score(Y_test, predictions))"
   ]
  },
  {
   "cell_type": "markdown",
   "metadata": {},
   "source": [
    "Logaritamski gubitak je mera pouzdanosti predviđanja. Naime, tačnost uzima u obzir samo predviđene vrednosti, odnosno u ovom slučaju 0 ili 1. Logaritamski gubitak uzima u obzir vrednosti proračunate vrednosti, koje su tek naknadno svedene na 0 ili 1, na primer, primenom neke aktivacione funkcije (npr. sigmoid u logističkoj regresiji). Drugim rečima, ova mera se koristi da se utvrdi koliko je model \"siguran\" u svoje predviđanje."
   ]
  },
  {
   "cell_type": "code",
   "execution_count": 7,
   "metadata": {},
   "outputs": [
    {
     "name": "stdout",
     "output_type": "stream",
     "text": [
      "9.160350228003153\n"
     ]
    }
   ],
   "source": [
    "print(metrics.log_loss(Y_test, predictions))"
   ]
  },
  {
   "cell_type": "markdown",
   "metadata": {},
   "source": [
    "Confusion matrica se koristi radi utvrđivanja sposobnosti razlikovanja klasa od strane modela. Uvidom u confusion matricu, moguće je utvrditi broj tačnih (brojevi po dijagonali matrice) i netačnih predviđanja pojedinačnih klasa. Uvidom u matricu dole, moguće je zaključiti:\n",
    "\n",
    "- Model je 47 puta tačno predvideo da pacijent IMA dijabetes (True Positive - TP)\n",
    "- Model je 123 puta tačno predvideo da pacijent NEMA dijabetes (True Negative - TN)\n",
    "- Model je 20 puta predvideo da pacijent ima dijabetes, ali to nije bilo tačno (False Positive - FP)\n",
    "- Model je 40 puta predvideo da pacijent nema dijabetes, ali to nije bilo tačno (False Negative - FN)\n",
    "\n",
    "Confusion matricu je nemoguće formirati u slučaju kada se koristi unakrsna validacija, jer ona podrazumeva višestruko testiranje."
   ]
  },
  {
   "cell_type": "code",
   "execution_count": 8,
   "metadata": {},
   "outputs": [
    {
     "name": "stdout",
     "output_type": "stream",
     "text": [
      "[[ 45  42]\n",
      " [ 19 124]]\n"
     ]
    }
   ],
   "source": [
    "print(confusion_matrix(Y_test, predictions, labels=[1,0]))"
   ]
  },
  {
   "cell_type": "markdown",
   "metadata": {},
   "source": [
    "Mere performansi koje uzimaju u obzir distribuciju tačnih predviđanja po klasama izlazne veličine su preciznost (precision) i osetljivost (recall). Obe ove mere se određuju po svakoj vrednosti izlazne veličine i mogu se utvrditi štampanjem tzv. klasifikacionog izveštaja, korišćenjem odgovarajuće metode, kao što je prikazano dole.\n",
    "\n",
    "Preciznost ukazuje na to koji deo predviđanja jedne klase je ispao tačan. Odnosno, precision=TP/(TP+FP). Na primeru predviđanja dijabetesa, to se može tumačiti na sledeći način:\n",
    "- Od svih predviđenih dijagnoza dijabetesa, koje su se ispostavile kao tačne? Na našem primeru, 47/(47+20)=0.70. Odnosno, kada model predviđa da pacijent ima dijabetesa, 70% puta je u pravu.\n",
    "- Od svih predviđenih dijagnoza zdravih pacijenata, koje su se ispostavile kao tačne? Na našem primeru, 123/(123+40)=0.754. Odnosno, kada model predviđa da pacijent nema dijabetesa, 75.4% puta je u pravu.\n",
    "\n",
    "Osetljivost se definiše u suprotnom kontekstu. Ona određuje odnos tačnih predviđanja jedne klase izlazne veličine i ukupan broj vrednosti te klase. Odnosno, recall=TP/(TP+FN). Na primeru predviđanja dijabetesa, to se može tumačiti na sledeći način:\n",
    "- Od svih pacijenata koji imaju dijabetes, za koji deo se postavila dijagnoza dijabetesa? Na našem primeru, 47/(47+20)=0.70. Odnosno, model 70% puta tačno predviđa dijagnozu dijabetesa.\n",
    "- Od svih pacijenata koji nemaju dijabetes, za koji deo se postavila takva dijagnoza? Na našem primeru, 123/(123+20)=0.86. Odnosno, model 86% puta tačno predviđa dijagnozu zdravog pacijenta.\n",
    "\n",
    "F1 skor je mera koja kombinuje preciznost i osetljivost: f1=2*Precision*Recall/(Precision+Recall)."
   ]
  },
  {
   "cell_type": "code",
   "execution_count": 9,
   "metadata": {},
   "outputs": [
    {
     "name": "stdout",
     "output_type": "stream",
     "text": [
      "              precision    recall  f1-score   support\n",
      "\n",
      "         0.0       0.75      0.87      0.80       143\n",
      "         1.0       0.70      0.52      0.60        87\n",
      "\n",
      "   micro avg       0.73      0.73      0.73       230\n",
      "   macro avg       0.73      0.69      0.70       230\n",
      "weighted avg       0.73      0.73      0.72       230\n",
      "\n"
     ]
    }
   ],
   "source": [
    "print(classification_report(Y_test, predictions))"
   ]
  },
  {
   "cell_type": "markdown",
   "metadata": {},
   "source": [
    "Jedna od mera performansi koja se koristi za ocenu sposobnosti modela da razlikuje klase izlazne veličine je površina ispod ROC krive (Area Under ROC Curve, AUROC). Ona se može koristiti samo za binarnu klasifikaciju i karakterišu je vrednosti u intervalu (0.5,1). AUROC=0.5 znači da model nije sposoban da razlikuje klase. AUROC=1 znači da model potpuno razlikuje klase, sva njegova predviđanja su tačna."
   ]
  },
  {
   "cell_type": "code",
   "execution_count": 10,
   "metadata": {},
   "outputs": [
    {
     "name": "stdout",
     "output_type": "stream",
     "text": [
      "0.6921871232216059\n"
     ]
    }
   ],
   "source": [
    "print(metrics.roc_auc_score(Y_test, predictions))"
   ]
  },
  {
   "cell_type": "markdown",
   "metadata": {},
   "source": [
    "### Optimizacija hiper-parametara modela"
   ]
  },
  {
   "cell_type": "markdown",
   "metadata": {},
   "source": [
    "Svaki model, odnosno svaki algoritam karakteriše niz hiper-parametara čijim se podešavanjem (odnosno, izborom različitih kombinacija vrednosti) mogu unaprediti performanse modela. Kao postupak optimizacije se često koristi tzv. grid search. Ovaj metod podrazumeva korišćenje tzv. brutalne sile (brute force) u pronalažanju optimalne kombinacije hiper-parametara, na osnovu zadatih intervala vrednosti svakog od njih i mere na osnovu koje se vrši optimizacija.\n",
    "\n",
    "Kod dole vrši optimizaciju vrednosti tri hiper-parametra i to uzimajući u obzir samo kombinacije vrednosti zadatih u asocijativnom nizu parameters. Očigledno, model je optimizovan, jer je vrednost ROCAUC skora veća od one koja je dobijena sa gore korišćenom kombinacijom parametara."
   ]
  },
  {
   "cell_type": "code",
   "execution_count": 11,
   "metadata": {},
   "outputs": [
    {
     "name": "stdout",
     "output_type": "stream",
     "text": [
      "Parameters : {'C': 4, 'penalty': 'l1', 'solver': 'liblinear'}\n",
      "ROCAUC : 0.7345402796426131\n"
     ]
    }
   ],
   "source": [
    "model = LogisticRegression()\n",
    "parameters = {'C':[0.001,0.1,1,4,10,15,100],\n",
    "              'penalty': ['l1','l2'],\n",
    "              'solver': ['liblinear']\n",
    "            }\n",
    "grid = GridSearchCV(model, parameters, scoring=make_scorer(roc_auc_score))\n",
    "grid = grid.fit(X_train, Y_train)\n",
    "print(\"Parameters :\", grid.best_params_)\n",
    "print(\"ROCAUC :\", grid.best_score_)"
   ]
  },
  {
   "cell_type": "markdown",
   "metadata": {},
   "source": [
    "## Kreiranje modela sa često korišćenim algoritmima i optimizacija hiper-parametara"
   ]
  },
  {
   "cell_type": "markdown",
   "metadata": {},
   "source": [
    "Radi upoređenja performansi modela izrađenih korišćenjem različitih algoritama, kreirana je funkcija testModel koja prihvata inicijalizovan model kao ulaznu promenljivu, trenira taj model sa podacima iz seta za učenje, vrši predviđanje izlazne veličine na osnovu ulaznih podataka iz seta za testiranje i štampa dve osnovne mere performansi: tačnost i ROCAUC skor (mera sposobnosti razdvajanja klasa). Samo random_state hiper parametar je postavljen, zbog mogućnosti kasnijeg upoređivanja mera performansi."
   ]
  },
  {
   "cell_type": "code",
   "execution_count": 12,
   "metadata": {},
   "outputs": [
    {
     "name": "stdout",
     "output_type": "stream",
     "text": [
      "LR\n",
      "-------------------------\n",
      "Accuracy: 0.7391304347826086\n",
      "ROCAUC score: 0.6979342496583876\n",
      "-------------------------\n",
      "DT\n",
      "-------------------------\n",
      "Accuracy: 0.7086956521739131\n",
      "ROCAUC score: 0.6937143316453661\n",
      "-------------------------\n",
      "KNN\n",
      "-------------------------\n",
      "Accuracy: 0.6695652173913044\n",
      "ROCAUC score: 0.6284864560726628\n",
      "-------------------------\n",
      "SVC\n",
      "-------------------------\n",
      "Accuracy: 0.7043478260869566\n",
      "ROCAUC score: 0.6452053693433004\n",
      "-------------------------\n",
      "RF\n",
      "-------------------------\n",
      "Accuracy: 0.7086956521739131\n",
      "ROCAUC score: 0.6599549875411944\n",
      "-------------------------\n"
     ]
    }
   ],
   "source": [
    "def testModel(m,model):\n",
    "    model.fit(X_train, Y_train)\n",
    "    predictions = model.predict(X_test)\n",
    "    print(m)\n",
    "    print('-------------------------')\n",
    "    print(\"Accuracy:\", metrics.accuracy_score(Y_test, predictions))\n",
    "    print(\"ROCAUC score:\", metrics.roc_auc_score(Y_test, predictions))\n",
    "    print('-------------------------')\n",
    "    \n",
    "testModel('LR',LogisticRegression(random_state=7))\n",
    "testModel('DT',DecisionTreeClassifier(random_state=7))\n",
    "testModel('KNN',KNeighborsClassifier())\n",
    "testModel('SVC',SVC(random_state=7))\n",
    "testModel('RF',RandomForestClassifier(random_state=7))"
   ]
  },
  {
   "cell_type": "markdown",
   "metadata": {},
   "source": [
    "Unapređena verzija koda je prikazana dole. Nova funkcija, pored prikaza osnovne metrike, vrši i optimizaciju hiper-parametara i to na osnovu grida - niza parametara koji se dostavlja kao argument."
   ]
  },
  {
   "cell_type": "code",
   "execution_count": 13,
   "metadata": {},
   "outputs": [
    {
     "name": "stdout",
     "output_type": "stream",
     "text": [
      "LR\n",
      "-------------------------\n",
      "Parameters : {'C': 4, 'penalty': 'l1', 'solver': 'liblinear'}\n",
      "ROCAUC Score : 0.7345402796426131\n",
      "-------------------------\n"
     ]
    },
    {
     "name": "stderr",
     "output_type": "stream",
     "text": [
      "F:\\Programs\\Anaconda\\lib\\site-packages\\sklearn\\model_selection\\_search.py:841: DeprecationWarning: The default of the `iid` parameter will change from True to False in version 0.22 and will be removed in 0.24. This will change numeric results when test-set sizes are unequal.\n",
      "  DeprecationWarning)\n"
     ]
    },
    {
     "name": "stdout",
     "output_type": "stream",
     "text": [
      "DT\n",
      "-------------------------\n",
      "Parameters : {'max_features': 'auto', 'min_samples_leaf': 4, 'min_samples_split': 13}\n",
      "ROCAUC Score : 0.685371833936393\n",
      "-------------------------\n",
      "KNN\n",
      "-------------------------\n",
      "Parameters : {'algorithm': 'auto', 'leaf_size': 1, 'n_jobs': -1, 'n_neighbors': 9, 'weights': 'uniform'}\n",
      "ROCAUC Score : 0.6248568388823187\n",
      "-------------------------\n",
      "SVC\n",
      "-------------------------\n",
      "Parameters : {'C': 11, 'degree': 2, 'gamma': 'auto', 'kernel': 'linear'}\n",
      "ROCAUC Score : 0.7275019377394836\n",
      "-------------------------\n",
      "RF\n",
      "-------------------------\n",
      "Parameters : {'criterion': 'entropy', 'max_depth': 3, 'max_features': 'log2', 'min_samples_leaf': 2, 'min_samples_split': 2, 'n_estimators': 4}\n",
      "ROCAUC Score : 0.7147269245411615\n",
      "-------------------------\n"
     ]
    },
    {
     "name": "stderr",
     "output_type": "stream",
     "text": [
      "F:\\Programs\\Anaconda\\lib\\site-packages\\sklearn\\model_selection\\_search.py:841: DeprecationWarning: The default of the `iid` parameter will change from True to False in version 0.22 and will be removed in 0.24. This will change numeric results when test-set sizes are unequal.\n",
      "  DeprecationWarning)\n"
     ]
    }
   ],
   "source": [
    "def testModel(m, model, parameters):\n",
    "    grid = GridSearchCV(model, parameters, scoring=make_scorer(roc_auc_score))\n",
    "    grid = grid.fit(X_train, Y_train)\n",
    "    print(m)\n",
    "    print('-------------------------')\n",
    "    print(\"Parameters :\", grid.best_params_)\n",
    "    print(\"ROCAUC Score :\", grid.best_score_)\n",
    "    print('-------------------------')\n",
    "    \n",
    "testModel('LR',LogisticRegression(random_state=7),\n",
    "          {'C':[0.001,0.1,1,4,10,15,100],\n",
    "           'penalty': ['l1','l2'],\n",
    "           'solver': ['liblinear']})\n",
    "testModel('DT',DecisionTreeClassifier(random_state=7),\n",
    "          {'max_features': ['auto', 'sqrt', 'log2'],\n",
    "          'min_samples_split': [9,10,11,12,13,14], \n",
    "          'min_samples_leaf':[3,4,5,6,7]})\n",
    "testModel('KNN',KNeighborsClassifier(),\n",
    "          {'n_neighbors':[8,9,10],\n",
    "          'leaf_size':[1,2,3],\n",
    "          'weights':['uniform', 'distance'],\n",
    "          'algorithm':['auto', 'ball_tree','kd_tree','brute'],\n",
    "          'n_jobs':[-1]})\n",
    "testModel('SVC',SVC(random_state=7),\n",
    "          {'C': [7,8,9,10,11], \n",
    "          'kernel': ['linear','poly','rbf','sigmoid'],\n",
    "          'gamma':['auto'],\n",
    "          'degree': [2,3]})\n",
    "testModel('RF',RandomForestClassifier(random_state=7),\n",
    "          {'n_estimators': [2,4,6],\n",
    "           'max_features': ['log2', 'sqrt','auto'],\n",
    "           'criterion': ['entropy', 'gini'],\n",
    "           'max_depth': [2,3,5],\n",
    "           'min_samples_split': [2,3],\n",
    "           'min_samples_leaf': [2,3]})"
   ]
  },
  {
   "cell_type": "markdown",
   "metadata": {},
   "source": [
    "Značajna poboljšanja su vidljiva kod algoritama SVC i RandomForest, dok je kod stabla odlučivanja i KNN čak došlo do degradacije ROCAUC skora, što znači da podrazumevane vrednosti hiper-parametara nisu bile uključene u grid."
   ]
  }
 ],
 "metadata": {
  "kernelspec": {
   "display_name": "Python 3",
   "language": "python",
   "name": "python3"
  },
  "language_info": {
   "codemirror_mode": {
    "name": "ipython",
    "version": 3
   },
   "file_extension": ".py",
   "mimetype": "text/x-python",
   "name": "python",
   "nbconvert_exporter": "python",
   "pygments_lexer": "ipython3",
   "version": "3.6.9"
  }
 },
 "nbformat": 4,
 "nbformat_minor": 2
}
