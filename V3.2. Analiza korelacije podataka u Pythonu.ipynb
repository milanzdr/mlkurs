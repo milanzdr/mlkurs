{
 "cells": [
  {
   "cell_type": "markdown",
   "metadata": {},
   "source": [
    "# Analiza korelacije podataka u Pythonu"
   ]
  },
  {
   "cell_type": "markdown",
   "metadata": {},
   "source": [
    "Podsećamo da za demonstraciju procesa analize podataka u Pythonu koristimo skup podataka o preživelim putnicima broda Titanik. Ovaj skup sadrži podatke o putnicima broda, odnosno:\n",
    "\n",
    "- ID putnika\n",
    "- Putnik je preživeo ili ne\n",
    "- Klasa u kojoj je putnik smešten\n",
    "- Pol putnika\n",
    "- Starost putnika\n",
    "- Broj putnika u srodstvu u istom kolenu, odnosno u bračnom odnosu (braća, sestre, supružnici)\n",
    "- Broj putnika u srodstvu u prethodnom ili sledećem kolenu (roditelji, deca)\n",
    "- Broj kupljene karte\n",
    "- Cena kupljene karte\n",
    "- Oznaka kabine\n",
    "- Oznaka luke u kojoj je putnik ukrcan"
   ]
  },
  {
   "cell_type": "code",
   "execution_count": 1,
   "metadata": {},
   "outputs": [
    {
     "data": {
      "text/html": [
       "<div>\n",
       "<style scoped>\n",
       "    .dataframe tbody tr th:only-of-type {\n",
       "        vertical-align: middle;\n",
       "    }\n",
       "\n",
       "    .dataframe tbody tr th {\n",
       "        vertical-align: top;\n",
       "    }\n",
       "\n",
       "    .dataframe thead th {\n",
       "        text-align: right;\n",
       "    }\n",
       "</style>\n",
       "<table border=\"1\" class=\"dataframe\">\n",
       "  <thead>\n",
       "    <tr style=\"text-align: right;\">\n",
       "      <th></th>\n",
       "      <th>PassengerId</th>\n",
       "      <th>Survived</th>\n",
       "      <th>Pclass</th>\n",
       "      <th>Name</th>\n",
       "      <th>Sex</th>\n",
       "      <th>Age</th>\n",
       "      <th>SibSp</th>\n",
       "      <th>Parch</th>\n",
       "      <th>Ticket</th>\n",
       "      <th>Fare</th>\n",
       "      <th>Cabin</th>\n",
       "      <th>Embarked</th>\n",
       "    </tr>\n",
       "  </thead>\n",
       "  <tbody>\n",
       "    <tr>\n",
       "      <th>0</th>\n",
       "      <td>1</td>\n",
       "      <td>0</td>\n",
       "      <td>3</td>\n",
       "      <td>Braund, Mr. Owen Harris</td>\n",
       "      <td>male</td>\n",
       "      <td>22.0</td>\n",
       "      <td>1</td>\n",
       "      <td>0</td>\n",
       "      <td>A/5 21171</td>\n",
       "      <td>7.2500</td>\n",
       "      <td>NaN</td>\n",
       "      <td>S</td>\n",
       "    </tr>\n",
       "    <tr>\n",
       "      <th>1</th>\n",
       "      <td>2</td>\n",
       "      <td>1</td>\n",
       "      <td>1</td>\n",
       "      <td>Cumings, Mrs. John Bradley (Florence Briggs Th...</td>\n",
       "      <td>female</td>\n",
       "      <td>38.0</td>\n",
       "      <td>1</td>\n",
       "      <td>0</td>\n",
       "      <td>PC 17599</td>\n",
       "      <td>71.2833</td>\n",
       "      <td>C85</td>\n",
       "      <td>C</td>\n",
       "    </tr>\n",
       "    <tr>\n",
       "      <th>2</th>\n",
       "      <td>3</td>\n",
       "      <td>1</td>\n",
       "      <td>3</td>\n",
       "      <td>Heikkinen, Miss. Laina</td>\n",
       "      <td>female</td>\n",
       "      <td>26.0</td>\n",
       "      <td>0</td>\n",
       "      <td>0</td>\n",
       "      <td>STON/O2. 3101282</td>\n",
       "      <td>7.9250</td>\n",
       "      <td>NaN</td>\n",
       "      <td>S</td>\n",
       "    </tr>\n",
       "    <tr>\n",
       "      <th>3</th>\n",
       "      <td>4</td>\n",
       "      <td>1</td>\n",
       "      <td>1</td>\n",
       "      <td>Futrelle, Mrs. Jacques Heath (Lily May Peel)</td>\n",
       "      <td>female</td>\n",
       "      <td>35.0</td>\n",
       "      <td>1</td>\n",
       "      <td>0</td>\n",
       "      <td>113803</td>\n",
       "      <td>53.1000</td>\n",
       "      <td>C123</td>\n",
       "      <td>S</td>\n",
       "    </tr>\n",
       "    <tr>\n",
       "      <th>4</th>\n",
       "      <td>5</td>\n",
       "      <td>0</td>\n",
       "      <td>3</td>\n",
       "      <td>Allen, Mr. William Henry</td>\n",
       "      <td>male</td>\n",
       "      <td>35.0</td>\n",
       "      <td>0</td>\n",
       "      <td>0</td>\n",
       "      <td>373450</td>\n",
       "      <td>8.0500</td>\n",
       "      <td>NaN</td>\n",
       "      <td>S</td>\n",
       "    </tr>\n",
       "  </tbody>\n",
       "</table>\n",
       "</div>"
      ],
      "text/plain": [
       "   PassengerId  Survived  Pclass  \\\n",
       "0            1         0       3   \n",
       "1            2         1       1   \n",
       "2            3         1       3   \n",
       "3            4         1       1   \n",
       "4            5         0       3   \n",
       "\n",
       "                                                Name     Sex   Age  SibSp  \\\n",
       "0                            Braund, Mr. Owen Harris    male  22.0      1   \n",
       "1  Cumings, Mrs. John Bradley (Florence Briggs Th...  female  38.0      1   \n",
       "2                             Heikkinen, Miss. Laina  female  26.0      0   \n",
       "3       Futrelle, Mrs. Jacques Heath (Lily May Peel)  female  35.0      1   \n",
       "4                           Allen, Mr. William Henry    male  35.0      0   \n",
       "\n",
       "   Parch            Ticket     Fare Cabin Embarked  \n",
       "0      0         A/5 21171   7.2500   NaN        S  \n",
       "1      0          PC 17599  71.2833   C85        C  \n",
       "2      0  STON/O2. 3101282   7.9250   NaN        S  \n",
       "3      0            113803  53.1000  C123        S  \n",
       "4      0            373450   8.0500   NaN        S  "
      ]
     },
     "execution_count": 1,
     "metadata": {},
     "output_type": "execute_result"
    }
   ],
   "source": [
    "import pandas as pd\n",
    "df=pd.read_csv('kurs_titanic_train.csv')\n",
    "df.head()"
   ]
  },
  {
   "cell_type": "markdown",
   "metadata": {},
   "source": [
    "Iako promena tipova ne predstavlja sastavni deo analize podataka, već njihove pripreme, radi konzistentnosti analize tipovi će biti promenjeni u odgovarajuće, a veličina PassengerId obrisana."
   ]
  },
  {
   "cell_type": "code",
   "execution_count": 2,
   "metadata": {},
   "outputs": [],
   "source": [
    "df['Survived']=df['Survived'].astype('category')\n",
    "df['Sex']=df['Sex'].astype('category')\n",
    "df['Embarked']=df['Embarked'].astype('category')\n",
    "df=df.drop('PassengerId',1)"
   ]
  },
  {
   "cell_type": "markdown",
   "metadata": {},
   "source": [
    "## Korelacija podataka"
   ]
  },
  {
   "cell_type": "markdown",
   "metadata": {},
   "source": [
    "Dok statistička analiza individualnih veličina ukazuje na potrebu za određenom pripremom podataka pre učenja, analiza korelacije podataka je važna jer:\n",
    "\n",
    "- Može da ukaže na potrebu za uklanjanjem neke ulazne veličine u slučaju da postoji korelacija te veličine sa drugom ulaznom veličinom.\n",
    "- Može da ukaže na najrelevantnije ulazne veličine, odnosno one veličine koje imaju najveći uticaj na promene izlazne veličine.\n",
    "\n",
    "Korelacija podataka se sagledava u zavisnosti od tipa. Naime, postoje tri situacije u kojima se primenjuju različite metode za utvrđivanje korelacije između dve veličine:\n",
    "\n",
    "- Korelacija između dve kontinualne veličine\n",
    "- Korelacija između dve nominalne veličine\n",
    "- Korelacija između kontinualne i nominalne veličine\n",
    "\n",
    "Važno je napomenuti da se metodama prikazanim u ovom poglavlju procenjuju korelacije individualnih veličina, odnosno uticaj promena određene veličine na promene druge. Takvo sagledavanje je nepotpuno jer ne uzima u obzir kombinovane uticaje dve ili više veličina na određenu veličinu."
   ]
  },
  {
   "cell_type": "markdown",
   "metadata": {},
   "source": [
    "### Korelacija između kontinualnih veličina"
   ]
  },
  {
   "cell_type": "markdown",
   "metadata": {},
   "source": [
    "Za utvrđivanje korelacija između kontinualnih/numeričkih veličina, može se koristiti Pearsonov koeficijent (Pearsonov koeficijent se koristi SAMO za numeričke veličine). Pozivanjem metode corr DataFrame strukture, prikazuje se matrica svih korelacija (Pearsonovih koeficijenata) između numeričkih tipova u DataFrame strukturi. Ukoliko je koeficijent negativan, korelacija je inverzna. Koeficijent je u intervalu (-1,1), gde vrednosti bliže 1 ili -1 ukazuju na postojanje korelacije."
   ]
  },
  {
   "cell_type": "code",
   "execution_count": 3,
   "metadata": {},
   "outputs": [
    {
     "data": {
      "text/html": [
       "<div>\n",
       "<style scoped>\n",
       "    .dataframe tbody tr th:only-of-type {\n",
       "        vertical-align: middle;\n",
       "    }\n",
       "\n",
       "    .dataframe tbody tr th {\n",
       "        vertical-align: top;\n",
       "    }\n",
       "\n",
       "    .dataframe thead th {\n",
       "        text-align: right;\n",
       "    }\n",
       "</style>\n",
       "<table border=\"1\" class=\"dataframe\">\n",
       "  <thead>\n",
       "    <tr style=\"text-align: right;\">\n",
       "      <th></th>\n",
       "      <th>Pclass</th>\n",
       "      <th>Age</th>\n",
       "      <th>SibSp</th>\n",
       "      <th>Parch</th>\n",
       "      <th>Fare</th>\n",
       "    </tr>\n",
       "  </thead>\n",
       "  <tbody>\n",
       "    <tr>\n",
       "      <th>Pclass</th>\n",
       "      <td>1.000000</td>\n",
       "      <td>-0.369226</td>\n",
       "      <td>0.083081</td>\n",
       "      <td>0.018443</td>\n",
       "      <td>-0.549500</td>\n",
       "    </tr>\n",
       "    <tr>\n",
       "      <th>Age</th>\n",
       "      <td>-0.369226</td>\n",
       "      <td>1.000000</td>\n",
       "      <td>-0.308247</td>\n",
       "      <td>-0.189119</td>\n",
       "      <td>0.096067</td>\n",
       "    </tr>\n",
       "    <tr>\n",
       "      <th>SibSp</th>\n",
       "      <td>0.083081</td>\n",
       "      <td>-0.308247</td>\n",
       "      <td>1.000000</td>\n",
       "      <td>0.414838</td>\n",
       "      <td>0.159651</td>\n",
       "    </tr>\n",
       "    <tr>\n",
       "      <th>Parch</th>\n",
       "      <td>0.018443</td>\n",
       "      <td>-0.189119</td>\n",
       "      <td>0.414838</td>\n",
       "      <td>1.000000</td>\n",
       "      <td>0.216225</td>\n",
       "    </tr>\n",
       "    <tr>\n",
       "      <th>Fare</th>\n",
       "      <td>-0.549500</td>\n",
       "      <td>0.096067</td>\n",
       "      <td>0.159651</td>\n",
       "      <td>0.216225</td>\n",
       "      <td>1.000000</td>\n",
       "    </tr>\n",
       "  </tbody>\n",
       "</table>\n",
       "</div>"
      ],
      "text/plain": [
       "          Pclass       Age     SibSp     Parch      Fare\n",
       "Pclass  1.000000 -0.369226  0.083081  0.018443 -0.549500\n",
       "Age    -0.369226  1.000000 -0.308247 -0.189119  0.096067\n",
       "SibSp   0.083081 -0.308247  1.000000  0.414838  0.159651\n",
       "Parch   0.018443 -0.189119  0.414838  1.000000  0.216225\n",
       "Fare   -0.549500  0.096067  0.159651  0.216225  1.000000"
      ]
     },
     "execution_count": 3,
     "metadata": {},
     "output_type": "execute_result"
    }
   ],
   "source": [
    "df.corr(method='pearson')"
   ]
  },
  {
   "cell_type": "markdown",
   "metadata": {},
   "source": [
    "Iz analize koeficijenata korelacije gore, možemo zaključiti da postoji izvesna korelacija između vrednosti SibSp i Parch veličina. To možemo bukvalno interpretirati na sledeći način: putnici koji putuju sa srodnicima u istom kolenu, putuju i sa srodnicima u prethodnom ili narednom kolenu. Zapravo, ovo i nije sasvim tačna interpretacija. Ona može da implicira kauzalnost, a kauzalnost je usmerena relacija. Korelacija, prema Pearsonu (ali i drugim metodama - kendall, spearman) je simetrična relacija, pa shodno tome daje nepotpunu informaciju o korelaciji. Imajući sve ovo na umu, neki parcijalni zaključci koje možemo da donesemo na osnovu vrednosti korelacionih koeficijenata su:\n",
    "\n",
    "- Za putnike koji putuju sa decom, postoji izvesna verovatnoća da putuju i sa supružnicima, i istovremeno u drugom smeru:\n",
    "- Za putnike koji putuju sa supružnicima, postoji izvesna verovatnoća da putuju i sa decom\n",
    "\n",
    "Ostali zaključci iz analize korelacionih koeficijenata su:\n",
    "\n",
    "- Postoji inverzna korelacija između putničke klase, odnosno što je putnička klasa niža, cena karte je veća, što je i logično.\n",
    "- Postoji izvesna inverzna korelacija između putničke klase i starosti putnika, odnosno, što je putnik stariji, povećava se verovatnoća da putuje u nižoj (odnosno, boljoj) klasi.\n",
    "- Postoji izvesna inverzna korelacija između starosti putnika i broja srodnika u istom kolenu ili supružnika, odnosno što je putnik stariji smanjuje se verovatnoća da putuje sa nekim u istoj generaciji.\n",
    "\n",
    "Ipak, u analizi korelacije treba imati na umu zlatno pravilo statistike: korelacija ne implicira kauzalnost, visoke vrednosti korelacionih koeficijenata mogu biti rezultat i pristrasnosti (usled nereprezentativnog uzorka prikupljenih podataka) ili kombinovanog uticaja dve veličine na treću."
   ]
  },
  {
   "cell_type": "markdown",
   "metadata": {},
   "source": [
    "Konačno, dole navedena instrukcija pokazuje na koji način je moguće utvrditi Pearsonov koeficijent korelacije za dve izabrane veličine. Podsećamo da se Pearsonov koeficijent razmatra samo kod korelacije između dve kontinualne, numeričke veličine."
   ]
  },
  {
   "cell_type": "code",
   "execution_count": 4,
   "metadata": {},
   "outputs": [
    {
     "data": {
      "text/plain": [
       "-0.3082467589236563"
      ]
     },
     "execution_count": 4,
     "metadata": {},
     "output_type": "execute_result"
    }
   ],
   "source": [
    "df['Age'].corr(df['SibSp'], method='pearson')"
   ]
  },
  {
   "cell_type": "markdown",
   "metadata": {},
   "source": [
    "### Korelacija nominalne i kontinualne veličine"
   ]
  },
  {
   "cell_type": "markdown",
   "metadata": {},
   "source": [
    "Problem analize korelacije između izabrane nominalne i kontinualnih veličina u DataFrame strukturi se može svesti na upoređenje prosečnih vrednosti kontinualnih veličina za različite grupe podataka, grupisane prema vrednosti izabrane nominalne veličine (npr. izlazne). Ipak treba imati na umu da je ovo površno razmatranje i može samo da ukaže na hipoteze korelacije, ali ne i da ih potvrdi.\n",
    "\n",
    "Kod dole prikazuje prosečne vrednosti svih numeričkih veličina za svaku vrednost nominalne veličine Survived."
   ]
  },
  {
   "cell_type": "code",
   "execution_count": 6,
   "metadata": {},
   "outputs": [
    {
     "data": {
      "text/html": [
       "<div>\n",
       "<style scoped>\n",
       "    .dataframe tbody tr th:only-of-type {\n",
       "        vertical-align: middle;\n",
       "    }\n",
       "\n",
       "    .dataframe tbody tr th {\n",
       "        vertical-align: top;\n",
       "    }\n",
       "\n",
       "    .dataframe thead th {\n",
       "        text-align: right;\n",
       "    }\n",
       "</style>\n",
       "<table border=\"1\" class=\"dataframe\">\n",
       "  <thead>\n",
       "    <tr style=\"text-align: right;\">\n",
       "      <th></th>\n",
       "      <th>Pclass</th>\n",
       "      <th>Age</th>\n",
       "      <th>SibSp</th>\n",
       "      <th>Parch</th>\n",
       "      <th>Fare</th>\n",
       "    </tr>\n",
       "    <tr>\n",
       "      <th>Survived</th>\n",
       "      <th></th>\n",
       "      <th></th>\n",
       "      <th></th>\n",
       "      <th></th>\n",
       "      <th></th>\n",
       "    </tr>\n",
       "  </thead>\n",
       "  <tbody>\n",
       "    <tr>\n",
       "      <th>0</th>\n",
       "      <td>2.531876</td>\n",
       "      <td>30.626179</td>\n",
       "      <td>0.553734</td>\n",
       "      <td>0.329690</td>\n",
       "      <td>22.117887</td>\n",
       "    </tr>\n",
       "    <tr>\n",
       "      <th>1</th>\n",
       "      <td>1.950292</td>\n",
       "      <td>28.343690</td>\n",
       "      <td>0.473684</td>\n",
       "      <td>0.464912</td>\n",
       "      <td>48.395408</td>\n",
       "    </tr>\n",
       "  </tbody>\n",
       "</table>\n",
       "</div>"
      ],
      "text/plain": [
       "            Pclass        Age     SibSp     Parch       Fare\n",
       "Survived                                                    \n",
       "0         2.531876  30.626179  0.553734  0.329690  22.117887\n",
       "1         1.950292  28.343690  0.473684  0.464912  48.395408"
      ]
     },
     "execution_count": 6,
     "metadata": {},
     "output_type": "execute_result"
    }
   ],
   "source": [
    "df.groupby('Survived').mean()"
   ]
  },
  {
   "cell_type": "markdown",
   "metadata": {},
   "source": [
    "Zaključci koje je moguće doneti na osnovu analize gore su:\n",
    "\n",
    "- Sa smanjenjem klase se povećava verovatnoća preživljanja. Iako je razlika između prosečnih vrednosti klasa putnika koji su preživeli i onih nastradalih mala u apsolutnom iznosu, u sagledavanju treba uzeti u obzir opseg veličine Pclass (1,3), koji je mali, pa je razlika srednjih vrednosti statistički značajna.\n",
    "- Sa povećanjem cene karte, povećava se verovatnoća preživljavanja.\n",
    "- Interesantno, a suprotno intuiciji, na prvi pogled, starost putnika nema statistički važan uticaj na verovatnoću preživljavanja."
   ]
  },
  {
   "cell_type": "markdown",
   "metadata": {},
   "source": [
    "Korelacije (Pearsonovi koeficijenti) između različitih ulaznih veličina je moguće razmatrati i u kontekstu izlazne veličine, odnosno grupisano po njoj."
   ]
  },
  {
   "cell_type": "code",
   "execution_count": 6,
   "metadata": {},
   "outputs": [
    {
     "data": {
      "text/html": [
       "<div>\n",
       "<style scoped>\n",
       "    .dataframe tbody tr th:only-of-type {\n",
       "        vertical-align: middle;\n",
       "    }\n",
       "\n",
       "    .dataframe tbody tr th {\n",
       "        vertical-align: top;\n",
       "    }\n",
       "\n",
       "    .dataframe thead th {\n",
       "        text-align: right;\n",
       "    }\n",
       "</style>\n",
       "<table border=\"1\" class=\"dataframe\">\n",
       "  <thead>\n",
       "    <tr style=\"text-align: right;\">\n",
       "      <th></th>\n",
       "      <th></th>\n",
       "      <th>Age</th>\n",
       "      <th>Fare</th>\n",
       "      <th>Parch</th>\n",
       "      <th>Pclass</th>\n",
       "      <th>SibSp</th>\n",
       "    </tr>\n",
       "    <tr>\n",
       "      <th>Survived</th>\n",
       "      <th></th>\n",
       "      <th></th>\n",
       "      <th></th>\n",
       "      <th></th>\n",
       "      <th></th>\n",
       "      <th></th>\n",
       "    </tr>\n",
       "  </thead>\n",
       "  <tbody>\n",
       "    <tr>\n",
       "      <th rowspan=\"5\" valign=\"top\">0</th>\n",
       "      <th>Age</th>\n",
       "      <td>1.000000</td>\n",
       "      <td>0.076852</td>\n",
       "      <td>-0.096298</td>\n",
       "      <td>-0.434168</td>\n",
       "      <td>-0.403734</td>\n",
       "    </tr>\n",
       "    <tr>\n",
       "      <th>Fare</th>\n",
       "      <td>0.076852</td>\n",
       "      <td>1.000000</td>\n",
       "      <td>0.347307</td>\n",
       "      <td>-0.517378</td>\n",
       "      <td>0.282108</td>\n",
       "    </tr>\n",
       "    <tr>\n",
       "      <th>Parch</th>\n",
       "      <td>-0.096298</td>\n",
       "      <td>0.347307</td>\n",
       "      <td>1.000000</td>\n",
       "      <td>0.068482</td>\n",
       "      <td>0.477940</td>\n",
       "    </tr>\n",
       "    <tr>\n",
       "      <th>Pclass</th>\n",
       "      <td>-0.434168</td>\n",
       "      <td>-0.517378</td>\n",
       "      <td>0.068482</td>\n",
       "      <td>1.000000</td>\n",
       "      <td>0.125714</td>\n",
       "    </tr>\n",
       "    <tr>\n",
       "      <th>SibSp</th>\n",
       "      <td>-0.403734</td>\n",
       "      <td>0.282108</td>\n",
       "      <td>0.477940</td>\n",
       "      <td>0.125714</td>\n",
       "      <td>1.000000</td>\n",
       "    </tr>\n",
       "    <tr>\n",
       "      <th rowspan=\"5\" valign=\"top\">1</th>\n",
       "      <th>Age</th>\n",
       "      <td>1.000000</td>\n",
       "      <td>0.162648</td>\n",
       "      <td>-0.315599</td>\n",
       "      <td>-0.418073</td>\n",
       "      <td>-0.143309</td>\n",
       "    </tr>\n",
       "    <tr>\n",
       "      <th>Fare</th>\n",
       "      <td>0.162648</td>\n",
       "      <td>1.000000</td>\n",
       "      <td>0.116519</td>\n",
       "      <td>-0.538125</td>\n",
       "      <td>0.122886</td>\n",
       "    </tr>\n",
       "    <tr>\n",
       "      <th>Parch</th>\n",
       "      <td>-0.315599</td>\n",
       "      <td>0.116519</td>\n",
       "      <td>1.000000</td>\n",
       "      <td>0.021584</td>\n",
       "      <td>0.282498</td>\n",
       "    </tr>\n",
       "    <tr>\n",
       "      <th>Pclass</th>\n",
       "      <td>-0.418073</td>\n",
       "      <td>-0.538125</td>\n",
       "      <td>0.021584</td>\n",
       "      <td>1.000000</td>\n",
       "      <td>-0.033300</td>\n",
       "    </tr>\n",
       "    <tr>\n",
       "      <th>SibSp</th>\n",
       "      <td>-0.143309</td>\n",
       "      <td>0.122886</td>\n",
       "      <td>0.282498</td>\n",
       "      <td>-0.033300</td>\n",
       "      <td>1.000000</td>\n",
       "    </tr>\n",
       "  </tbody>\n",
       "</table>\n",
       "</div>"
      ],
      "text/plain": [
       "                      Age      Fare     Parch    Pclass     SibSp\n",
       "Survived                                                         \n",
       "0        Age     1.000000  0.076852 -0.096298 -0.434168 -0.403734\n",
       "         Fare    0.076852  1.000000  0.347307 -0.517378  0.282108\n",
       "         Parch  -0.096298  0.347307  1.000000  0.068482  0.477940\n",
       "         Pclass -0.434168 -0.517378  0.068482  1.000000  0.125714\n",
       "         SibSp  -0.403734  0.282108  0.477940  0.125714  1.000000\n",
       "1        Age     1.000000  0.162648 -0.315599 -0.418073 -0.143309\n",
       "         Fare    0.162648  1.000000  0.116519 -0.538125  0.122886\n",
       "         Parch  -0.315599  0.116519  1.000000  0.021584  0.282498\n",
       "         Pclass -0.418073 -0.538125  0.021584  1.000000 -0.033300\n",
       "         SibSp  -0.143309  0.122886  0.282498 -0.033300  1.000000"
      ]
     },
     "execution_count": 6,
     "metadata": {},
     "output_type": "execute_result"
    }
   ],
   "source": [
    "df.groupby('Survived').corr()"
   ]
  },
  {
   "cell_type": "markdown",
   "metadata": {},
   "source": [
    "### Korelacija između dve nominalne veličine"
   ]
  },
  {
   "cell_type": "markdown",
   "metadata": {},
   "source": [
    "Najjednostavniji način za analizu korelacije između dve nominalne veličine je razmatranje brojeva instanci/podataka koje pripadaju svim kombinacijama vrednosti obe nominalne veličine. Prikaz koji to omogućava je tzv. crosstab tabela, odnosno tabela frekvencija (frequency table), u čijim se vrstama i kolonama nalaze vrednosti dve nominalne veličine, a u ćelijama brojevi podataka.\n",
    "\n",
    "Prikaz crosstab tabele za dve izabrane nominalne veličine se vrši na sledeći način:"
   ]
  },
  {
   "cell_type": "code",
   "execution_count": 7,
   "metadata": {},
   "outputs": [
    {
     "data": {
      "text/html": [
       "<div>\n",
       "<style scoped>\n",
       "    .dataframe tbody tr th:only-of-type {\n",
       "        vertical-align: middle;\n",
       "    }\n",
       "\n",
       "    .dataframe tbody tr th {\n",
       "        vertical-align: top;\n",
       "    }\n",
       "\n",
       "    .dataframe thead th {\n",
       "        text-align: right;\n",
       "    }\n",
       "</style>\n",
       "<table border=\"1\" class=\"dataframe\">\n",
       "  <thead>\n",
       "    <tr style=\"text-align: right;\">\n",
       "      <th>Sex</th>\n",
       "      <th>female</th>\n",
       "      <th>male</th>\n",
       "    </tr>\n",
       "    <tr>\n",
       "      <th>Survived</th>\n",
       "      <th></th>\n",
       "      <th></th>\n",
       "    </tr>\n",
       "  </thead>\n",
       "  <tbody>\n",
       "    <tr>\n",
       "      <th>0</th>\n",
       "      <td>81</td>\n",
       "      <td>468</td>\n",
       "    </tr>\n",
       "    <tr>\n",
       "      <th>1</th>\n",
       "      <td>233</td>\n",
       "      <td>109</td>\n",
       "    </tr>\n",
       "  </tbody>\n",
       "</table>\n",
       "</div>"
      ],
      "text/plain": [
       "Sex       female  male\n",
       "Survived              \n",
       "0             81   468\n",
       "1            233   109"
      ]
     },
     "execution_count": 7,
     "metadata": {},
     "output_type": "execute_result"
    }
   ],
   "source": [
    "pd.crosstab(df['Survived'],df['Sex'])"
   ]
  },
  {
   "cell_type": "markdown",
   "metadata": {},
   "source": [
    "Na osnovu uvida u tabelu frekvencija gore, moguće je doneti sledeće zaključke:\n",
    "\n",
    "- Među ženama postoji veći broj preživelih od broja stradalih\n",
    "- Među muškarcima, postoji veći broj stradalih od broja preživelih.\n",
    "\n",
    "Ovakvi zaključci impliciraju da postoji snažna zavisnost između pola i preživljavanja."
   ]
  },
  {
   "cell_type": "markdown",
   "metadata": {},
   "source": [
    "Slična analiza se može izvršiti i za preostale dve veličine kategorije - putničku klasu (Pclass) i mesto ukrcavanja (Embarked)."
   ]
  },
  {
   "cell_type": "code",
   "execution_count": 8,
   "metadata": {},
   "outputs": [
    {
     "data": {
      "text/html": [
       "<div>\n",
       "<style scoped>\n",
       "    .dataframe tbody tr th:only-of-type {\n",
       "        vertical-align: middle;\n",
       "    }\n",
       "\n",
       "    .dataframe tbody tr th {\n",
       "        vertical-align: top;\n",
       "    }\n",
       "\n",
       "    .dataframe thead th {\n",
       "        text-align: right;\n",
       "    }\n",
       "</style>\n",
       "<table border=\"1\" class=\"dataframe\">\n",
       "  <thead>\n",
       "    <tr style=\"text-align: right;\">\n",
       "      <th>Pclass</th>\n",
       "      <th>1</th>\n",
       "      <th>2</th>\n",
       "      <th>3</th>\n",
       "    </tr>\n",
       "    <tr>\n",
       "      <th>Survived</th>\n",
       "      <th></th>\n",
       "      <th></th>\n",
       "      <th></th>\n",
       "    </tr>\n",
       "  </thead>\n",
       "  <tbody>\n",
       "    <tr>\n",
       "      <th>0</th>\n",
       "      <td>80</td>\n",
       "      <td>97</td>\n",
       "      <td>372</td>\n",
       "    </tr>\n",
       "    <tr>\n",
       "      <th>1</th>\n",
       "      <td>136</td>\n",
       "      <td>87</td>\n",
       "      <td>119</td>\n",
       "    </tr>\n",
       "  </tbody>\n",
       "</table>\n",
       "</div>"
      ],
      "text/plain": [
       "Pclass      1   2    3\n",
       "Survived              \n",
       "0          80  97  372\n",
       "1         136  87  119"
      ]
     },
     "execution_count": 8,
     "metadata": {},
     "output_type": "execute_result"
    }
   ],
   "source": [
    "pd.crosstab(df['Survived'],df['Pclass'])"
   ]
  },
  {
   "cell_type": "markdown",
   "metadata": {},
   "source": [
    "U ovom slučaju"
   ]
  },
  {
   "cell_type": "code",
   "execution_count": 9,
   "metadata": {},
   "outputs": [
    {
     "data": {
      "text/html": [
       "<div>\n",
       "<style scoped>\n",
       "    .dataframe tbody tr th:only-of-type {\n",
       "        vertical-align: middle;\n",
       "    }\n",
       "\n",
       "    .dataframe tbody tr th {\n",
       "        vertical-align: top;\n",
       "    }\n",
       "\n",
       "    .dataframe thead th {\n",
       "        text-align: right;\n",
       "    }\n",
       "</style>\n",
       "<table border=\"1\" class=\"dataframe\">\n",
       "  <thead>\n",
       "    <tr style=\"text-align: right;\">\n",
       "      <th>Embarked</th>\n",
       "      <th>C</th>\n",
       "      <th>Q</th>\n",
       "      <th>S</th>\n",
       "    </tr>\n",
       "    <tr>\n",
       "      <th>Survived</th>\n",
       "      <th></th>\n",
       "      <th></th>\n",
       "      <th></th>\n",
       "    </tr>\n",
       "  </thead>\n",
       "  <tbody>\n",
       "    <tr>\n",
       "      <th>0</th>\n",
       "      <td>75</td>\n",
       "      <td>47</td>\n",
       "      <td>427</td>\n",
       "    </tr>\n",
       "    <tr>\n",
       "      <th>1</th>\n",
       "      <td>93</td>\n",
       "      <td>30</td>\n",
       "      <td>217</td>\n",
       "    </tr>\n",
       "  </tbody>\n",
       "</table>\n",
       "</div>"
      ],
      "text/plain": [
       "Embarked   C   Q    S\n",
       "Survived             \n",
       "0         75  47  427\n",
       "1         93  30  217"
      ]
     },
     "execution_count": 9,
     "metadata": {},
     "output_type": "execute_result"
    }
   ],
   "source": [
    "pd.crosstab(df['Survived'],df['Embarked'])"
   ]
  },
  {
   "cell_type": "markdown",
   "metadata": {},
   "source": [
    "Za razliku od veličina Pclass i Sex, korelaciju između preživljavanja i luke ukrcavanja nije moguće uočiti analizom tabele gore. Ovo nikako ne znači da korelacija ne postoji. Potpuno izvesni zaključak o korelaciji dve veličine tipa kategorije je moguće doneti primenom statističke metode - chi-squared (ki-skuerd) testa."
   ]
  },
  {
   "cell_type": "markdown",
   "metadata": {},
   "source": [
    "#### Chi-squared test"
   ]
  },
  {
   "cell_type": "markdown",
   "metadata": {},
   "source": [
    "Chi-squared test nezavisnosti je statistički test kojim se utvrđuje da li postoji značajna veza između dve veličine tipa kategorije. Test utvrđuje izvesnost tzv. nulte hipoteze, hipoteze da ne postoji statistički važna korelacija između dve veličine. \n",
    "\n",
    "U programu dole Chi-squared testiranje se vrši za svaku veličinu osim veličine Survived. Za svaku veličinu se formira tzv. tabela eventualnosti (contingency table) koju čine podaci iz kolona DataFrame objekta čija se korelacija utvrđuje. Potom se izračunava procena tačnosti nulte hipoteze. Ukoliko je ona veća od granične vrednosti, koja je definisana vrednošću 0.05, smatra se da je nulta hipoteza dokazana, odnosno da veličina NIJE statistički značajna za zadatu izlaznu veličinu. Generalno, manja vrednost parametra k ukazuje na veću korelaciju između izabrane ulazne i izlazne veličine."
   ]
  },
  {
   "cell_type": "code",
   "execution_count": 10,
   "metadata": {},
   "outputs": [
    {
     "name": "stdout",
     "output_type": "stream",
     "text": [
      "Pclass:4.549251711298793e-23\n",
      "     Feature is important\n",
      "Name:0.484248151973633\n",
      "Sex:1.1973570627755645e-58\n",
      "     Feature is important\n",
      "Age:0.10141111018860959\n",
      "SibSp:1.5585810465902116e-06\n",
      "     Feature is important\n",
      "Parch:9.703526421039997e-05\n",
      "     Feature is important\n",
      "Ticket:0.01152729601163775\n",
      "     Feature is important\n",
      "Fare:1.1647635739939964e-11\n",
      "     Feature is important\n",
      "Cabin:0.18357354976388165\n",
      "Embarked:1.769922284120912e-06\n",
      "     Feature is important\n"
     ]
    }
   ],
   "source": [
    "from scipy.stats import chi2_contingency\n",
    "alpha=0.05\n",
    "Xcorarr=df.columns\n",
    "Ycor=df['Survived']\n",
    "for x in Xcorarr:\n",
    "    if(x!='Survived'):\n",
    "        dfObserved=pd.crosstab(Ycor,df[x])\n",
    "        chi2, p, dof, expected = chi2_contingency(dfObserved.values)\n",
    "        print(x+':'+str(p))\n",
    "        if(p<alpha):\n",
    "            print('     Feature is important')"
   ]
  },
  {
   "cell_type": "markdown",
   "metadata": {},
   "source": [
    "Chi-squared test pokazuje da je statistički najuticajnija veličina pol putnika, a potom putnička klasa putnika. Sledi plaćena cena karte, a za njom, luka ukrcavanja, broj srodnika u istom kolenu i na kraju broj srodnika u narednom ili prethodnom kolenu."
   ]
  },
  {
   "cell_type": "markdown",
   "metadata": {},
   "source": [
    "Jedna od najpouzdanijih metoda za određivanje korelacije između veličina tipa kategorije je Kramerov (Cramers V) test. On predstavlja modifikovanu verziju Chi-squared testa. Korišćenje Kramerovog testa za određivanje koeficijenata korelacije (u intervalu:0,1) je prikazano dole (iz testa su isključene veličine tekstualnog tipa)."
   ]
  },
  {
   "cell_type": "code",
   "execution_count": 11,
   "metadata": {},
   "outputs": [
    {
     "name": "stdout",
     "output_type": "stream",
     "text": [
      "Pclass:0.33668387622245516\n",
      "Sex:0.5401999468101071\n",
      "Age:0.15456614283818954\n",
      "SibSp:0.18742816095927226\n",
      "Parch:0.15693364431605167\n",
      "Fare:0.4478802481888927\n",
      "Embarked:0.16605833339661635\n"
     ]
    }
   ],
   "source": [
    "import numpy as np\n",
    "\n",
    "def cramers_corrected_stat(confusion_matrix):\n",
    "    \"\"\" calculate Cramers V statistic for categorial-categorial association.\n",
    "        uses correction from Bergsma and Wicher, \n",
    "        Journal of the Korean Statistical Society 42 (2013): 323-328\n",
    "    \"\"\"\n",
    "    chi2 = chi2_contingency(confusion_matrix)[0]\n",
    "    n = confusion_matrix.sum().sum()\n",
    "    phi2 = chi2/n\n",
    "    r,k = confusion_matrix.shape\n",
    "    phi2corr = max(0, phi2 - ((k-1)*(r-1))/(n-1))    \n",
    "    rcorr = r - ((r-1)**2)/(n-1)\n",
    "    kcorr = k - ((k-1)**2)/(n-1)\n",
    "    return np.sqrt(phi2corr / min( (kcorr-1), (rcorr-1)))\n",
    "\n",
    "for x in Xcorarr:\n",
    "    if(x!='Survived' and x!='Name' and x!='Ticket' and x!='Cabin'):\n",
    "        dfObserved=pd.crosstab(Ycor,df[x])\n",
    "        p = cramers_corrected_stat(dfObserved)\n",
    "        print(x+':'+str(p))"
   ]
  },
  {
   "cell_type": "markdown",
   "metadata": {},
   "source": [
    "## Metode za izbor veličina"
   ]
  },
  {
   "cell_type": "markdown",
   "metadata": {},
   "source": [
    "Poslednji korak u analizi podataka je primena neke od metoda za izbor veličina. Ove metode vrše najkompleksniju analizu uticaja ulaznih veličina na izlaznu odnosno procenjuju njihovu relevantnost. Metode koje su prikazane u ovoj vežbi su univarijatna selekcija (koja koristi chi-squared test, slično već opisanom gore) i rekurzivna eliminacija veličina (RFE). Druga metoda vrši analizu kombinovanog uticaja ulaznih veličina na izlaznu.\n",
    "\n",
    "Uslov za izvršenje ovih metoda je da svi tekstualni podaci budu kodirani, odnosno da sve veličine čine podaci koji su celi ili realni brojevi. Za potrebe demonstracije metoda za izbor veličina, instrukcije dole će izvršiti kodiranje veličina Sex i Embarked. Veličine Name, Ticket i Cabin će biti uklonjene iz DataFrame objekta."
   ]
  },
  {
   "cell_type": "code",
   "execution_count": 12,
   "metadata": {},
   "outputs": [
    {
     "data": {
      "text/html": [
       "<div>\n",
       "<style scoped>\n",
       "    .dataframe tbody tr th:only-of-type {\n",
       "        vertical-align: middle;\n",
       "    }\n",
       "\n",
       "    .dataframe tbody tr th {\n",
       "        vertical-align: top;\n",
       "    }\n",
       "\n",
       "    .dataframe thead th {\n",
       "        text-align: right;\n",
       "    }\n",
       "</style>\n",
       "<table border=\"1\" class=\"dataframe\">\n",
       "  <thead>\n",
       "    <tr style=\"text-align: right;\">\n",
       "      <th></th>\n",
       "      <th>Survived</th>\n",
       "      <th>Pclass</th>\n",
       "      <th>Sex</th>\n",
       "      <th>Age</th>\n",
       "      <th>SibSp</th>\n",
       "      <th>Parch</th>\n",
       "      <th>Fare</th>\n",
       "      <th>Embarked</th>\n",
       "    </tr>\n",
       "  </thead>\n",
       "  <tbody>\n",
       "    <tr>\n",
       "      <th>0</th>\n",
       "      <td>0</td>\n",
       "      <td>3</td>\n",
       "      <td>1</td>\n",
       "      <td>22.0</td>\n",
       "      <td>1</td>\n",
       "      <td>0</td>\n",
       "      <td>7.2500</td>\n",
       "      <td>2</td>\n",
       "    </tr>\n",
       "    <tr>\n",
       "      <th>1</th>\n",
       "      <td>1</td>\n",
       "      <td>1</td>\n",
       "      <td>0</td>\n",
       "      <td>38.0</td>\n",
       "      <td>1</td>\n",
       "      <td>0</td>\n",
       "      <td>71.2833</td>\n",
       "      <td>0</td>\n",
       "    </tr>\n",
       "    <tr>\n",
       "      <th>2</th>\n",
       "      <td>1</td>\n",
       "      <td>3</td>\n",
       "      <td>0</td>\n",
       "      <td>26.0</td>\n",
       "      <td>0</td>\n",
       "      <td>0</td>\n",
       "      <td>7.9250</td>\n",
       "      <td>2</td>\n",
       "    </tr>\n",
       "    <tr>\n",
       "      <th>3</th>\n",
       "      <td>1</td>\n",
       "      <td>1</td>\n",
       "      <td>0</td>\n",
       "      <td>35.0</td>\n",
       "      <td>1</td>\n",
       "      <td>0</td>\n",
       "      <td>53.1000</td>\n",
       "      <td>2</td>\n",
       "    </tr>\n",
       "    <tr>\n",
       "      <th>4</th>\n",
       "      <td>0</td>\n",
       "      <td>3</td>\n",
       "      <td>1</td>\n",
       "      <td>35.0</td>\n",
       "      <td>0</td>\n",
       "      <td>0</td>\n",
       "      <td>8.0500</td>\n",
       "      <td>2</td>\n",
       "    </tr>\n",
       "  </tbody>\n",
       "</table>\n",
       "</div>"
      ],
      "text/plain": [
       "   Survived  Pclass  Sex   Age  SibSp  Parch     Fare  Embarked\n",
       "0         0       3    1  22.0      1      0   7.2500         2\n",
       "1         1       1    0  38.0      1      0  71.2833         0\n",
       "2         1       3    0  26.0      0      0   7.9250         2\n",
       "3         1       1    0  35.0      1      0  53.1000         2\n",
       "4         0       3    1  35.0      0      0   8.0500         2"
      ]
     },
     "execution_count": 12,
     "metadata": {},
     "output_type": "execute_result"
    }
   ],
   "source": [
    "from sklearn.preprocessing import LabelEncoder\n",
    "gle = LabelEncoder()\n",
    "df['Sex']=df['Sex'].astype('str')\n",
    "df['Embarked']=df['Embarked'].astype('str')\n",
    "sexlabels = gle.fit_transform(df['Sex'])\n",
    "embarkedlabels = gle.fit_transform(df['Embarked'])\n",
    "df['Sex']=sexlabels\n",
    "df['Embarked']=embarkedlabels\n",
    "df=df.drop('Name', 1)\n",
    "df=df.drop('Ticket', 1)\n",
    "df=df.drop('Cabin', 1)\n",
    "agemean=df['Age'].mean()\n",
    "df['Age']=df['Age'].fillna(agemean)\n",
    "df['Survived']=df['Survived'].astype('int')\n",
    "df.head()"
   ]
  },
  {
   "cell_type": "markdown",
   "metadata": {},
   "source": [
    "### Univarijatna selekcija veličina"
   ]
  },
  {
   "cell_type": "markdown",
   "metadata": {},
   "source": [
    "Drugi način za chi-squared testiranje je korišćenje funkcije SelectKBest za izbor veličina. Rezultat metoda su ocene relevantnosti pojedinačnih veličina i preporuke o usvajanju pojedinačnih veličina za konačni model."
   ]
  },
  {
   "cell_type": "code",
   "execution_count": 13,
   "metadata": {},
   "outputs": [
    {
     "name": "stdout",
     "output_type": "stream",
     "text": [
      "[3.08736994e+01 9.27024470e+01 2.46879258e+01 2.58186538e+00\n",
      " 1.00974991e+01 4.51831909e+03 9.75545583e+00]\n",
      "[ True  True  True False  True  True False]\n"
     ]
    }
   ],
   "source": [
    "from sklearn.feature_selection import SelectKBest\n",
    "from sklearn.feature_selection import chi2\n",
    "\n",
    "X=df.values[:,1:8]\n",
    "y=df.values[:,0]\n",
    "\n",
    "fit = SelectKBest(score_func=chi2, k=5).fit(X, y)\n",
    "print(fit.scores_)\n",
    "print(fit.get_support())"
   ]
  },
  {
   "cell_type": "markdown",
   "metadata": {},
   "source": [
    "### Metod rekurzivne eliminacije veličina "
   ]
  },
  {
   "cell_type": "markdown",
   "metadata": {},
   "source": [
    "Metod rekurzivne eliminacije veličina (RFE) vrši rekurzivno uklanjanje veličina i izrađuje model (u kodu dole se koristi model zasnovan na logističkoj regresiji, ali je moguće koristiti i druge algoritme) na osnovu preostalih veličina. Na kraju, upoređuje tačnosti svih kreiranih modela i usvaja one veličine za koje model ima najveću tačnost. Očigledno, imajući u vidu na to da metod upoređuje tačnosti konačnog modela, on uzima u obzir i kombinovane uticaje dve ili više veličina na izlaznu.\n",
    "\n",
    "Metod se koristi na način opisan dole. Rezultat metoda su rangovi pojedinačnih veličina i preporuke o usvajanju pojedinačnih veličina za konačni model."
   ]
  },
  {
   "cell_type": "code",
   "execution_count": 14,
   "metadata": {},
   "outputs": [
    {
     "name": "stdout",
     "output_type": "stream",
     "text": [
      "[1 1 3 1 2 4 1]\n",
      "[ True  True False  True False False  True]\n"
     ]
    }
   ],
   "source": [
    "from sklearn.linear_model import LogisticRegression\n",
    "from sklearn.feature_selection import RFE\n",
    "\n",
    "fit = RFE(LogisticRegression(solver='liblinear'), 4).fit(X, y)\n",
    "print(fit.ranking_)\n",
    "print(fit.support_)"
   ]
  },
  {
   "cell_type": "markdown",
   "metadata": {},
   "source": [
    "Kao što je već napomenuto, RFE analiza može da se vrši sa različitim algoritmima, ali ne svim - samo sa onim algoritmima koji imaju coef_ ili feature_importances_ atribute, odnosno one koji se mogu koristiti za analizu izbora veličina. Na primer, to nije slučaj za KNN, GaussianNB, SVC,..\n",
    "\n",
    "Dole je prikazan kod koji iterativno primenjuje RFE za različite izabrane algoritme. Važno je napomenuti da ovaj kod samo ilustruje rad RFE metode. Rezultati ovog testa samo pokazuju relevantnost veličina u kontekstu pojedinačnih algoritama."
   ]
  },
  {
   "cell_type": "code",
   "execution_count": 15,
   "metadata": {},
   "outputs": [
    {
     "name": "stdout",
     "output_type": "stream",
     "text": [
      "[1 1 4 1 3 5 2]\n",
      "[ True  True False  True False False False]\n",
      "[1 1 4 2 3 5 1]\n",
      "[ True  True False False False False  True]\n",
      "[2 1 1 3 4 1 5]\n",
      "[False  True  True False False  True False]\n",
      "[2 1 1 3 4 1 5]\n",
      "[False  True  True False False  True False]\n",
      "[2 1 1 3 5 1 4]\n",
      "[False  True  True False False  True False]\n"
     ]
    }
   ],
   "source": [
    "def getModels():\n",
    "    models = []\n",
    "    from sklearn.linear_model import LogisticRegression\n",
    "    from sklearn.discriminant_analysis import LinearDiscriminantAnalysis\n",
    "    from sklearn.tree import DecisionTreeClassifier\n",
    "    from sklearn.ensemble import RandomForestClassifier, GradientBoostingClassifier\n",
    "    \n",
    "    models.append(('LR', LogisticRegression()))\n",
    "    models.append(('LDA', LinearDiscriminantAnalysis()))\n",
    "    models.append(('CART', DecisionTreeClassifier()))\n",
    "    models.append(('RF', RandomForestClassifier()))\n",
    "    models.append(('GBoost', GradientBoostingClassifier()))\n",
    "    return models\n",
    "\n",
    "def showRFESupport(X,y):\n",
    "    from sklearn.feature_selection import RFE\n",
    "    \n",
    "    models=getModels()\n",
    "    for name, model in models:\n",
    "        fit=RFE(model).fit(X,y)\n",
    "        print(fit.ranking_)\n",
    "        print(fit.support_)\n",
    "        \n",
    "showRFESupport(X,y)"
   ]
  },
  {
   "cell_type": "markdown",
   "metadata": {},
   "source": [
    "Očigledno, svi algoritmi smatraju veličinu pol putnika najvažnijom za predviđanje. Parametarski smatraju klasu putnika najvažnijom; algoritmi zasnovani na stablima odlučivanja i ensemble metodi (koji se zasnivaju na stablima odlučivanja) klasu svrstavaju kao važnu ali ne najvažniju. Takođe, dok cena karte nema nikakav uticaj u parametarskim algoritmima, ona je izuzetno važna za ove druge. Slično je i sa godinama starosti putnika.\n",
    "\n",
    "Ponovo treba naglasiti da je ovo samo ilustracija RFE metode. Ovom prilikom su korišćeni algoritmi bez ikakvih podešavanja."
   ]
  },
  {
   "cell_type": "markdown",
   "metadata": {},
   "source": [
    "## Rezime analize korelacije podataka i izbora veličina"
   ]
  },
  {
   "cell_type": "markdown",
   "metadata": {},
   "source": [
    "Na osnovu svih koraka u analizi korelacije podataka i izbora veličina, možemo sažeti sve rezultate u sledeće tvrdnje.\n",
    "\n",
    "- Nedvosmislen i veliki uticaj na kvalitet modela imaju veličine Sex i Pclass. Ove veličine će biti uzete u obzir u izradi konačnog modela u izvornom obliku.\n",
    "- Postoje indicije da je cena kupljene karte u korelaciji sa verovatnoćom preživljavanja\n",
    "- Starost putnika nema važan uticaj na verovatnoću preživljavanja\n",
    "- Mesto ukrcavanja nema očigledan uticaj na verovatnoću preživljavanja\n",
    "\n",
    "Konačno, metode izbora veličina ukazuju na sledeče:\n",
    "\n",
    "- Veličine Sex i Pclass su važne za sve algoritme i u svakom slučaju ih treba uzeti u obzir.\n",
    "- Ukoliko se kreira model korišćenjem nekog algoritma zasnovanog na stablima odlučivanja, potrebno je svakako uzeti u obzir veličine Fare i Age."
   ]
  }
 ],
 "metadata": {
  "kernelspec": {
   "display_name": "Python 3",
   "language": "python",
   "name": "python3"
  },
  "language_info": {
   "codemirror_mode": {
    "name": "ipython",
    "version": 3
   },
   "file_extension": ".py",
   "mimetype": "text/x-python",
   "name": "python",
   "nbconvert_exporter": "python",
   "pygments_lexer": "ipython3",
   "version": "3.7.7"
  }
 },
 "nbformat": 4,
 "nbformat_minor": 2
}
