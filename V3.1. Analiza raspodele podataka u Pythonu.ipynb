{
 "cells": [
  {
   "cell_type": "markdown",
   "metadata": {},
   "source": [
    "# Analiza raspodele podataka u Pythonu"
   ]
  },
  {
   "cell_type": "markdown",
   "metadata": {},
   "source": [
    "Kao što je već pomenuto, svi ovi podaci jednog skupa podataka su organizovani u tabelarnoj strukturi. Jedna vrsta ove strukture je skup podataka o raznim opažajima (ulazni podatak) i jedan ili više podataka koji se smatraju analizom podataka o opažajima (izlazni podatak). Jedna kolona ove strukture skladišti sve podatke jedne veličine - svi ovi podaci su iste prirode, pa i istog tipa.\n",
    "\n",
    "Za demonstraciju procesa analize podataka u Pythonu koristiće se skup podataka o preživelim putnicima broda Titanik. Ovaj skup sadrži podatke o putnicima broda, odnosno:\n",
    "\n",
    "- ID putnika\n",
    "- Putnik je preživeo ili ne\n",
    "- Klasa u kojoj je putnik smešten\n",
    "- Pol putnika\n",
    "- Starost putnika\n",
    "- Broj putnika u srodstvu u istom kolenu, odnosno u bračnom odnosu (braća, sestre, supružnici)\n",
    "- Broj putnika u srodstvu u prethodnom ili sledećem kolenu (roditelji, deca)\n",
    "- Broj kupljene karte\n",
    "- Cena kupljene karte\n",
    "- Oznaka kabine\n",
    "- Oznaka luke u kojoj je putnik ukrcan"
   ]
  },
  {
   "cell_type": "code",
   "execution_count": 3,
   "metadata": {},
   "outputs": [
    {
     "data": {
      "text/html": [
       "<div>\n",
       "<style scoped>\n",
       "    .dataframe tbody tr th:only-of-type {\n",
       "        vertical-align: middle;\n",
       "    }\n",
       "\n",
       "    .dataframe tbody tr th {\n",
       "        vertical-align: top;\n",
       "    }\n",
       "\n",
       "    .dataframe thead th {\n",
       "        text-align: right;\n",
       "    }\n",
       "</style>\n",
       "<table border=\"1\" class=\"dataframe\">\n",
       "  <thead>\n",
       "    <tr style=\"text-align: right;\">\n",
       "      <th></th>\n",
       "      <th>PassengerId</th>\n",
       "      <th>Survived</th>\n",
       "      <th>Pclass</th>\n",
       "      <th>Name</th>\n",
       "      <th>Sex</th>\n",
       "      <th>Age</th>\n",
       "      <th>SibSp</th>\n",
       "      <th>Parch</th>\n",
       "      <th>Ticket</th>\n",
       "      <th>Fare</th>\n",
       "      <th>Cabin</th>\n",
       "      <th>Embarked</th>\n",
       "    </tr>\n",
       "  </thead>\n",
       "  <tbody>\n",
       "    <tr>\n",
       "      <th>0</th>\n",
       "      <td>1</td>\n",
       "      <td>0</td>\n",
       "      <td>3</td>\n",
       "      <td>Braund, Mr. Owen Harris</td>\n",
       "      <td>male</td>\n",
       "      <td>22.0</td>\n",
       "      <td>1</td>\n",
       "      <td>0</td>\n",
       "      <td>A/5 21171</td>\n",
       "      <td>7.2500</td>\n",
       "      <td>NaN</td>\n",
       "      <td>S</td>\n",
       "    </tr>\n",
       "    <tr>\n",
       "      <th>1</th>\n",
       "      <td>2</td>\n",
       "      <td>1</td>\n",
       "      <td>1</td>\n",
       "      <td>Cumings, Mrs. John Bradley (Florence Briggs Th...</td>\n",
       "      <td>female</td>\n",
       "      <td>38.0</td>\n",
       "      <td>1</td>\n",
       "      <td>0</td>\n",
       "      <td>PC 17599</td>\n",
       "      <td>71.2833</td>\n",
       "      <td>C85</td>\n",
       "      <td>C</td>\n",
       "    </tr>\n",
       "    <tr>\n",
       "      <th>2</th>\n",
       "      <td>3</td>\n",
       "      <td>1</td>\n",
       "      <td>3</td>\n",
       "      <td>Heikkinen, Miss. Laina</td>\n",
       "      <td>female</td>\n",
       "      <td>26.0</td>\n",
       "      <td>0</td>\n",
       "      <td>0</td>\n",
       "      <td>STON/O2. 3101282</td>\n",
       "      <td>7.9250</td>\n",
       "      <td>NaN</td>\n",
       "      <td>S</td>\n",
       "    </tr>\n",
       "    <tr>\n",
       "      <th>3</th>\n",
       "      <td>4</td>\n",
       "      <td>1</td>\n",
       "      <td>1</td>\n",
       "      <td>Futrelle, Mrs. Jacques Heath (Lily May Peel)</td>\n",
       "      <td>female</td>\n",
       "      <td>35.0</td>\n",
       "      <td>1</td>\n",
       "      <td>0</td>\n",
       "      <td>113803</td>\n",
       "      <td>53.1000</td>\n",
       "      <td>C123</td>\n",
       "      <td>S</td>\n",
       "    </tr>\n",
       "    <tr>\n",
       "      <th>4</th>\n",
       "      <td>5</td>\n",
       "      <td>0</td>\n",
       "      <td>3</td>\n",
       "      <td>Allen, Mr. William Henry</td>\n",
       "      <td>male</td>\n",
       "      <td>35.0</td>\n",
       "      <td>0</td>\n",
       "      <td>0</td>\n",
       "      <td>373450</td>\n",
       "      <td>8.0500</td>\n",
       "      <td>NaN</td>\n",
       "      <td>S</td>\n",
       "    </tr>\n",
       "  </tbody>\n",
       "</table>\n",
       "</div>"
      ],
      "text/plain": [
       "   PassengerId  Survived  Pclass  \\\n",
       "0            1         0       3   \n",
       "1            2         1       1   \n",
       "2            3         1       3   \n",
       "3            4         1       1   \n",
       "4            5         0       3   \n",
       "\n",
       "                                                Name     Sex   Age  SibSp  \\\n",
       "0                            Braund, Mr. Owen Harris    male  22.0      1   \n",
       "1  Cumings, Mrs. John Bradley (Florence Briggs Th...  female  38.0      1   \n",
       "2                             Heikkinen, Miss. Laina  female  26.0      0   \n",
       "3       Futrelle, Mrs. Jacques Heath (Lily May Peel)  female  35.0      1   \n",
       "4                           Allen, Mr. William Henry    male  35.0      0   \n",
       "\n",
       "   Parch            Ticket     Fare Cabin Embarked  \n",
       "0      0         A/5 21171   7.2500   NaN        S  \n",
       "1      0          PC 17599  71.2833   C85        C  \n",
       "2      0  STON/O2. 3101282   7.9250   NaN        S  \n",
       "3      0            113803  53.1000  C123        S  \n",
       "4      0            373450   8.0500   NaN        S  "
      ]
     },
     "execution_count": 3,
     "metadata": {},
     "output_type": "execute_result"
    }
   ],
   "source": [
    "import pandas as pd\n",
    "df=pd.read_csv('kurs_titanic_train.csv')\n",
    "df.head()"
   ]
  },
  {
   "cell_type": "markdown",
   "metadata": {},
   "source": [
    "Problem koji je potrebno rešiti je predviđanje verovatnoće preživljavanja ili stradanja putnika, na osnovu poznatih podataka. Pošto izlazna veličina sadrži samo dve moguće vrednosti, ovo je problem binarne klasifikacije.\n",
    "\n",
    "Analiza podataka se generalno svodi na tri grupe razmatranja. Svaka od ovih grupa razmatranja može da rezultuje zaključcima koji mogu da ukažu na primenu odgovarajućih metoda pripreme podataka kojima se može poboljšati tačnost modela ili performanse učenja.\n",
    "\n",
    "1. Analiza tipova podataka\n",
    "    Ukazuje na moguće eksplicitno definisanje tipova pojedinačnih veličina\n",
    "2. Statistička analiza individualnih veličina\n",
    "    Ukazuje na moguće primene metode skaliranja podataka ili logaritamske transformacije\n",
    "3. Analiza korelacije\n",
    "    Ukazuje na izbor veličina koje imaju uticaj na vrednost izlaznih veličina, odnosno tačnost predviđanja\n",
    "4. Izbor/selekcija veličina\n",
    "    Sami algoritmi se koriste da procene relevantnost veličina za tačnost predviđanja."
   ]
  },
  {
   "cell_type": "markdown",
   "metadata": {},
   "source": [
    "## Vrste podataka u jednom skupu i opšte karakteristike skupa"
   ]
  },
  {
   "cell_type": "markdown",
   "metadata": {},
   "source": [
    "Kao što se gore i vidi, u jednom skupu podataka mogu da postoje veličine različitih tipova. Podatak može da bude ceo broj, realan broj, tekst, datum, kategorija (ukoliko postoji poznat konačan broj mogućih vrednosti neke veličine, koje mogu da budu različitih tipova), nedostajuća vrednost (NaN). Prilikom učitavanja skupa podataka, Python automatski procenjuje tipove podataka različitih veličina tog skupa.\n",
    "\n",
    "Prvi uvid u podatke koji su učitani u DataFrame strukturu se može dobiti analizom rezultata izvršenja funkcije info() tog DataFrame-a. Tim uvidom se utvrđuju dva elementa, važna za dalje tumačenje i kasnije, pripremu podataka: tipovi podataka u skupu i prisustvo nedostajućih vrednosti."
   ]
  },
  {
   "cell_type": "code",
   "execution_count": 2,
   "metadata": {},
   "outputs": [
    {
     "name": "stdout",
     "output_type": "stream",
     "text": [
      "<class 'pandas.core.frame.DataFrame'>\n",
      "RangeIndex: 891 entries, 0 to 890\n",
      "Data columns (total 12 columns):\n",
      "PassengerId    891 non-null int64\n",
      "Survived       891 non-null int64\n",
      "Pclass         891 non-null int64\n",
      "Name           891 non-null object\n",
      "Sex            891 non-null object\n",
      "Age            714 non-null float64\n",
      "SibSp          891 non-null int64\n",
      "Parch          891 non-null int64\n",
      "Ticket         891 non-null object\n",
      "Fare           891 non-null float64\n",
      "Cabin          204 non-null object\n",
      "Embarked       889 non-null object\n",
      "dtypes: float64(2), int64(5), object(5)\n",
      "memory usage: 83.6+ KB\n"
     ]
    }
   ],
   "source": [
    "df.info()"
   ]
  },
  {
   "cell_type": "markdown",
   "metadata": {},
   "source": [
    "Uočene karakteristike skupa i pojedinačnih podataka:\n",
    "\n",
    "- U skupu postoji 891 vrsta\n",
    "- Neki podaci nedostaju. Podatak o godinama starosti postoji samo za 714 putnika. Postoji veoma malo podataka (204) o broju kabine za pojedinačne putnike.\n",
    "- Veličine: cena karte i godine starosti su realni brojevi (float). Ostale veličine sadrže cele brojeve (int) ili tekst (object).\n",
    "\n",
    "Očigledno je da neke veličine nisu odgovarajućeg tipa. Na primer, veličina Survived može da sadrži samo podatke 0 ili 1, što znači da je ona tipa kategorije, kao i veličina Sex, koja ukazuje na pol putnika.\n",
    "\n",
    "Postoji sumnja da je to slučaj i za veličinu Embarked. Ova sumnja se može ispitati navođenje svih vrednosti koje se pojavljuju u koloni sa podacima ove veličine, pri čemu možemo uočiti i broj pojavljivanja svake od tih vrednosti, odnosno njihovu raspodelu."
   ]
  },
  {
   "cell_type": "code",
   "execution_count": 3,
   "metadata": {},
   "outputs": [
    {
     "data": {
      "text/plain": [
       "Embarked\n",
       "C    168\n",
       "Q     77\n",
       "S    644\n",
       "dtype: int64"
      ]
     },
     "execution_count": 3,
     "metadata": {},
     "output_type": "execute_result"
    }
   ],
   "source": [
    "df.groupby('Embarked').size()"
   ]
  },
  {
   "cell_type": "markdown",
   "metadata": {},
   "source": [
    "Dole je navedena analiza pojavljivanja različitih vrednosti veličine Pclass."
   ]
  },
  {
   "cell_type": "code",
   "execution_count": 4,
   "metadata": {},
   "outputs": [
    {
     "data": {
      "text/plain": [
       "Pclass\n",
       "1    216\n",
       "2    184\n",
       "3    491\n",
       "dtype: int64"
      ]
     },
     "execution_count": 4,
     "metadata": {},
     "output_type": "execute_result"
    }
   ],
   "source": [
    "df.groupby('Pclass').size()"
   ]
  },
  {
   "cell_type": "markdown",
   "metadata": {},
   "source": [
    "S obzirom na to da postoje samo tri moguće vrednosti, moglo bi se reći da je ovo nominalna veličina. Ipak, to nije slučaj, iako se i dalje radi o veličini kategorije. Naime, pored nominalnih veličina tipa kategorije, postoje i ordinalne veličine. Ordinalne veličine takođe mogu da imaju samo konačan broj vrednosti, ali redosled tih vrednosti ima značaj, što nije slučaj sa nominalnim. Zbog toga, ordinalne veličine se uobičajeno u modelima predstavljaju tipom celobrojnih vrednosti."
   ]
  },
  {
   "cell_type": "markdown",
   "metadata": {},
   "source": [
    "### Prvi koraci u pripremi podataka"
   ]
  },
  {
   "cell_type": "markdown",
   "metadata": {},
   "source": [
    "Iako veličina Age sadrži cele brojeve, ona je prepoznata kao float (realni brojevi). Razlog za to je prisustvo nedostajućih vrednosti. Veličina tipa int ne može da sadrži nedostajuće vrednosti."
   ]
  },
  {
   "cell_type": "markdown",
   "metadata": {},
   "source": [
    "Iako promena tipova ne predstavlja sastavni deo analize podataka, već njihove pripreme, radi konzistentnosti analize tipovi će biti promenjeni u odgovarajuće."
   ]
  },
  {
   "cell_type": "code",
   "execution_count": 5,
   "metadata": {},
   "outputs": [],
   "source": [
    "df['Survived']=df['Survived'].astype('category')\n",
    "df['Sex']=df['Sex'].astype('category')\n",
    "df['Embarked']=df['Embarked'].astype('category')"
   ]
  },
  {
   "cell_type": "markdown",
   "metadata": {},
   "source": [
    "Iako uklanjanje kolona zbog nerelevantnosti veličina ne predstavlja sastavni deo analize podataka, već njihove pripreme, radi konzistentnosti analize biće obrisana veličina PassengerId."
   ]
  },
  {
   "cell_type": "code",
   "execution_count": 6,
   "metadata": {},
   "outputs": [],
   "source": [
    "df=df.drop('PassengerId',1)"
   ]
  },
  {
   "cell_type": "markdown",
   "metadata": {},
   "source": [
    "## Analiza raspodele pojedinačnih veličina "
   ]
  },
  {
   "cell_type": "markdown",
   "metadata": {},
   "source": [
    "### Raspodela vrednosti izlazne veličine i referentna tačnost"
   ]
  },
  {
   "cell_type": "markdown",
   "metadata": {},
   "source": [
    "Prilikom analize podataka, veoma je važno proceniti raspodelu vrednosti izlazne veličine."
   ]
  },
  {
   "cell_type": "code",
   "execution_count": 7,
   "metadata": {},
   "outputs": [
    {
     "data": {
      "text/plain": [
       "Survived\n",
       "0    549\n",
       "1    342\n",
       "dtype: int64"
      ]
     },
     "execution_count": 7,
     "metadata": {},
     "output_type": "execute_result"
    }
   ],
   "source": [
    "df.groupby('Survived').size()"
   ]
  },
  {
   "cell_type": "markdown",
   "metadata": {},
   "source": [
    "Iz rezultata gore se vidi da u skupu podataka postoji veći broj onih koji nisu preživeli nesreću. \n",
    "\n",
    "Intuitivno, za problem binarne klasifikacije se često pretpostavlja da je verovatnoća slučajnog pogađanja 50%. Da bi procenili minimalnu verovatnoću predviđanja klasifikacije, potrebno je prvo da utvrdimo raspodelu vrednosti izlazne veličine. Ukoliko je ona potpuno ravnomerna (na primer, 50% putnika u skupu podataka je stradalo, a 50% - preživelo), verovatnoća predviđanja bi bila jednaka verovatnoći slučajnog pogađanja.\n",
    "\n",
    "Pošto raspodela u ovom slučaju nije ravnomerna, umesto slučajnog pogađanja, uspešnije pogađanje bi bilo da uvek pretpostavimo da putnik nije preživeo. U tom slučaju verovatnoća da je naše pogađanje tačno bi bila:"
   ]
  },
  {
   "cell_type": "code",
   "execution_count": 8,
   "metadata": {},
   "outputs": [
    {
     "name": "stdout",
     "output_type": "stream",
     "text": [
      "0.6161616161616161\n"
     ]
    }
   ],
   "source": [
    "stradalih=df.groupby('Survived').size()[0]\n",
    "prezivelih=df.groupby('Survived').size()[1]\n",
    "print(stradalih/(stradalih+prezivelih))"
   ]
  },
  {
   "cell_type": "markdown",
   "metadata": {},
   "source": [
    "Ovu vrednost nazivamo referentnom tačnošću modela. Tokom postupka izrade modela mašinskog učenja, biće ispitane razne kombinacije algoritama i njihovih podešavanja, grupa korišćenih veličina itd. Sve procene tačnosti veće od 0.61 znače da je novi model bolji od referentnog."
   ]
  },
  {
   "cell_type": "markdown",
   "metadata": {},
   "source": [
    "### Osnovni statistički parametri pojedinačnih veličina - raspodela veličina"
   ]
  },
  {
   "cell_type": "markdown",
   "metadata": {},
   "source": [
    "Korišćenjem funkcije describe() DataFrame strukture, moguće je steći uvid u osnovne statističke atribute njegovih pojedinačnih veličina. Podrazumevano se prikazuju atributi veličina tipa int ili float (ukoliko postoje, nedostajuće vrednosti se ne uzimaju u obzir). Osnovni statistički atributi su:\n",
    "\n",
    "- Broj podataka\n",
    "- Srednja vrednost - definiše vrednost koncentracije grupe vrednosti\n",
    "- Standardna devijacija - definiše varijabilnost ili disperziju grupe vrednosti. Manja standardna devijacija znači veću koncentraciju, a veća - raspršenost vrednosti u skupu podataka\n",
    "- Minimalna vrednost\n",
    "- Prva kvartila (25%, Q1) - srednja vrednost svih podataka između medijane i minimalne vrednosti\n",
    "- Druga kvartila (50%, Q2) - medijana\n",
    "- Treća kvartila (75%, Q3) - srednja vrednost svih podataka između medijane i maksimalne vrednosti"
   ]
  },
  {
   "cell_type": "code",
   "execution_count": 9,
   "metadata": {},
   "outputs": [
    {
     "data": {
      "text/html": [
       "<div>\n",
       "<style scoped>\n",
       "    .dataframe tbody tr th:only-of-type {\n",
       "        vertical-align: middle;\n",
       "    }\n",
       "\n",
       "    .dataframe tbody tr th {\n",
       "        vertical-align: top;\n",
       "    }\n",
       "\n",
       "    .dataframe thead th {\n",
       "        text-align: right;\n",
       "    }\n",
       "</style>\n",
       "<table border=\"1\" class=\"dataframe\">\n",
       "  <thead>\n",
       "    <tr style=\"text-align: right;\">\n",
       "      <th></th>\n",
       "      <th>Pclass</th>\n",
       "      <th>Age</th>\n",
       "      <th>SibSp</th>\n",
       "      <th>Parch</th>\n",
       "      <th>Fare</th>\n",
       "    </tr>\n",
       "  </thead>\n",
       "  <tbody>\n",
       "    <tr>\n",
       "      <th>count</th>\n",
       "      <td>891.000000</td>\n",
       "      <td>714.000000</td>\n",
       "      <td>891.000000</td>\n",
       "      <td>891.000000</td>\n",
       "      <td>891.000000</td>\n",
       "    </tr>\n",
       "    <tr>\n",
       "      <th>mean</th>\n",
       "      <td>2.308642</td>\n",
       "      <td>29.699118</td>\n",
       "      <td>0.523008</td>\n",
       "      <td>0.381594</td>\n",
       "      <td>32.204208</td>\n",
       "    </tr>\n",
       "    <tr>\n",
       "      <th>std</th>\n",
       "      <td>0.836071</td>\n",
       "      <td>14.526497</td>\n",
       "      <td>1.102743</td>\n",
       "      <td>0.806057</td>\n",
       "      <td>49.693429</td>\n",
       "    </tr>\n",
       "    <tr>\n",
       "      <th>min</th>\n",
       "      <td>1.000000</td>\n",
       "      <td>0.420000</td>\n",
       "      <td>0.000000</td>\n",
       "      <td>0.000000</td>\n",
       "      <td>0.000000</td>\n",
       "    </tr>\n",
       "    <tr>\n",
       "      <th>25%</th>\n",
       "      <td>2.000000</td>\n",
       "      <td>20.125000</td>\n",
       "      <td>0.000000</td>\n",
       "      <td>0.000000</td>\n",
       "      <td>7.910400</td>\n",
       "    </tr>\n",
       "    <tr>\n",
       "      <th>50%</th>\n",
       "      <td>3.000000</td>\n",
       "      <td>28.000000</td>\n",
       "      <td>0.000000</td>\n",
       "      <td>0.000000</td>\n",
       "      <td>14.454200</td>\n",
       "    </tr>\n",
       "    <tr>\n",
       "      <th>75%</th>\n",
       "      <td>3.000000</td>\n",
       "      <td>38.000000</td>\n",
       "      <td>1.000000</td>\n",
       "      <td>0.000000</td>\n",
       "      <td>31.000000</td>\n",
       "    </tr>\n",
       "    <tr>\n",
       "      <th>max</th>\n",
       "      <td>3.000000</td>\n",
       "      <td>80.000000</td>\n",
       "      <td>8.000000</td>\n",
       "      <td>6.000000</td>\n",
       "      <td>512.329200</td>\n",
       "    </tr>\n",
       "  </tbody>\n",
       "</table>\n",
       "</div>"
      ],
      "text/plain": [
       "           Pclass         Age       SibSp       Parch        Fare\n",
       "count  891.000000  714.000000  891.000000  891.000000  891.000000\n",
       "mean     2.308642   29.699118    0.523008    0.381594   32.204208\n",
       "std      0.836071   14.526497    1.102743    0.806057   49.693429\n",
       "min      1.000000    0.420000    0.000000    0.000000    0.000000\n",
       "25%      2.000000   20.125000    0.000000    0.000000    7.910400\n",
       "50%      3.000000   28.000000    0.000000    0.000000   14.454200\n",
       "75%      3.000000   38.000000    1.000000    0.000000   31.000000\n",
       "max      3.000000   80.000000    8.000000    6.000000  512.329200"
      ]
     },
     "execution_count": 9,
     "metadata": {},
     "output_type": "execute_result"
    }
   ],
   "source": [
    "df.describe()"
   ]
  },
  {
   "cell_type": "markdown",
   "metadata": {},
   "source": [
    "Za prikaz svih parametara i to svih veličina, koristi se sledeći oblik funkcije describe."
   ]
  },
  {
   "cell_type": "code",
   "execution_count": 10,
   "metadata": {},
   "outputs": [
    {
     "data": {
      "text/html": [
       "<div>\n",
       "<style scoped>\n",
       "    .dataframe tbody tr th:only-of-type {\n",
       "        vertical-align: middle;\n",
       "    }\n",
       "\n",
       "    .dataframe tbody tr th {\n",
       "        vertical-align: top;\n",
       "    }\n",
       "\n",
       "    .dataframe thead th {\n",
       "        text-align: right;\n",
       "    }\n",
       "</style>\n",
       "<table border=\"1\" class=\"dataframe\">\n",
       "  <thead>\n",
       "    <tr style=\"text-align: right;\">\n",
       "      <th></th>\n",
       "      <th>Survived</th>\n",
       "      <th>Pclass</th>\n",
       "      <th>Name</th>\n",
       "      <th>Sex</th>\n",
       "      <th>Age</th>\n",
       "      <th>SibSp</th>\n",
       "      <th>Parch</th>\n",
       "      <th>Ticket</th>\n",
       "      <th>Fare</th>\n",
       "      <th>Cabin</th>\n",
       "      <th>Embarked</th>\n",
       "    </tr>\n",
       "  </thead>\n",
       "  <tbody>\n",
       "    <tr>\n",
       "      <th>count</th>\n",
       "      <td>891.0</td>\n",
       "      <td>891.000000</td>\n",
       "      <td>891</td>\n",
       "      <td>891</td>\n",
       "      <td>714.000000</td>\n",
       "      <td>891.000000</td>\n",
       "      <td>891.000000</td>\n",
       "      <td>891</td>\n",
       "      <td>891.000000</td>\n",
       "      <td>204</td>\n",
       "      <td>889</td>\n",
       "    </tr>\n",
       "    <tr>\n",
       "      <th>unique</th>\n",
       "      <td>2.0</td>\n",
       "      <td>NaN</td>\n",
       "      <td>891</td>\n",
       "      <td>2</td>\n",
       "      <td>NaN</td>\n",
       "      <td>NaN</td>\n",
       "      <td>NaN</td>\n",
       "      <td>681</td>\n",
       "      <td>NaN</td>\n",
       "      <td>147</td>\n",
       "      <td>3</td>\n",
       "    </tr>\n",
       "    <tr>\n",
       "      <th>top</th>\n",
       "      <td>0.0</td>\n",
       "      <td>NaN</td>\n",
       "      <td>Thayer, Mr. John Borland</td>\n",
       "      <td>male</td>\n",
       "      <td>NaN</td>\n",
       "      <td>NaN</td>\n",
       "      <td>NaN</td>\n",
       "      <td>CA. 2343</td>\n",
       "      <td>NaN</td>\n",
       "      <td>C23 C25 C27</td>\n",
       "      <td>S</td>\n",
       "    </tr>\n",
       "    <tr>\n",
       "      <th>freq</th>\n",
       "      <td>549.0</td>\n",
       "      <td>NaN</td>\n",
       "      <td>1</td>\n",
       "      <td>577</td>\n",
       "      <td>NaN</td>\n",
       "      <td>NaN</td>\n",
       "      <td>NaN</td>\n",
       "      <td>7</td>\n",
       "      <td>NaN</td>\n",
       "      <td>4</td>\n",
       "      <td>644</td>\n",
       "    </tr>\n",
       "    <tr>\n",
       "      <th>mean</th>\n",
       "      <td>NaN</td>\n",
       "      <td>2.308642</td>\n",
       "      <td>NaN</td>\n",
       "      <td>NaN</td>\n",
       "      <td>29.699118</td>\n",
       "      <td>0.523008</td>\n",
       "      <td>0.381594</td>\n",
       "      <td>NaN</td>\n",
       "      <td>32.204208</td>\n",
       "      <td>NaN</td>\n",
       "      <td>NaN</td>\n",
       "    </tr>\n",
       "    <tr>\n",
       "      <th>std</th>\n",
       "      <td>NaN</td>\n",
       "      <td>0.836071</td>\n",
       "      <td>NaN</td>\n",
       "      <td>NaN</td>\n",
       "      <td>14.526497</td>\n",
       "      <td>1.102743</td>\n",
       "      <td>0.806057</td>\n",
       "      <td>NaN</td>\n",
       "      <td>49.693429</td>\n",
       "      <td>NaN</td>\n",
       "      <td>NaN</td>\n",
       "    </tr>\n",
       "    <tr>\n",
       "      <th>min</th>\n",
       "      <td>NaN</td>\n",
       "      <td>1.000000</td>\n",
       "      <td>NaN</td>\n",
       "      <td>NaN</td>\n",
       "      <td>0.420000</td>\n",
       "      <td>0.000000</td>\n",
       "      <td>0.000000</td>\n",
       "      <td>NaN</td>\n",
       "      <td>0.000000</td>\n",
       "      <td>NaN</td>\n",
       "      <td>NaN</td>\n",
       "    </tr>\n",
       "    <tr>\n",
       "      <th>25%</th>\n",
       "      <td>NaN</td>\n",
       "      <td>2.000000</td>\n",
       "      <td>NaN</td>\n",
       "      <td>NaN</td>\n",
       "      <td>20.125000</td>\n",
       "      <td>0.000000</td>\n",
       "      <td>0.000000</td>\n",
       "      <td>NaN</td>\n",
       "      <td>7.910400</td>\n",
       "      <td>NaN</td>\n",
       "      <td>NaN</td>\n",
       "    </tr>\n",
       "    <tr>\n",
       "      <th>50%</th>\n",
       "      <td>NaN</td>\n",
       "      <td>3.000000</td>\n",
       "      <td>NaN</td>\n",
       "      <td>NaN</td>\n",
       "      <td>28.000000</td>\n",
       "      <td>0.000000</td>\n",
       "      <td>0.000000</td>\n",
       "      <td>NaN</td>\n",
       "      <td>14.454200</td>\n",
       "      <td>NaN</td>\n",
       "      <td>NaN</td>\n",
       "    </tr>\n",
       "    <tr>\n",
       "      <th>75%</th>\n",
       "      <td>NaN</td>\n",
       "      <td>3.000000</td>\n",
       "      <td>NaN</td>\n",
       "      <td>NaN</td>\n",
       "      <td>38.000000</td>\n",
       "      <td>1.000000</td>\n",
       "      <td>0.000000</td>\n",
       "      <td>NaN</td>\n",
       "      <td>31.000000</td>\n",
       "      <td>NaN</td>\n",
       "      <td>NaN</td>\n",
       "    </tr>\n",
       "    <tr>\n",
       "      <th>max</th>\n",
       "      <td>NaN</td>\n",
       "      <td>3.000000</td>\n",
       "      <td>NaN</td>\n",
       "      <td>NaN</td>\n",
       "      <td>80.000000</td>\n",
       "      <td>8.000000</td>\n",
       "      <td>6.000000</td>\n",
       "      <td>NaN</td>\n",
       "      <td>512.329200</td>\n",
       "      <td>NaN</td>\n",
       "      <td>NaN</td>\n",
       "    </tr>\n",
       "  </tbody>\n",
       "</table>\n",
       "</div>"
      ],
      "text/plain": [
       "        Survived      Pclass                      Name   Sex         Age  \\\n",
       "count      891.0  891.000000                       891   891  714.000000   \n",
       "unique       2.0         NaN                       891     2         NaN   \n",
       "top          0.0         NaN  Thayer, Mr. John Borland  male         NaN   \n",
       "freq       549.0         NaN                         1   577         NaN   \n",
       "mean         NaN    2.308642                       NaN   NaN   29.699118   \n",
       "std          NaN    0.836071                       NaN   NaN   14.526497   \n",
       "min          NaN    1.000000                       NaN   NaN    0.420000   \n",
       "25%          NaN    2.000000                       NaN   NaN   20.125000   \n",
       "50%          NaN    3.000000                       NaN   NaN   28.000000   \n",
       "75%          NaN    3.000000                       NaN   NaN   38.000000   \n",
       "max          NaN    3.000000                       NaN   NaN   80.000000   \n",
       "\n",
       "             SibSp       Parch    Ticket        Fare        Cabin Embarked  \n",
       "count   891.000000  891.000000       891  891.000000          204      889  \n",
       "unique         NaN         NaN       681         NaN          147        3  \n",
       "top            NaN         NaN  CA. 2343         NaN  C23 C25 C27        S  \n",
       "freq           NaN         NaN         7         NaN            4      644  \n",
       "mean      0.523008    0.381594       NaN   32.204208          NaN      NaN  \n",
       "std       1.102743    0.806057       NaN   49.693429          NaN      NaN  \n",
       "min       0.000000    0.000000       NaN    0.000000          NaN      NaN  \n",
       "25%       0.000000    0.000000       NaN    7.910400          NaN      NaN  \n",
       "50%       0.000000    0.000000       NaN   14.454200          NaN      NaN  \n",
       "75%       1.000000    0.000000       NaN   31.000000          NaN      NaN  \n",
       "max       8.000000    6.000000       NaN  512.329200          NaN      NaN  "
      ]
     },
     "execution_count": 10,
     "metadata": {},
     "output_type": "execute_result"
    }
   ],
   "source": [
    "df.describe(include='all')"
   ]
  },
  {
   "cell_type": "markdown",
   "metadata": {},
   "source": [
    "Moguće je instrukciju describe koristiti i za prikaz osnovnih statističkih atributa pojedinačnih veličina."
   ]
  },
  {
   "cell_type": "code",
   "execution_count": 11,
   "metadata": {},
   "outputs": [
    {
     "data": {
      "text/plain": [
       "count    891.000000\n",
       "mean       2.308642\n",
       "std        0.836071\n",
       "min        1.000000\n",
       "25%        2.000000\n",
       "50%        3.000000\n",
       "75%        3.000000\n",
       "max        3.000000\n",
       "Name: Pclass, dtype: float64"
      ]
     },
     "execution_count": 11,
     "metadata": {},
     "output_type": "execute_result"
    }
   ],
   "source": [
    "df.Pclass.describe()"
   ]
  },
  {
   "cell_type": "markdown",
   "metadata": {},
   "source": [
    "Konačno, moguće je prikazati i pojedinačne statističke atribute pojedinačnih veličina. Ovo je posebno značajno za veličine tipa kategorija. Naime, pored mogućih vrednosti i raspodele, njihov najznačajniji atribut je medijana - vrednost sa najvećim brojem pojavljivanja u skupu podataka (za nominalne veličine, nijedan od gore navedenih atributa nije relevantan)."
   ]
  },
  {
   "cell_type": "code",
   "execution_count": 12,
   "metadata": {},
   "outputs": [
    {
     "name": "stdout",
     "output_type": "stream",
     "text": [
      "3.0\n"
     ]
    }
   ],
   "source": [
    "import numpy as np\n",
    "print(np.median(df['Pclass']))"
   ]
  },
  {
   "cell_type": "markdown",
   "metadata": {},
   "source": [
    "### Opsezi i raspodele vrednosti pojedinačnih veličina"
   ]
  },
  {
   "cell_type": "markdown",
   "metadata": {},
   "source": [
    "Važna moguća zapažanja na osnovu uvida u vrednosti statističkih atributa su opsezi i raspodele vrednosti pojedinačnih veličina. \n",
    "\n",
    "Prvo, jedan od aspekata pripreme podataka su i postupci normalizacije ili standardizacije. Oni se primenjuju radi svođenja vrednosti jedne veličine u interval (0,1) ili (-1,1). Na ovaj način, značajno se može unaprediti brzina rada nekih od algoritama (postupak učenja može da traje dugo ukoliko ima mnogo podataka), dok se kod drugih dovođenje svih veličina u isti opseg vezuje i za znatno poboljšanu tačnost (npr. kod algoritama koji se zasnivaju na sličnosti - kNN). Odluka o tome koje veličine treba normalizovati ili standardizovati se donosi u ovoj fazi - prilikom analize statističkih atributa.\n",
    "\n",
    "Drugo, ne vezano za interval u kojem se vrednosti neke veličine menjaju, vrsta raspodele u njemu ima potencijalno veliki uticaj na tačnost nekih algoritama. Na primer, parametarski algoritmi su izuzetno uspešni sa normalnom raspodelom. Normalna ili Gausova raspodela ima oblik zvona i česta je u prirodi - godine starosti, prihod, težina, visina. Upravo zbog njenog čestog pojavljivanja, smatra se dobrom aproksimacijom onda kada nam ona nije poznata (imamo samo uzorak podataka o nekoj pojavi u prirodi).\n",
    "\n",
    "Dole je prikazan primer normalne distribucije. Kod za prikaz ovog dijagrama nije deo vežbe, već se koristi samo za ilustraciju normalne raspodele."
   ]
  },
  {
   "cell_type": "code",
   "execution_count": 13,
   "metadata": {},
   "outputs": [
    {
     "data": {
      "image/png": "[encoded data removed]",
      "text/plain": [
       "<Figure size 432x288 with 1 Axes>"
      ]
     },
     "metadata": {},
     "output_type": "display_data"
    }
   ],
   "source": [
    "%matplotlib inline\n",
    "import matplotlib.pyplot as plt\n",
    "values= np.random.normal(90,2, 10000)\n",
    "plt.hist(values,50)\n",
    "plt.show()"
   ]
  },
  {
   "cell_type": "markdown",
   "metadata": {},
   "source": [
    "Druga raspodela koja se često pojavljuje u prirodi je eksponencijalna (ili eksponencijalna kumulativna) distribucija. Iako ona nije poželjna kod parametarskih algoritama, ona se može transformisati u normalnu korišćenjem logaritamske transformacije podataka te veličine. Odnosno, adekvatnom pripremom podataka se može dobiti nova veličina čija će raspodela biti normalna.\n",
    "\n",
    "Dole je prikazan primer eksponencijalne raspodele. Kod za prikaz ovog dijagrama nije deo vežbe, već se koristi samo za ilustraciju eksponencijalne raspodele."
   ]
  },
  {
   "cell_type": "code",
   "execution_count": 14,
   "metadata": {},
   "outputs": [
    {
     "data": {
      "image/png": "[encoded data removed]",
      "text/plain": [
       "<Figure size 432x288 with 1 Axes>"
      ]
     },
     "metadata": {},
     "output_type": "display_data"
    }
   ],
   "source": [
    "values= np.random.exponential(0.01, 10000)\n",
    "plt.hist(values)\n",
    "plt.show()"
   ]
  },
  {
   "cell_type": "markdown",
   "metadata": {},
   "source": [
    "Analiza raspodele ima smisla samo za veličine numeričkog tipa, odnosno cele i realne brojeve.\n",
    "\n",
    "Normalna raspodela se može delimično uočiti iz prikaza osnovnih statističkih atributa, jer je potreban (ali ne i dovoljan) uslov za nju jednakost srednje vrednosti i medijane.\n",
    "\n",
    "- Kod veličine Age, mean=29.7, a median (50%)=28. Zaključujemo da je raspodela godina starosti veoma bliska normalnoj.\n",
    "- Kod veličine Fare, mean=32.2, a median=14.4. Zaključujemo da raspodela cene karata nije bliska normalnoj. Ipak, moguće je da ova raspodela eksponencijalna."
   ]
  },
  {
   "cell_type": "markdown",
   "metadata": {},
   "source": [
    "Još jedan način za nedvosmisleno određivanje bliskosti raspodele vrednosti neke veličine normalnoj je i analiza zakošenosti veličina. Vrednosti zakošenosti bliske nuli ukazuju na normalnu raspodelu. Ukoliko su vrednosti veće od nule, postoji zakošenost ka levoj strani raspodele. Veće vrednosti zakošenosti ukazuju na moguću eksponencijalnu raspodelu podataka."
   ]
  },
  {
   "cell_type": "code",
   "execution_count": 15,
   "metadata": {},
   "outputs": [
    {
     "data": {
      "text/plain": [
       "Survived    0.478523\n",
       "Pclass     -0.630548\n",
       "Age         0.389108\n",
       "SibSp       3.695352\n",
       "Parch       2.749117\n",
       "Fare        4.787317\n",
       "dtype: float64"
      ]
     },
     "execution_count": 15,
     "metadata": {},
     "output_type": "execute_result"
    }
   ],
   "source": [
    "df.skew()"
   ]
  },
  {
   "cell_type": "markdown",
   "metadata": {},
   "source": [
    "### Histogrami"
   ]
  },
  {
   "cell_type": "markdown",
   "metadata": {},
   "source": [
    "Poslednji i najilustrativniji način za određivanje raspodele vrednosti pojedinačnih veličina su histogrami - dijagrami distribucije numeričkih podataka. Histogrami za sve numeričke veličine se prikazuju pozivanjem metode hist() DataFrame objekta."
   ]
  },
  {
   "cell_type": "code",
   "execution_count": 16,
   "metadata": {},
   "outputs": [
    {
     "data": {
      "text/plain": [
       "array([[<matplotlib.axes._subplots.AxesSubplot object at 0x00000230AE27C3C8>,\n",
       "        <matplotlib.axes._subplots.AxesSubplot object at 0x00000230AE2A8BA8>],\n",
       "       [<matplotlib.axes._subplots.AxesSubplot object at 0x00000230AE2D9278>,\n",
       "        <matplotlib.axes._subplots.AxesSubplot object at 0x00000230AE301908>],\n",
       "       [<matplotlib.axes._subplots.AxesSubplot object at 0x00000230AE329F98>,\n",
       "        <matplotlib.axes._subplots.AxesSubplot object at 0x00000230AE329FD0>]],\n",
       "      dtype=object)"
      ]
     },
     "execution_count": 16,
     "metadata": {},
     "output_type": "execute_result"
    },
    {
     "data": {
      "image/png": "[encoded data removed]",
      "text/plain": [
       "<Figure size 432x288 with 6 Axes>"
      ]
     },
     "metadata": {},
     "output_type": "display_data"
    }
   ],
   "source": [
    "df.hist()"
   ]
  },
  {
   "cell_type": "markdown",
   "metadata": {},
   "source": [
    "Prikaz histograma za pojedinačne, izabrane veličine u DataFrame objektu se vrši na sledeći način."
   ]
  },
  {
   "cell_type": "code",
   "execution_count": 17,
   "metadata": {},
   "outputs": [
    {
     "data": {
      "text/plain": [
       "<matplotlib.axes._subplots.AxesSubplot at 0x230ae46d3c8>"
      ]
     },
     "execution_count": 17,
     "metadata": {},
     "output_type": "execute_result"
    },
    {
     "data": {
      "image/png": "[encoded data removed]",
      "text/plain": [
       "<Figure size 432x288 with 1 Axes>"
      ]
     },
     "metadata": {},
     "output_type": "display_data"
    }
   ],
   "source": [
    "df['Age'].hist()"
   ]
  },
  {
   "cell_type": "code",
   "execution_count": 18,
   "metadata": {},
   "outputs": [
    {
     "data": {
      "text/plain": [
       "<matplotlib.axes._subplots.AxesSubplot at 0x230ae4eb6a0>"
      ]
     },
     "execution_count": 18,
     "metadata": {},
     "output_type": "execute_result"
    },
    {
     "data": {
      "image/png": "[encoded data removed]",
      "text/plain": [
       "<Figure size 432x288 with 1 Axes>"
      ]
     },
     "metadata": {},
     "output_type": "display_data"
    }
   ],
   "source": [
    "df['Fare'].hist()"
   ]
  },
  {
   "cell_type": "markdown",
   "metadata": {},
   "source": [
    "Zaključujemo konačno da veličinu Age karakteriše normalna (ili bliska normalnoj) distribucija, a veličinu Fare - eksponencijalna."
   ]
  },
  {
   "cell_type": "markdown",
   "metadata": {},
   "source": [
    "### Kutijasti (box and whiskers) dijagrami"
   ]
  },
  {
   "cell_type": "markdown",
   "metadata": {},
   "source": [
    "Kutijasti dijagrami se koriste za vizuelizaciju varijabilnosti ili raspršenosti podataka u okviru jedne veličine. Svi kutijasti dijagrami numeričkih veličina su prikazani dole. Za prikaz dijagrama se koristi plot funkcija DataFrame strukture koja koristi prethodno uvezeni matplotlib paket. \n",
    "\n",
    "Na sličan način, plot komanda se može koristiti i za prikaz drugih vrsta dijagrama, npr. histograma (kind='hist'), dijagrama raspršenosti (kind='scatter') i drugih. Parametar subplots=True ukazuje na prikaz posebnih dijagrama za sve veličine, zbor njihovih različitih opsega.\n",
    "\n",
    "Objašnjenje dijagrama:\n",
    "- Donja ivica kutije je Q1 (25%) tačka - prva kvartila.\n",
    "- Gornja ivica kutije je Q3 (75%) tačka - treća kvartila\n",
    "- Crta unutar kutije je Q2 (50%, medijana) tačka, odnosno druga kvartila\n",
    "- Donja tačka pune linije je Q1-1.5*IQR, gornja je Q1+1.5*IQR\n",
    "    - IQR - Interquartile range \n",
    "- Praznim kružićima se obeležavaju autlajeri (outliers) - ekstremne vrednosti"
   ]
  },
  {
   "cell_type": "code",
   "execution_count": 19,
   "metadata": {},
   "outputs": [
    {
     "data": {
      "text/plain": [
       "Pclass       AxesSubplot(0.125,0.125;0.133621x0.755)\n",
       "Age       AxesSubplot(0.285345,0.125;0.133621x0.755)\n",
       "SibSp      AxesSubplot(0.44569,0.125;0.133621x0.755)\n",
       "Parch     AxesSubplot(0.606034,0.125;0.133621x0.755)\n",
       "Fare      AxesSubplot(0.766379,0.125;0.133621x0.755)\n",
       "dtype: object"
      ]
     },
     "execution_count": 19,
     "metadata": {},
     "output_type": "execute_result"
    },
    {
     "data": {
      "image/png": "[encoded data removed]",
      "text/plain": [
       "<Figure size 432x288 with 5 Axes>"
      ]
     },
     "metadata": {},
     "output_type": "display_data"
    }
   ],
   "source": [
    "df.plot(kind='box', subplots=True)"
   ]
  },
  {
   "cell_type": "markdown",
   "metadata": {},
   "source": [
    "Slično histogramima, moguće je prikazati kutijasti dijagram za pojedinačne veličine."
   ]
  },
  {
   "cell_type": "code",
   "execution_count": 20,
   "metadata": {},
   "outputs": [
    {
     "data": {
      "text/plain": [
       "<matplotlib.axes._subplots.AxesSubplot at 0x230ae5bc7b8>"
      ]
     },
     "execution_count": 20,
     "metadata": {},
     "output_type": "execute_result"
    },
    {
     "data": {
      "image/png": "[encoded data removed]",
      "text/plain": [
       "<Figure size 432x288 with 1 Axes>"
      ]
     },
     "metadata": {},
     "output_type": "display_data"
    }
   ],
   "source": [
    "df['Fare'].plot(kind='box')"
   ]
  },
  {
   "cell_type": "markdown",
   "metadata": {},
   "source": [
    "## Rezime analize tipova i raspodele podataka"
   ]
  },
  {
   "cell_type": "markdown",
   "metadata": {},
   "source": [
    "Na osnovu svih koraka u statističkoj analizi individualnih veličina, možemo sažeti sve rezultate u sledeće tvrdnje.\n",
    "\n",
    "- Potrebno je izvršiti određene promene tipova veličina učitanih u DataFrame strukturu\n",
    "- Potrebno je rešiti problem nedostajućih podataka veličine Age\n",
    "- Potrebno je ukloniti veličinu Cabin (zbog velikog broja nedostajućih podataka), PassengerId (nema uticaja na verovatnoću preživljavanja) i Ticket (zbog nemogućnosti tumačenja značenja šifara karte)\n",
    "- Opseg veličina Age i Fare je značajno veći od opsega ostalih veličina.\n",
    "- Raspodela veličine Age je bliska normalnoj. Raspodele veličina Parch, SibSp i Fare su bliske eksponencijalnoj"
   ]
  }
 ],
 "metadata": {
  "kernelspec": {
   "display_name": "Python 3",
   "language": "python",
   "name": "python3"
  },
  "language_info": {
   "codemirror_mode": {
    "name": "ipython",
    "version": 3
   },
   "file_extension": ".py",
   "mimetype": "text/x-python",
   "name": "python",
   "nbconvert_exporter": "python",
   "pygments_lexer": "ipython3",
   "version": "3.7.3"
  }
 },
 "nbformat": 4,
 "nbformat_minor": 2
}
